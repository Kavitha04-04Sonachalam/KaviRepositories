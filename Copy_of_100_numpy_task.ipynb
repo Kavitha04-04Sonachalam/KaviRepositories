{
  "cells": [
    {
      "cell_type": "markdown",
      "id": "f44a2f2b",
      "metadata": {
        "id": "f44a2f2b"
      },
      "source": [
        "# 100 numpy exercises\n"
      ]
    },
    {
      "cell_type": "markdown",
      "id": "0fe3d529",
      "metadata": {
        "id": "0fe3d529"
      },
      "source": [
        "File automatically generated. See the documentation to update questions/answers/hints programmatically."
      ]
    },
    {
      "cell_type": "markdown",
      "id": "23296a93",
      "metadata": {
        "id": "23296a93"
      },
      "source": [
        "Run the `initialize.py` module, then for each question you can query the\n",
        "answer or an hint with `hint(n)` or `answer(n)` for `n` question number."
      ]
    },
    {
      "cell_type": "code",
      "execution_count": null,
      "id": "530390cf",
      "metadata": {
        "id": "530390cf"
      },
      "outputs": [],
      "source": [
        "%run initialise."
      ]
    },
    {
      "cell_type": "markdown",
      "id": "96443564",
      "metadata": {
        "id": "96443564"
      },
      "source": [
        "#### 1. Import the numpy package under the name `np` (★☆☆)"
      ]
    },
    {
      "cell_type": "code",
      "execution_count": null,
      "id": "ffe1047e",
      "metadata": {
        "id": "ffe1047e"
      },
      "outputs": [],
      "source": [
        "import numpy as np"
      ]
    },
    {
      "cell_type": "markdown",
      "id": "c807bf1d",
      "metadata": {
        "id": "c807bf1d"
      },
      "source": [
        "#### 2. Print the numpy version and the configuration (★☆☆)"
      ]
    },
    {
      "cell_type": "code",
      "execution_count": null,
      "id": "f396b717",
      "metadata": {
        "id": "f396b717",
        "outputId": "e14a58af-c57c-453f-ec1a-b1b2ed803af1",
        "colab": {
          "base_uri": "https://localhost:8080/"
        }
      },
      "outputs": [
        {
          "output_type": "stream",
          "name": "stdout",
          "text": [
            "1.23.5\n"
          ]
        }
      ],
      "source": [
        "#version\n",
        "print(np.__version__)"
      ]
    },
    {
      "cell_type": "code",
      "source": [
        "#configuration\n",
        "print(np.show_config())"
      ],
      "metadata": {
        "colab": {
          "base_uri": "https://localhost:8080/"
        },
        "id": "KsahNvot5LpY",
        "outputId": "96d1c65a-0599-448f-a03a-d417b230b126"
      },
      "id": "KsahNvot5LpY",
      "execution_count": null,
      "outputs": [
        {
          "output_type": "stream",
          "name": "stdout",
          "text": [
            "openblas64__info:\n",
            "    libraries = ['openblas64_', 'openblas64_']\n",
            "    library_dirs = ['/usr/local/lib']\n",
            "    language = c\n",
            "    define_macros = [('HAVE_CBLAS', None), ('BLAS_SYMBOL_SUFFIX', '64_'), ('HAVE_BLAS_ILP64', None)]\n",
            "    runtime_library_dirs = ['/usr/local/lib']\n",
            "blas_ilp64_opt_info:\n",
            "    libraries = ['openblas64_', 'openblas64_']\n",
            "    library_dirs = ['/usr/local/lib']\n",
            "    language = c\n",
            "    define_macros = [('HAVE_CBLAS', None), ('BLAS_SYMBOL_SUFFIX', '64_'), ('HAVE_BLAS_ILP64', None)]\n",
            "    runtime_library_dirs = ['/usr/local/lib']\n",
            "openblas64__lapack_info:\n",
            "    libraries = ['openblas64_', 'openblas64_']\n",
            "    library_dirs = ['/usr/local/lib']\n",
            "    language = c\n",
            "    define_macros = [('HAVE_CBLAS', None), ('BLAS_SYMBOL_SUFFIX', '64_'), ('HAVE_BLAS_ILP64', None), ('HAVE_LAPACKE', None)]\n",
            "    runtime_library_dirs = ['/usr/local/lib']\n",
            "lapack_ilp64_opt_info:\n",
            "    libraries = ['openblas64_', 'openblas64_']\n",
            "    library_dirs = ['/usr/local/lib']\n",
            "    language = c\n",
            "    define_macros = [('HAVE_CBLAS', None), ('BLAS_SYMBOL_SUFFIX', '64_'), ('HAVE_BLAS_ILP64', None), ('HAVE_LAPACKE', None)]\n",
            "    runtime_library_dirs = ['/usr/local/lib']\n",
            "Supported SIMD extensions in this NumPy install:\n",
            "    baseline = SSE,SSE2,SSE3\n",
            "    found = SSSE3,SSE41,POPCNT,SSE42,AVX,F16C,FMA3,AVX2\n",
            "    not found = AVX512F,AVX512CD,AVX512_KNL,AVX512_KNM,AVX512_SKX,AVX512_CLX,AVX512_CNL,AVX512_ICL\n",
            "None\n"
          ]
        }
      ]
    },
    {
      "cell_type": "markdown",
      "id": "572c1bdb",
      "metadata": {
        "id": "572c1bdb"
      },
      "source": [
        "#### 3. Create a null vector of size 10 (★☆☆)"
      ]
    },
    {
      "cell_type": "code",
      "execution_count": null,
      "id": "31c9f6a5",
      "metadata": {
        "id": "31c9f6a5",
        "colab": {
          "base_uri": "https://localhost:8080/"
        },
        "outputId": "a149dd0c-8f23-41ca-f0d3-1a4b72cb382f"
      },
      "outputs": [
        {
          "output_type": "stream",
          "name": "stdout",
          "text": [
            "[0. 0. 0. 0. 0. 0. 0. 0. 0. 0.]\n"
          ]
        }
      ],
      "source": [
        "import numpy as np\n",
        "#creating null vector\n",
        "null_vector = np.zeros(10)\n",
        "print(null_vector)"
      ]
    },
    {
      "cell_type": "markdown",
      "id": "337e6e36",
      "metadata": {
        "id": "337e6e36"
      },
      "source": [
        "#### 4. How to find the memory size of any array (★☆☆)"
      ]
    },
    {
      "cell_type": "code",
      "execution_count": null,
      "id": "31e8ec2e",
      "metadata": {
        "id": "31e8ec2e",
        "colab": {
          "base_uri": "https://localhost:8080/"
        },
        "outputId": "2ce5c99c-559d-41a2-ecbc-292f83d59770"
      },
      "outputs": [
        {
          "output_type": "execute_result",
          "data": {
            "text/plain": [
              "24"
            ]
          },
          "metadata": {},
          "execution_count": 11
        }
      ],
      "source": [
        "#memory size\n",
        "arr = np.array([10,2,3])\n",
        "memsize = arr.nbytes\n",
        "memsize"
      ]
    },
    {
      "cell_type": "markdown",
      "id": "166079c8",
      "metadata": {
        "id": "166079c8"
      },
      "source": [
        "#### 5. How to get the documentation of the numpy add function from the command line? (★☆☆)"
      ]
    },
    {
      "cell_type": "code",
      "execution_count": null,
      "id": "593cd80f",
      "metadata": {
        "id": "593cd80f",
        "colab": {
          "base_uri": "https://localhost:8080/"
        },
        "outputId": "17416e63-c7af-4a06-f18d-0b1ecc30d46a"
      },
      "outputs": [
        {
          "output_type": "stream",
          "name": "stdout",
          "text": [
            "\u001b[31mERROR: Could not find a version that satisfies the requirement pydoc (from versions: none)\u001b[0m\u001b[31m\n",
            "\u001b[0m\u001b[31mERROR: No matching distribution found for pydoc\u001b[0m\u001b[31m\n",
            "\u001b[0m"
          ]
        }
      ],
      "source": [
        "pip install pydoc"
      ]
    },
    {
      "cell_type": "code",
      "source": [
        "# Access documentation for the numpy.add function\n",
        "help(np.add)"
      ],
      "metadata": {
        "colab": {
          "base_uri": "https://localhost:8080/"
        },
        "id": "o278ed6HO5po",
        "outputId": "f86a28d5-89da-4d43-e259-1b0ae87990ed"
      },
      "id": "o278ed6HO5po",
      "execution_count": null,
      "outputs": [
        {
          "output_type": "stream",
          "name": "stdout",
          "text": [
            "Help on ufunc:\n",
            "\n",
            "add = <ufunc 'add'>\n",
            "    add(x1, x2, /, out=None, *, where=True, casting='same_kind', order='K', dtype=None, subok=True[, signature, extobj])\n",
            "    \n",
            "    Add arguments element-wise.\n",
            "    \n",
            "    Parameters\n",
            "    ----------\n",
            "    x1, x2 : array_like\n",
            "        The arrays to be added.\n",
            "        If ``x1.shape != x2.shape``, they must be broadcastable to a common\n",
            "        shape (which becomes the shape of the output).\n",
            "    out : ndarray, None, or tuple of ndarray and None, optional\n",
            "        A location into which the result is stored. If provided, it must have\n",
            "        a shape that the inputs broadcast to. If not provided or None,\n",
            "        a freshly-allocated array is returned. A tuple (possible only as a\n",
            "        keyword argument) must have length equal to the number of outputs.\n",
            "    where : array_like, optional\n",
            "        This condition is broadcast over the input. At locations where the\n",
            "        condition is True, the `out` array will be set to the ufunc result.\n",
            "        Elsewhere, the `out` array will retain its original value.\n",
            "        Note that if an uninitialized `out` array is created via the default\n",
            "        ``out=None``, locations within it where the condition is False will\n",
            "        remain uninitialized.\n",
            "    **kwargs\n",
            "        For other keyword-only arguments, see the\n",
            "        :ref:`ufunc docs <ufuncs.kwargs>`.\n",
            "    \n",
            "    Returns\n",
            "    -------\n",
            "    add : ndarray or scalar\n",
            "        The sum of `x1` and `x2`, element-wise.\n",
            "        This is a scalar if both `x1` and `x2` are scalars.\n",
            "    \n",
            "    Notes\n",
            "    -----\n",
            "    Equivalent to `x1` + `x2` in terms of array broadcasting.\n",
            "    \n",
            "    Examples\n",
            "    --------\n",
            "    >>> np.add(1.0, 4.0)\n",
            "    5.0\n",
            "    >>> x1 = np.arange(9.0).reshape((3, 3))\n",
            "    >>> x2 = np.arange(3.0)\n",
            "    >>> np.add(x1, x2)\n",
            "    array([[  0.,   2.,   4.],\n",
            "           [  3.,   5.,   7.],\n",
            "           [  6.,   8.,  10.]])\n",
            "    \n",
            "    The ``+`` operator can be used as a shorthand for ``np.add`` on ndarrays.\n",
            "    \n",
            "    >>> x1 = np.arange(9.0).reshape((3, 3))\n",
            "    >>> x2 = np.arange(3.0)\n",
            "    >>> x1 + x2\n",
            "    array([[ 0.,  2.,  4.],\n",
            "           [ 3.,  5.,  7.],\n",
            "           [ 6.,  8., 10.]])\n",
            "\n"
          ]
        }
      ]
    },
    {
      "cell_type": "markdown",
      "id": "3add7101",
      "metadata": {
        "id": "3add7101"
      },
      "source": [
        "#### 6. Create a null vector of size 10 but the fifth value which is 1 (★☆☆)"
      ]
    },
    {
      "cell_type": "code",
      "execution_count": null,
      "id": "2edf3c42",
      "metadata": {
        "id": "2edf3c42",
        "colab": {
          "base_uri": "https://localhost:8080/"
        },
        "outputId": "f15f3f21-f2dd-45f9-ed4e-da2a85851bcb"
      },
      "outputs": [
        {
          "output_type": "stream",
          "name": "stdout",
          "text": [
            "[0. 0. 0. 0. 1. 0. 0. 0. 0. 0.]\n"
          ]
        }
      ],
      "source": [
        "null_vector = np.zeros(10)\n",
        "#fifth value is one\n",
        "null_vector[4] = 1\n",
        "print(null_vector)"
      ]
    },
    {
      "cell_type": "markdown",
      "id": "cfc46304",
      "metadata": {
        "id": "cfc46304"
      },
      "source": [
        "#### 7. Create a vector with values ranging from 10 to 49 (★☆☆)"
      ]
    },
    {
      "cell_type": "code",
      "execution_count": null,
      "id": "d8b86640",
      "metadata": {
        "id": "d8b86640",
        "colab": {
          "base_uri": "https://localhost:8080/"
        },
        "outputId": "a5893d4a-474c-47e1-908e-6658f9d4fc96"
      },
      "outputs": [
        {
          "output_type": "stream",
          "name": "stdout",
          "text": [
            "[10 11 12 13 14 15 16 17 18 19 20 21 22 23 24 25 26 27 28 29 30 31 32 33\n",
            " 34 35 36 37 38 39 40 41 42 43 44 45 46 47 48 49]\n"
          ]
        }
      ],
      "source": [
        "#value 10-49\n",
        "vector = np.arange(10, 50)\n",
        "print(vector)"
      ]
    },
    {
      "cell_type": "markdown",
      "id": "0cc200be",
      "metadata": {
        "id": "0cc200be"
      },
      "source": [
        "#### 8. Reverse a vector (first element becomes last) (★☆☆)"
      ]
    },
    {
      "cell_type": "code",
      "execution_count": null,
      "id": "ec044bb5",
      "metadata": {
        "id": "ec044bb5",
        "colab": {
          "base_uri": "https://localhost:8080/"
        },
        "outputId": "4dea2d34-2a10-411e-9a17-bd62c0b5e116"
      },
      "outputs": [
        {
          "output_type": "stream",
          "name": "stdout",
          "text": [
            "[9 8 7 6 5 4 3 2 1 0]\n"
          ]
        }
      ],
      "source": [
        "vector = np.arange(10)\n",
        "#reverse the vector\n",
        "reversed_vector = vector[::-1]\n",
        "print(reversed_vector)"
      ]
    },
    {
      "cell_type": "markdown",
      "id": "29d9ede4",
      "metadata": {
        "id": "29d9ede4"
      },
      "source": [
        "#### 9. Create a 3x3 matrix with values ranging from 0 to 8 (★☆☆)"
      ]
    },
    {
      "cell_type": "code",
      "execution_count": null,
      "id": "d9e39043",
      "metadata": {
        "id": "d9e39043",
        "colab": {
          "base_uri": "https://localhost:8080/"
        },
        "outputId": "36f496fe-0b54-4457-db40-32035396faf3"
      },
      "outputs": [
        {
          "output_type": "stream",
          "name": "stdout",
          "text": [
            "[[0 1 2]\n",
            " [3 4 5]\n",
            " [6 7 8]]\n"
          ]
        }
      ],
      "source": [
        "#3x3 matrix\n",
        "matrix = np.arange(9).reshape(3, 3)\n",
        "print(matrix)"
      ]
    },
    {
      "cell_type": "markdown",
      "id": "88905ceb",
      "metadata": {
        "id": "88905ceb"
      },
      "source": [
        "#### 10. Find indices of non-zero elements from [1,2,0,0,4,0] (★☆☆)"
      ]
    },
    {
      "cell_type": "code",
      "execution_count": null,
      "id": "b2f3c90a",
      "metadata": {
        "id": "b2f3c90a",
        "outputId": "cfd195db-0222-4fc7-cebe-270c9da7e647",
        "colab": {
          "base_uri": "https://localhost:8080/"
        }
      },
      "outputs": [
        {
          "output_type": "stream",
          "name": "stdout",
          "text": [
            "(array([0, 1, 4]),)\n"
          ]
        }
      ],
      "source": [
        "arr = np.array([1, 2, 0, 0, 4, 0])\n",
        "#indices of nonzero value\n",
        "indices = np.nonzero(arr)\n",
        "print(indices)"
      ]
    },
    {
      "cell_type": "markdown",
      "id": "49603e91",
      "metadata": {
        "id": "49603e91"
      },
      "source": [
        "#### 11. Create a 3x3 identity matrix (★☆☆)"
      ]
    },
    {
      "cell_type": "code",
      "execution_count": null,
      "id": "5b607b5c",
      "metadata": {
        "id": "5b607b5c",
        "colab": {
          "base_uri": "https://localhost:8080/"
        },
        "outputId": "b5187743-e671-429c-8e59-b606480203ce"
      },
      "outputs": [
        {
          "output_type": "stream",
          "name": "stdout",
          "text": [
            "[[1. 0. 0.]\n",
            " [0. 1. 0.]\n",
            " [0. 0. 1.]]\n"
          ]
        }
      ],
      "source": [
        "#identity matrix\n",
        "identity_matrix = np.identity(3)\n",
        "print(identity_matrix)"
      ]
    },
    {
      "cell_type": "markdown",
      "id": "e15c249a",
      "metadata": {
        "id": "e15c249a"
      },
      "source": [
        "#### 12. Create a 3x3x3 array with random values (★☆☆)"
      ]
    },
    {
      "cell_type": "code",
      "execution_count": null,
      "id": "ab21ed50",
      "metadata": {
        "id": "ab21ed50",
        "colab": {
          "base_uri": "https://localhost:8080/"
        },
        "outputId": "3842b726-2ec8-4000-9c93-6e835fb8a048"
      },
      "outputs": [
        {
          "output_type": "stream",
          "name": "stdout",
          "text": [
            "[[[0.02091737 0.72754459 0.45066546]\n",
            "  [0.41963982 0.2704195  0.26422829]\n",
            "  [0.81030424 0.48241777 0.92251756]]\n",
            "\n",
            " [[0.12061149 0.50890987 0.81004109]\n",
            "  [0.59436294 0.24562145 0.70004246]\n",
            "  [0.19114129 0.94976673 0.88897993]]\n",
            "\n",
            " [[0.96604973 0.01297249 0.18576605]\n",
            "  [0.42570653 0.1187315  0.38109336]\n",
            "  [0.00324054 0.67548802 0.21872954]]]\n"
          ]
        }
      ],
      "source": [
        "#3x3x3 array\n",
        "array_random = np.random.random((3, 3, 3))\n",
        "print(array_random)"
      ]
    },
    {
      "cell_type": "markdown",
      "id": "157a129c",
      "metadata": {
        "id": "157a129c"
      },
      "source": [
        "#### 13. Create a 10x10 array with random values and find the minimum and maximum values (★☆☆)"
      ]
    },
    {
      "cell_type": "code",
      "execution_count": null,
      "id": "c0066de5",
      "metadata": {
        "id": "c0066de5",
        "colab": {
          "base_uri": "https://localhost:8080/"
        },
        "outputId": "67b009d5-78ed-4e8b-9aab-929e145b80d0"
      },
      "outputs": [
        {
          "output_type": "stream",
          "name": "stdout",
          "text": [
            "Array:\n",
            "[[0.05319968 0.54613877 0.40748268 0.98133487 0.52365472 0.90943638\n",
            "  0.3085003  0.00814553 0.09984753 0.81543048]\n",
            " [0.92920266 0.71273754 0.77713095 0.85460266 0.60803856 0.68171682\n",
            "  0.80391641 0.03227051 0.43138572 0.85943483]\n",
            " [0.56024656 0.35602382 0.07691512 0.16064376 0.42990931 0.89443231\n",
            "  0.8251266  0.80509582 0.21292743 0.50062829]\n",
            " [0.1104571  0.70705972 0.7053243  0.05120853 0.08211111 0.10091046\n",
            "  0.89806886 0.09501817 0.77610609 0.33898451]\n",
            " [0.0657242  0.09883447 0.36871456 0.6071919  0.93083011 0.58893166\n",
            "  0.93953289 0.84659402 0.12623626 0.14849261]\n",
            " [0.51563786 0.80584673 0.69951006 0.25206583 0.86385836 0.58091072\n",
            "  0.05749728 0.61349538 0.48980979 0.76003254]\n",
            " [0.56848807 0.22201006 0.0858136  0.42040077 0.75142148 0.67674563\n",
            "  0.85886845 0.6227463  0.01609346 0.63066997]\n",
            " [0.97441697 0.35385224 0.07677344 0.14081884 0.33189018 0.52596568\n",
            "  0.62016109 0.67724415 0.33345788 0.86200078]\n",
            " [0.75616444 0.86951004 0.63364475 0.22352983 0.01804459 0.28373949\n",
            "  0.55813637 0.94231094 0.06201678 0.91035998]\n",
            " [0.75472558 0.57186089 0.92765966 0.9940875  0.60028908 0.51098881\n",
            "  0.37456212 0.25856824 0.42298071 0.02898614]]\n"
          ]
        }
      ],
      "source": [
        "#10x10 array\n",
        "array_random = np.random.random((10, 10))\n",
        "print(\"Array:\")\n",
        "print(array_random)"
      ]
    },
    {
      "cell_type": "markdown",
      "id": "d92d7b32",
      "metadata": {
        "id": "d92d7b32"
      },
      "source": [
        "#### 14. Create a random vector of size 30 and find the mean value (★☆☆)"
      ]
    },
    {
      "cell_type": "code",
      "execution_count": null,
      "id": "9672d023",
      "metadata": {
        "id": "9672d023",
        "colab": {
          "base_uri": "https://localhost:8080/"
        },
        "outputId": "dc572556-ce32-496b-ff70-c43c263e3b1c"
      },
      "outputs": [
        {
          "output_type": "stream",
          "name": "stdout",
          "text": [
            "[0.96135925 0.41278333 0.83892271 0.29837917 0.86017515 0.2896546\n",
            " 0.62155338 0.77450157 0.41371766 0.63325891 0.18211341 0.45332721\n",
            " 0.77959471 0.26118599 0.27511017 0.59161875 0.04982726 0.35882246\n",
            " 0.42840329 0.44560441 0.40603577 0.84565397 0.063519   0.86112207\n",
            " 0.40736536 0.24153478 0.31567068 0.86727227 0.28017924 0.31939308]\n"
          ]
        }
      ],
      "source": [
        "#mean of array\n",
        "random_vector = np.random.random(30)\n",
        "print(random_vector)"
      ]
    },
    {
      "cell_type": "markdown",
      "id": "f361efc0",
      "metadata": {
        "id": "f361efc0"
      },
      "source": [
        "#### 15. Create a 2d array with 1 on the border and 0 inside (★☆☆)"
      ]
    },
    {
      "cell_type": "code",
      "execution_count": null,
      "id": "a55b6666",
      "metadata": {
        "id": "a55b6666",
        "colab": {
          "base_uri": "https://localhost:8080/"
        },
        "outputId": "40e04564-a5b1-4d8d-d334-441166a0fcac"
      },
      "outputs": [
        {
          "output_type": "execute_result",
          "data": {
            "text/plain": [
              "array([[1., 1., 1., 1., 1.],\n",
              "       [1., 0., 0., 0., 1.],\n",
              "       [1., 0., 0., 0., 1.],\n",
              "       [1., 0., 0., 0., 1.],\n",
              "       [1., 1., 1., 1., 1.]])"
            ]
          },
          "metadata": {},
          "execution_count": 34
        }
      ],
      "source": [
        "#border 1 in array\n",
        "array_2d = np.ones((5, 5))\n",
        "array_2d[1:-1, 1:-1] = 0\n",
        "array_2d"
      ]
    },
    {
      "cell_type": "markdown",
      "id": "475808cb",
      "metadata": {
        "id": "475808cb"
      },
      "source": [
        "#### 16. How to add a border (filled with 0's) around an existing array? (★☆☆)"
      ]
    },
    {
      "cell_type": "code",
      "source": [
        "#adding border\n",
        "existing_array = np.random.random((3, 3))\n",
        "new_array = np.pad(existing_array, pad_width=1, mode='constant', constant_values=0)\n",
        "\n",
        "print(\"Existing Array:\")\n",
        "print(existing_array)\n",
        "print(\"\\nArray with Border:\")\n",
        "print(new_array)"
      ],
      "metadata": {
        "colab": {
          "base_uri": "https://localhost:8080/"
        },
        "id": "_yYGe9bI-Apl",
        "outputId": "f91b7662-ae6d-4bd6-b7e9-5497ad1c6656"
      },
      "id": "_yYGe9bI-Apl",
      "execution_count": null,
      "outputs": [
        {
          "output_type": "stream",
          "name": "stdout",
          "text": [
            "Existing Array:\n",
            "[[0.15457149 0.27462872 0.66564962]\n",
            " [0.73980968 0.64781688 0.85256422]\n",
            " [0.89368554 0.81295429 0.47549352]]\n",
            "\n",
            "Array with Border:\n",
            "[[0.         0.         0.         0.         0.        ]\n",
            " [0.         0.15457149 0.27462872 0.66564962 0.        ]\n",
            " [0.         0.73980968 0.64781688 0.85256422 0.        ]\n",
            " [0.         0.89368554 0.81295429 0.47549352 0.        ]\n",
            " [0.         0.         0.         0.         0.        ]]\n"
          ]
        }
      ]
    },
    {
      "cell_type": "markdown",
      "id": "1af07d85",
      "metadata": {
        "id": "1af07d85"
      },
      "source": [
        "#### 17. What is the result of the following expression? (★☆☆)\n",
        "```python\n",
        "0 * np.nan\n",
        "np.nan == np.nan\n",
        "np.inf > np.nan\n",
        "np.nan - np.nan\n",
        "np.nan in set([np.nan])\n",
        "0.3 == 3 * 0.1\n",
        "```"
      ]
    },
    {
      "cell_type": "code",
      "execution_count": null,
      "id": "109cf327",
      "metadata": {
        "id": "109cf327"
      },
      "outputs": [],
      "source": [
        "1.nan #nan is not a number\n",
        "2.False #nan is not equal to any other value\n",
        "3.False # no comparison in nan\n",
        "4.nan. #it result in nan\n",
        "5.True #it consider nan as a element\n",
        "6.False #this values are not same"
      ]
    },
    {
      "cell_type": "markdown",
      "id": "6a235316",
      "metadata": {
        "id": "6a235316"
      },
      "source": [
        "#### 18. Create a 5x5 matrix with values 1,2,3,4 just below the diagonal (★☆☆)"
      ]
    },
    {
      "cell_type": "code",
      "execution_count": null,
      "id": "f2e6cfa6",
      "metadata": {
        "id": "f2e6cfa6",
        "colab": {
          "base_uri": "https://localhost:8080/"
        },
        "outputId": "b7da3779-03fd-4487-ef27-18e84765dd04"
      },
      "outputs": [
        {
          "output_type": "stream",
          "name": "stdout",
          "text": [
            "[[0 0 0 0 0]\n",
            " [1 0 0 0 0]\n",
            " [0 2 0 0 0]\n",
            " [0 0 3 0 0]\n",
            " [0 0 0 4 0]]\n"
          ]
        }
      ],
      "source": [
        "#diagonal has 1,2,3,4\n",
        "matrix = np.diag(1 + np.arange(4), k=-1)\n",
        "print(matrix)"
      ]
    },
    {
      "cell_type": "markdown",
      "id": "25362e98",
      "metadata": {
        "id": "25362e98"
      },
      "source": [
        "#### 19. Create a 8x8 matrix and fill it with a checkerboard pattern (★☆☆)"
      ]
    },
    {
      "cell_type": "code",
      "execution_count": null,
      "id": "cabdf298",
      "metadata": {
        "id": "cabdf298",
        "colab": {
          "base_uri": "https://localhost:8080/"
        },
        "outputId": "a792c34a-9024-4bb1-d17b-40581ffc12e9"
      },
      "outputs": [
        {
          "output_type": "stream",
          "name": "stdout",
          "text": [
            "[[0 1 0 1 0 1 0 1]\n",
            " [1 0 1 0 1 0 1 0]\n",
            " [0 1 0 1 0 1 0 1]\n",
            " [1 0 1 0 1 0 1 0]\n",
            " [0 1 0 1 0 1 0 1]\n",
            " [1 0 1 0 1 0 1 0]\n",
            " [0 1 0 1 0 1 0 1]\n",
            " [1 0 1 0 1 0 1 0]]\n"
          ]
        }
      ],
      "source": [
        "#checkboard\n",
        "matrix = np.zeros((8, 8), dtype=int)\n",
        "matrix[1::2, ::2] = 1\n",
        "matrix[::2, 1::2] = 1\n",
        "print(matrix)"
      ]
    },
    {
      "cell_type": "markdown",
      "id": "6431e977",
      "metadata": {
        "id": "6431e977"
      },
      "source": [
        "#### 20. Consider a (6,7,8) shape array, what is the index (x,y,z) of the 100th element? (★☆☆)"
      ]
    },
    {
      "cell_type": "code",
      "execution_count": null,
      "id": "de8b0245",
      "metadata": {
        "id": "de8b0245",
        "colab": {
          "base_uri": "https://localhost:8080/"
        },
        "outputId": "ab82ad38-98bd-42e7-f5d0-3fa11d378352"
      },
      "outputs": [
        {
          "output_type": "stream",
          "name": "stdout",
          "text": [
            "The index of the 100th element is (1, 5, 3)\n"
          ]
        }
      ],
      "source": [
        "#index of 100th value\n",
        "x, y, z = np.unravel_index(99, (6, 7, 8))\n",
        "print(f\"The index of the 100th element is ({x}, {y}, {z})\")"
      ]
    },
    {
      "cell_type": "markdown",
      "id": "31abe6fe",
      "metadata": {
        "id": "31abe6fe"
      },
      "source": [
        "#### 21. Create a checkerboard 8x8 matrix using the tile function (★☆☆)"
      ]
    },
    {
      "cell_type": "code",
      "execution_count": null,
      "id": "6da26fd3",
      "metadata": {
        "id": "6da26fd3",
        "colab": {
          "base_uri": "https://localhost:8080/"
        },
        "outputId": "3b661b7d-249f-4c21-d9ac-0331b4eb02ac"
      },
      "outputs": [
        {
          "output_type": "stream",
          "name": "stdout",
          "text": [
            "[[0 1 0 1 0 1 0 1]\n",
            " [1 0 1 0 1 0 1 0]\n",
            " [0 1 0 1 0 1 0 1]\n",
            " [1 0 1 0 1 0 1 0]\n",
            " [0 1 0 1 0 1 0 1]\n",
            " [1 0 1 0 1 0 1 0]\n",
            " [0 1 0 1 0 1 0 1]\n",
            " [1 0 1 0 1 0 1 0]]\n"
          ]
        }
      ],
      "source": [
        "#tile function in checkerboard\n",
        "checkerboard = np.tile([[0, 1], [1, 0]], (4, 4))\n",
        "print(checkerboard)"
      ]
    },
    {
      "cell_type": "markdown",
      "id": "fd88b3f4",
      "metadata": {
        "id": "fd88b3f4"
      },
      "source": [
        "#### 22. Normalize a 5x5 random matrix (★☆☆)"
      ]
    },
    {
      "cell_type": "code",
      "source": [
        "#5x5 matrix normalize\n",
        "matrix = np.random.random((5, 5))\n",
        "max_val = np.max(matrix)\n",
        "min_val = np.min(matrix)\n",
        "normalized_matrix = (matrix - min_val) / (max_val - min_val)\n",
        "print(normalized_matrix)"
      ],
      "metadata": {
        "colab": {
          "base_uri": "https://localhost:8080/"
        },
        "id": "bjemRsc2B5NF",
        "outputId": "41769379-0244-4d5c-f29c-378f19ec4467"
      },
      "id": "bjemRsc2B5NF",
      "execution_count": null,
      "outputs": [
        {
          "output_type": "stream",
          "name": "stdout",
          "text": [
            "[[0.39785556 0.86145578 0.21547988 0.73687596 0.16576462]\n",
            " [0.0681674  0.3189121  0.03265868 1.         0.91182609]\n",
            " [0.18736435 0.96607478 0.90282092 0.4432824  0.41910303]\n",
            " [0.88036333 0.         0.10202878 0.58215232 0.83254796]\n",
            " [0.85761014 0.16248913 0.2366863  0.92064305 0.41791658]]\n"
          ]
        }
      ]
    },
    {
      "cell_type": "markdown",
      "id": "464d8590",
      "metadata": {
        "id": "464d8590"
      },
      "source": [
        "#### 23. Create a custom dtype that describes a color as four unsigned bytes (RGBA) (★☆☆)"
      ]
    },
    {
      "cell_type": "code",
      "execution_count": null,
      "id": "e2f9cfc6",
      "metadata": {
        "id": "e2f9cfc6",
        "colab": {
          "base_uri": "https://localhost:8080/"
        },
        "outputId": "3ecea39f-0535-495a-c2b2-a1fddb3756b3"
      },
      "outputs": [
        {
          "output_type": "stream",
          "name": "stdout",
          "text": [
            "[('R', 'u1'), ('G', 'u1'), ('B', 'u1'), ('A', 'u1')]\n"
          ]
        }
      ],
      "source": [
        "#RGBA\n",
        "custom_dtype = np.dtype([('R', np.uint8), ('G', np.uint8), ('B', np.uint8), ('A', np.uint8)])\n",
        "print(custom_dtype)"
      ]
    },
    {
      "cell_type": "markdown",
      "id": "06c63bb3",
      "metadata": {
        "id": "06c63bb3"
      },
      "source": [
        "#### 24. Multiply a 5x3 matrix by a 3x2 matrix (real matrix product) (★☆☆)"
      ]
    },
    {
      "cell_type": "code",
      "execution_count": null,
      "id": "9fc0d553",
      "metadata": {
        "id": "9fc0d553",
        "colab": {
          "base_uri": "https://localhost:8080/"
        },
        "outputId": "1129f1d3-1d81-42d2-9e98-e96861a8a2a4"
      },
      "outputs": [
        {
          "output_type": "stream",
          "name": "stdout",
          "text": [
            "[[1.0922769  0.88453372]\n",
            " [0.60963043 0.64448678]\n",
            " [1.26521318 1.13940636]\n",
            " [1.16446678 0.95676376]\n",
            " [0.74056064 0.72137435]]\n"
          ]
        }
      ],
      "source": [
        "#matrix multiplication\n",
        "matrix_a = np.random.random((5, 3))\n",
        "matrix_b = np.random.random((3, 2))\n",
        "result_matrix = np.dot(matrix_a, matrix_b)\n",
        "print(result_matrix)"
      ]
    },
    {
      "cell_type": "markdown",
      "id": "76fa6285",
      "metadata": {
        "id": "76fa6285"
      },
      "source": [
        "#### 25. Given a 1D array, negate all elements which are between 3 and 8, in place. (★☆☆)"
      ]
    },
    {
      "cell_type": "code",
      "execution_count": null,
      "id": "0e25eca7",
      "metadata": {
        "id": "0e25eca7",
        "colab": {
          "base_uri": "https://localhost:8080/"
        },
        "outputId": "fc0a7c5c-72b7-401a-98ee-3023a3228646"
      },
      "outputs": [
        {
          "output_type": "stream",
          "name": "stdout",
          "text": [
            "[ 3  1 -4 -6  8 -5  3  1  9  9]\n"
          ]
        }
      ],
      "source": [
        "#negate the elements\n",
        "array = np.random.randint(1, 10, 10)\n",
        "array[(array > 3) & (array < 8)] *= -1\n",
        "\n",
        "print(array)"
      ]
    },
    {
      "cell_type": "markdown",
      "id": "930ed8bb",
      "metadata": {
        "id": "930ed8bb"
      },
      "source": [
        "#### 26. What is the output of the following script? (★☆☆)\n",
        "```python\n",
        "# Author: Jake VanderPlas\n",
        "\n",
        "print(sum(range(5),-1))\n",
        "from numpy import *\n",
        "print(sum(range(5),-1))\n",
        "```"
      ]
    },
    {
      "cell_type": "code",
      "execution_count": null,
      "id": "f02eedba",
      "metadata": {
        "id": "f02eedba"
      },
      "outputs": [],
      "source": [
        "9 #sum without using numpy function\n",
        "10 #sum using numpy function"
      ]
    },
    {
      "cell_type": "markdown",
      "id": "177120e7",
      "metadata": {
        "id": "177120e7"
      },
      "source": [
        "#### 27. Consider an integer vector Z, which of these expressions are legal? (★☆☆)\n",
        "```python\n",
        "Z**Z\n",
        "2 << Z >> 2\n",
        "Z <- Z\n",
        "1j*Z\n",
        "Z/1/1\n",
        "Z<Z>Z\n",
        "```"
      ]
    },
    {
      "cell_type": "code",
      "execution_count": null,
      "id": "86d6cbef",
      "metadata": {
        "id": "86d6cbef"
      },
      "outputs": [],
      "source": [
        "1.legal #z to the power of z\n",
        "2.legal #it perform bitwise leftshift&rightshift\n",
        "3.legal #it compare < operator\n",
        "4.legal #multiply the elements with imaginary\n",
        "5.legal #perform division on element\n",
        "6.not legal #perform <&> simultaneously"
      ]
    },
    {
      "cell_type": "markdown",
      "id": "a6eaf0e8",
      "metadata": {
        "id": "a6eaf0e8"
      },
      "source": [
        "#### 28. What are the result of the following expressions? (★☆☆)\n",
        "```python\n",
        "np.array(0) / np.array(0)\n",
        "np.array(0) // np.array(0)\n",
        "np.array([np.nan]).astype(int).astype(float)\n",
        "```"
      ]
    },
    {
      "cell_type": "code",
      "execution_count": null,
      "id": "93684068",
      "metadata": {
        "id": "93684068"
      },
      "outputs": [],
      "source": [
        "1.nan #division by 0, it result in nan\n",
        "2.ZeroDivisionError #it result in error\n",
        "3.0.0 #it converts nan into integer &then float"
      ]
    },
    {
      "cell_type": "markdown",
      "id": "524b65f8",
      "metadata": {
        "id": "524b65f8"
      },
      "source": [
        "#### 29. How to round away from zero a float array ? (★☆☆)"
      ]
    },
    {
      "cell_type": "code",
      "execution_count": null,
      "id": "61fbb78e",
      "metadata": {
        "id": "61fbb78e",
        "colab": {
          "base_uri": "https://localhost:8080/"
        },
        "outputId": "4c5386fd-61c7-4d58-b7e4-37200cd64c1c"
      },
      "outputs": [
        {
          "output_type": "stream",
          "name": "stdout",
          "text": [
            "[-2.  2. -3.  3.]\n"
          ]
        }
      ],
      "source": [
        "#round away the floatarray\n",
        "float_array = np.array([-1.5, 1.5, -2.7, 2.7])\n",
        "rounded_array = np.fix(float_array + 0.5 - (float_array < 0))\n",
        "print(rounded_array)"
      ]
    },
    {
      "cell_type": "markdown",
      "id": "8dc40752",
      "metadata": {
        "id": "8dc40752"
      },
      "source": [
        "#### 30. How to find common values between two arrays? (★☆☆)"
      ]
    },
    {
      "cell_type": "code",
      "execution_count": null,
      "id": "54399cbe",
      "metadata": {
        "id": "54399cbe",
        "colab": {
          "base_uri": "https://localhost:8080/"
        },
        "outputId": "bc8ce176-1730-4873-99e7-894cc57e8a15"
      },
      "outputs": [
        {
          "output_type": "stream",
          "name": "stdout",
          "text": [
            "[30 40 50]\n"
          ]
        }
      ],
      "source": [
        "#commom values\n",
        "array1 = np.array([10, 20, 30, 40, 50])\n",
        "array2 = np.array([30, 40, 50, 60, 70])\n",
        "common_values = np.intersect1d(array1, array2)\n",
        "print(common_values)"
      ]
    },
    {
      "cell_type": "markdown",
      "id": "b7f38e21",
      "metadata": {
        "id": "b7f38e21"
      },
      "source": [
        "#### 31. How to ignore all numpy warnings (not recommended)? (★☆☆)"
      ]
    },
    {
      "cell_type": "code",
      "execution_count": null,
      "id": "2ca3289c",
      "metadata": {
        "id": "2ca3289c"
      },
      "outputs": [],
      "source": [
        "\n",
        "import warnings\n",
        "import numpy as np\n",
        "\n",
        "# Ignore all NumPy warnings\n",
        "warnings.filterwarnings('ignore')\n",
        "\n",
        "# Your code here"
      ]
    },
    {
      "cell_type": "markdown",
      "id": "2d850aab",
      "metadata": {
        "id": "2d850aab"
      },
      "source": [
        "#### 32. Is the following expressions true? (★☆☆)\n",
        "```python\n",
        "np.sqrt(-1) == np.emath.sqrt(-1)\n",
        "```"
      ]
    },
    {
      "cell_type": "code",
      "execution_count": null,
      "id": "5c83ffce",
      "metadata": {
        "id": "5c83ffce"
      },
      "outputs": [],
      "source": [
        "False #ot returns nan and then returns complex imaginary value"
      ]
    },
    {
      "cell_type": "markdown",
      "id": "5c4a556f",
      "metadata": {
        "id": "5c4a556f"
      },
      "source": [
        "#### 33. How to get the dates of yesterday, today and tomorrow? (★☆☆)"
      ]
    },
    {
      "cell_type": "code",
      "execution_count": null,
      "id": "c3b683a0",
      "metadata": {
        "id": "c3b683a0",
        "colab": {
          "base_uri": "https://localhost:8080/"
        },
        "outputId": "2096dd3f-2f2c-42d1-a104-5b831b8dd61f"
      },
      "outputs": [
        {
          "output_type": "stream",
          "name": "stdout",
          "text": [
            "Yesterday: 2023-11-07\n",
            "Today: 2023-11-08\n",
            "Tomorrow: 2023-11-09\n"
          ]
        }
      ],
      "source": [
        "#dates\n",
        "from datetime import datetime, timedelta\n",
        "today = datetime.now().date()\n",
        "yesterday = today - timedelta(days=1)\n",
        "tomorrow = today + timedelta(days=1)\n",
        "\n",
        "print(\"Yesterday:\", yesterday)\n",
        "print(\"Today:\", today)\n",
        "print(\"Tomorrow:\", tomorrow)"
      ]
    },
    {
      "cell_type": "markdown",
      "id": "453cdd64",
      "metadata": {
        "id": "453cdd64"
      },
      "source": [
        "#### 34. How to get all the dates corresponding to the month of July 2016? (★★☆)"
      ]
    },
    {
      "cell_type": "code",
      "execution_count": null,
      "id": "4ba4d37c",
      "metadata": {
        "id": "4ba4d37c",
        "colab": {
          "base_uri": "https://localhost:8080/"
        },
        "outputId": "bc6ae1a4-5cc5-47c0-cd2d-2c93abd9b547"
      },
      "outputs": [
        {
          "output_type": "stream",
          "name": "stdout",
          "text": [
            "2016-07-01\n",
            "2016-07-02\n",
            "2016-07-03\n",
            "2016-07-04\n",
            "2016-07-05\n",
            "2016-07-06\n",
            "2016-07-07\n",
            "2016-07-08\n",
            "2016-07-09\n",
            "2016-07-10\n",
            "2016-07-11\n",
            "2016-07-12\n",
            "2016-07-13\n",
            "2016-07-14\n",
            "2016-07-15\n",
            "2016-07-16\n",
            "2016-07-17\n",
            "2016-07-18\n",
            "2016-07-19\n",
            "2016-07-20\n",
            "2016-07-21\n",
            "2016-07-22\n",
            "2016-07-23\n",
            "2016-07-24\n",
            "2016-07-25\n",
            "2016-07-26\n",
            "2016-07-27\n",
            "2016-07-28\n",
            "2016-07-29\n",
            "2016-07-30\n",
            "2016-07-31\n"
          ]
        }
      ],
      "source": [
        "#specific month date\n",
        "from datetime import datetime, timedelta\n",
        "\n",
        "# Define the start and end dates for July 2016\n",
        "start_date = datetime(2016, 7, 1)\n",
        "end_date = datetime(2016, 8, 1)\n",
        "\n",
        "# Iterate over the dates and print each date within the specified range\n",
        "current_date = start_date\n",
        "while current_date < end_date:\n",
        "    print(current_date.date())\n",
        "    current_date += timedelta(days=1)"
      ]
    },
    {
      "cell_type": "markdown",
      "id": "52667b6e",
      "metadata": {
        "id": "52667b6e"
      },
      "source": [
        "#### 35. How to compute ((A+B)*(-A/2)) in place (without copy)? (★★☆)"
      ]
    },
    {
      "cell_type": "code",
      "execution_count": null,
      "id": "e6e7c030",
      "metadata": {
        "id": "e6e7c030",
        "colab": {
          "base_uri": "https://localhost:8080/"
        },
        "outputId": "7d6aa333-c60d-48d6-d429-0eba7d3eb886"
      },
      "outputs": [
        {
          "output_type": "stream",
          "name": "stdout",
          "text": [
            "[ -2  -7 -13]\n"
          ]
        }
      ],
      "source": [
        "\n",
        "# Create the arrays A and B\n",
        "A = np.array([1, 2, 3])\n",
        "B = np.array([4, 5, 6])\n",
        "\n",
        "# Perform the computation in place\n",
        "A[:] = (A + B) * (-A / 2)\n",
        "\n",
        "# Print the updated A array\n",
        "print(A)"
      ]
    },
    {
      "cell_type": "markdown",
      "id": "9a8f3738",
      "metadata": {
        "id": "9a8f3738"
      },
      "source": [
        "#### 36. Extract the integer part of a random array of positive numbers using 4 different methods (★★☆)"
      ]
    },
    {
      "cell_type": "code",
      "execution_count": null,
      "id": "368a801a",
      "metadata": {
        "id": "368a801a",
        "colab": {
          "base_uri": "https://localhost:8080/"
        },
        "outputId": "b9a58b6f-5fa4-4baa-952d-c2ca78bebde6"
      },
      "outputs": [
        {
          "output_type": "stream",
          "name": "stdout",
          "text": [
            "Method 1: [2. 9. 4. 4. 3.]\n",
            "Method 2: [2 9 4 4 3]\n",
            "Method 3: [2. 9. 4. 4. 3.]\n",
            "Method 4: [2, 9, 4, 4, 3]\n"
          ]
        }
      ],
      "source": [
        "\n",
        "# Create a random array of positive numbers\n",
        "random_array = np.random.rand(5) * 10\n",
        "\n",
        "# Method 1: Using NumPy floor function\n",
        "integer_part_1 = np.floor(random_array)\n",
        "print(\"Method 1:\", integer_part_1)\n",
        "# Method 2: Using NumPy astype function\n",
        "integer_part_2 = random_array.astype(int)\n",
        "print(\"Method 2:\", integer_part_2)\n",
        "# Method 3: Using NumPy trunc function\n",
        "integer_part_3 = np.trunc(random_array)\n",
        "print(\"Method 3:\", integer_part_3)\n",
        "# Method 4: Using Python's map and int functions\n",
        "integer_part_4 = list(map(int, random_array))\n",
        "print(\"Method 4:\", integer_part_4)"
      ]
    },
    {
      "cell_type": "markdown",
      "id": "cab1eed1",
      "metadata": {
        "id": "cab1eed1"
      },
      "source": [
        "#### 37. Create a 5x5 matrix with row values ranging from 0 to 4 (★★☆)"
      ]
    },
    {
      "cell_type": "code",
      "execution_count": null,
      "id": "f1b579ba",
      "metadata": {
        "id": "f1b579ba",
        "colab": {
          "base_uri": "https://localhost:8080/"
        },
        "outputId": "967ab64a-c7a7-433a-cc95-588ad5e4f202"
      },
      "outputs": [
        {
          "output_type": "stream",
          "name": "stdout",
          "text": [
            "[[0. 1. 2. 3. 4.]\n",
            " [0. 1. 2. 3. 4.]\n",
            " [0. 1. 2. 3. 4.]\n",
            " [0. 1. 2. 3. 4.]\n",
            " [0. 1. 2. 3. 4.]]\n"
          ]
        }
      ],
      "source": [
        "#row value\n",
        "matrix = np.zeros((5, 5))\n",
        "matrix += np.arange(5)\n",
        "\n",
        "print(matrix)"
      ]
    },
    {
      "cell_type": "markdown",
      "id": "cd0ce6b1",
      "metadata": {
        "id": "cd0ce6b1"
      },
      "source": [
        "#### 38. Consider a generator function that generates 10 integers and use it to build an array (★☆☆)"
      ]
    },
    {
      "cell_type": "code",
      "execution_count": null,
      "id": "aab193a6",
      "metadata": {
        "id": "aab193a6",
        "colab": {
          "base_uri": "https://localhost:8080/"
        },
        "outputId": "20ebe7f7-9258-4380-dea5-c7fdfb29c23a"
      },
      "outputs": [
        {
          "output_type": "stream",
          "name": "stdout",
          "text": [
            "[0 1 2 3 4 5 6 7 8 9]\n"
          ]
        }
      ],
      "source": [
        "#build in array\n",
        "def generate_integers():\n",
        "    for i in range(10):\n",
        "        yield i\n",
        "\n",
        "# Using the generator function to build an array\n",
        "array = np.fromiter(generate_integers(), dtype=int, count=10)\n",
        "\n",
        "print(array)"
      ]
    },
    {
      "cell_type": "markdown",
      "id": "c4c942d1",
      "metadata": {
        "id": "c4c942d1"
      },
      "source": [
        "#### 39. Create a vector of size 10 with values ranging from 0 to 1, both excluded (★★☆)"
      ]
    },
    {
      "cell_type": "code",
      "execution_count": null,
      "id": "e42eaa4b",
      "metadata": {
        "id": "e42eaa4b",
        "colab": {
          "base_uri": "https://localhost:8080/"
        },
        "outputId": "192df3a8-5002-4f92-9fd6-8713534f5524"
      },
      "outputs": [
        {
          "output_type": "stream",
          "name": "stdout",
          "text": [
            "[0.09090909 0.18181818 0.27272727 0.36363636 0.45454545 0.54545455\n",
            " 0.63636364 0.72727273 0.81818182 0.90909091]\n"
          ]
        }
      ],
      "source": [
        "\n",
        "vector = np.linspace(0, 1, 12)[1:-1]\n",
        "print(vector)"
      ]
    },
    {
      "cell_type": "markdown",
      "id": "9b3cb8d2",
      "metadata": {
        "id": "9b3cb8d2"
      },
      "source": [
        "#### 40. Create a random vector of size 10 and sort it (★★☆)"
      ]
    },
    {
      "cell_type": "code",
      "execution_count": null,
      "id": "37d2b341",
      "metadata": {
        "id": "37d2b341",
        "colab": {
          "base_uri": "https://localhost:8080/"
        },
        "outputId": "8c2f6196-7c80-4017-9da0-f92f36ed2970"
      },
      "outputs": [
        {
          "output_type": "stream",
          "name": "stdout",
          "text": [
            "[0.04392486 0.08311878 0.33734231 0.61378906 0.64364695 0.69717936\n",
            " 0.72212345 0.72573155 0.78347669 0.78835392]\n"
          ]
        }
      ],
      "source": [
        "\n",
        "random_vector = np.random.rand(10)\n",
        "\n",
        "# Sorting the vector\n",
        "sorted_vector = np.sort(random_vector)\n",
        "\n",
        "print(sorted_vector)"
      ]
    },
    {
      "cell_type": "markdown",
      "id": "2facfddc",
      "metadata": {
        "id": "2facfddc"
      },
      "source": [
        "#### 41. How to sum a small array faster than np.sum? (★★☆)"
      ]
    },
    {
      "cell_type": "code",
      "execution_count": null,
      "id": "4bb8864f",
      "metadata": {
        "id": "4bb8864f",
        "colab": {
          "base_uri": "https://localhost:8080/"
        },
        "outputId": "5788a42e-e83d-4a32-f6b8-6f2fb1680049"
      },
      "outputs": [
        {
          "output_type": "stream",
          "name": "stdout",
          "text": [
            "15\n"
          ]
        }
      ],
      "source": [
        "\n",
        "small_array = np.array([1, 2, 3, 4, 5])\n",
        "\n",
        "# Summing the small array faster than np.sum\n",
        "sum_result = np.add.reduce(small_array)\n",
        "\n",
        "print(sum_result)"
      ]
    },
    {
      "cell_type": "markdown",
      "id": "539cd2a5",
      "metadata": {
        "id": "539cd2a5"
      },
      "source": [
        "#### 42. Consider two random array A and B, check if they are equal (★★☆)"
      ]
    },
    {
      "cell_type": "code",
      "execution_count": null,
      "id": "5246d7bf",
      "metadata": {
        "id": "5246d7bf",
        "colab": {
          "base_uri": "https://localhost:8080/"
        },
        "outputId": "13e1ae86-2d86-4f83-e016-6a16d8dd1a11"
      },
      "outputs": [
        {
          "output_type": "stream",
          "name": "stdout",
          "text": [
            "[0.16382136 0.16769417 0.73759652 0.57233021 0.86667461]\n",
            "[0.06288431 0.5771562  0.39473064 0.8221456  0.69182118]\n",
            "Are A and B equal? False\n"
          ]
        }
      ],
      "source": [
        "\n",
        "A = np.random.rand(5)\n",
        "B = np.random.rand(5)\n",
        "\n",
        "# Checking if the arrays are equal\n",
        "are_equal = np.array_equal(A, B)\n",
        "print(A)\n",
        "print(B)\n",
        "print(\"Are A and B equal?\", are_equal)"
      ]
    },
    {
      "cell_type": "markdown",
      "id": "448f8274",
      "metadata": {
        "id": "448f8274"
      },
      "source": [
        "#### 43. Make an array immutable (read-only) (★★☆)"
      ]
    },
    {
      "cell_type": "code",
      "execution_count": null,
      "id": "7cf2b3dd",
      "metadata": {
        "id": "7cf2b3dd",
        "colab": {
          "base_uri": "https://localhost:8080/"
        },
        "outputId": "2b0fd0ba-0fdc-406b-8156-a99074e90ccc"
      },
      "outputs": [
        {
          "output_type": "stream",
          "name": "stdout",
          "text": [
            "Error: assignment destination is read-only\n"
          ]
        }
      ],
      "source": [
        "\n",
        "array = np.array([1, 2, 3, 4, 5])\n",
        "\n",
        "# Making the array immutable (read-only)\n",
        "array.flags.writeable = False\n",
        "\n",
        "# Try to modify the array\n",
        "try:\n",
        "    array[0] = 10\n",
        "except ValueError as e:\n",
        "    print(f\"Error: {e}\")"
      ]
    },
    {
      "cell_type": "markdown",
      "id": "d7b7aaf3",
      "metadata": {
        "id": "d7b7aaf3"
      },
      "source": [
        "#### 44. Consider a random 10x2 matrix representing cartesian coordinates, convert them to polar coordinates (★★☆)"
      ]
    },
    {
      "cell_type": "code",
      "execution_count": null,
      "id": "e2337585",
      "metadata": {
        "id": "e2337585",
        "colab": {
          "base_uri": "https://localhost:8080/"
        },
        "outputId": "042bb1ba-8245-445c-9c71-506eea1b158e"
      },
      "outputs": [
        {
          "output_type": "stream",
          "name": "stdout",
          "text": [
            "Cartesian Coordinates:\n",
            "[[0.80960527 0.9056551 ]\n",
            " [0.01505816 0.55890007]\n",
            " [0.92131919 0.93824601]\n",
            " [0.83631741 0.73812367]\n",
            " [0.89654266 0.93751739]\n",
            " [0.82803037 0.09992104]\n",
            " [0.38868495 0.46453573]\n",
            " [0.2471917  0.49850299]\n",
            " [0.91864605 0.16315211]\n",
            " [0.95737985 0.4247347 ]]\n",
            "\n",
            "Polar Coordinates:\n",
            "[[1.21477234 0.84133697]\n",
            " [0.55910289 1.54386036]\n",
            " [1.31496563 0.79450048]\n",
            " [1.11546105 0.72311148]\n",
            " [1.29719991 0.80773544]\n",
            " [0.83403748 0.12009248]\n",
            " [0.60569747 0.87406444]\n",
            " [0.55642516 1.11045975]\n",
            " [0.93302153 0.17576789]\n",
            " [1.04736609 0.41755474]]\n"
          ]
        }
      ],
      "source": [
        "\n",
        "# Creating a random 10x2 matrix representing cartesian coordinates\n",
        "cartesian_coordinates = np.random.random((10, 2))\n",
        "\n",
        "# Extracting x and y coordinates\n",
        "x = cartesian_coordinates[:, 0]\n",
        "y = cartesian_coordinates[:, 1]\n",
        "\n",
        "# Converting to polar coordinates\n",
        "r = np.sqrt(x**2 + y**2)\n",
        "theta = np.arctan2(y, x)\n",
        "\n",
        "# Stacking r and theta to form the polar coordinates\n",
        "polar_coordinates = np.column_stack((r, theta))\n",
        "\n",
        "print(\"Cartesian Coordinates:\")\n",
        "print(cartesian_coordinates)\n",
        "print(\"\\nPolar Coordinates:\")\n",
        "print(polar_coordinates)"
      ]
    },
    {
      "cell_type": "markdown",
      "id": "a556027a",
      "metadata": {
        "id": "a556027a"
      },
      "source": [
        "#### 45. Create random vector of size 10 and replace the maximum value by 0 (★★☆)"
      ]
    },
    {
      "cell_type": "code",
      "execution_count": null,
      "id": "9e07cb87",
      "metadata": {
        "id": "9e07cb87",
        "colab": {
          "base_uri": "https://localhost:8080/"
        },
        "outputId": "35bec7ec-dc73-4371-de2d-9babf613fe34"
      },
      "outputs": [
        {
          "output_type": "stream",
          "name": "stdout",
          "text": [
            "[0.11985983 0.42263861 0.74159239 0.92069545 0.67642631 0.1872595\n",
            " 0.67464609 0.87966817 0.5548686  0.26214642]\n",
            "[0.11985983 0.42263861 0.74159239 0.         0.67642631 0.1872595\n",
            " 0.67464609 0.87966817 0.5548686  0.26214642]\n"
          ]
        }
      ],
      "source": [
        "\n",
        "random_vector = np.random.random(10)\n",
        "print(random_vector)\n",
        "# Replacing the maximum value by 0\n",
        "random_vector[random_vector.argmax()] = 0\n",
        "print(random_vector)"
      ]
    },
    {
      "cell_type": "markdown",
      "id": "004f3da1",
      "metadata": {
        "id": "004f3da1"
      },
      "source": [
        "#### 46. Create a structured array with `x` and `y` coordinates covering the [0,1]x[0,1] area (★★☆)"
      ]
    },
    {
      "cell_type": "code",
      "execution_count": null,
      "id": "b3824741",
      "metadata": {
        "id": "b3824741",
        "colab": {
          "base_uri": "https://localhost:8080/"
        },
        "outputId": "64f75658-cfba-45cb-c869-7ba35e4b5312"
      },
      "outputs": [
        {
          "output_type": "stream",
          "name": "stdout",
          "text": [
            "[(0.97893235, 0.25514408) (0.73336382, 0.68940692)\n",
            " (0.85648567, 0.17441874) (0.91593034, 0.85716023)\n",
            " (0.40496743, 0.72167533) (0.14449865, 0.20137269)\n",
            " (0.35866728, 0.06498465) (0.49351854, 0.05309742)\n",
            " (0.04654864, 0.54294174) (0.67451187, 0.37168142)]\n"
          ]
        }
      ],
      "source": [
        "\n",
        "structured_array = np.zeros(10, dtype=[('x', float), ('y', float)])\n",
        "structured_array['x'] = np.random.rand(10)\n",
        "structured_array['y'] = np.random.rand(10)\n",
        "print(structured_array)"
      ]
    },
    {
      "cell_type": "markdown",
      "id": "1c0adc0d",
      "metadata": {
        "id": "1c0adc0d"
      },
      "source": [
        "#### 47. Given two arrays, X and Y, construct the Cauchy matrix C (Cij =1/(xi - yj)) (★★☆)"
      ]
    },
    {
      "cell_type": "code",
      "execution_count": null,
      "id": "01b3bbb7",
      "metadata": {
        "id": "01b3bbb7",
        "colab": {
          "base_uri": "https://localhost:8080/"
        },
        "outputId": "ddf70bf5-f5d2-4586-cfd8-8ce9ab86c218"
      },
      "outputs": [
        {
          "output_type": "stream",
          "name": "stdout",
          "text": [
            "[[-0.2        -0.16666667 -0.14285714 -0.125      -0.11111111]\n",
            " [-0.25       -0.2        -0.16666667 -0.14285714 -0.125     ]\n",
            " [-0.33333333 -0.25       -0.2        -0.16666667 -0.14285714]\n",
            " [-0.5        -0.33333333 -0.25       -0.2        -0.16666667]\n",
            " [-1.         -0.5        -0.33333333 -0.25       -0.2       ]]\n"
          ]
        }
      ],
      "source": [
        "\n",
        "# Define the arrays X and Y\n",
        "X = np.array([1, 2, 3, 4, 5])\n",
        "Y = np.array([6, 7, 8, 9, 10])\n",
        "\n",
        "# Constructing the Cauchy matrix C\n",
        "C = 1.0 / (X[:, None] - Y)\n",
        "\n",
        "print(C)"
      ]
    },
    {
      "cell_type": "markdown",
      "id": "c8a2f65a",
      "metadata": {
        "id": "c8a2f65a"
      },
      "source": [
        "#### 48. Print the minimum and maximum representable value for each numpy scalar type (★★☆)"
      ]
    },
    {
      "cell_type": "code",
      "execution_count": null,
      "id": "35d844d6",
      "metadata": {
        "id": "35d844d6",
        "colab": {
          "base_uri": "https://localhost:8080/"
        },
        "outputId": "7999834b-1790-4393-8236-8bb8538fd287"
      },
      "outputs": [
        {
          "output_type": "stream",
          "name": "stdout",
          "text": [
            "Minimum representable value for <class 'numpy.int8'>: -128\n",
            "Maximum representable value for <class 'numpy.int8'>: 127\n",
            "Minimum representable value for <class 'numpy.int16'>: -32768\n",
            "Maximum representable value for <class 'numpy.int16'>: 32767\n",
            "Minimum representable value for <class 'numpy.int32'>: -2147483648\n",
            "Maximum representable value for <class 'numpy.int32'>: 2147483647\n",
            "Minimum representable value for <class 'numpy.int64'>: -9223372036854775808\n",
            "Maximum representable value for <class 'numpy.int64'>: 9223372036854775807\n",
            "Minimum representable value for <class 'numpy.float16'>: -65504.0\n",
            "Maximum representable value for <class 'numpy.float16'>: 65504.0\n",
            "Minimum representable value for <class 'numpy.float32'>: -3.4028234663852886e+38\n",
            "Maximum representable value for <class 'numpy.float32'>: 3.4028234663852886e+38\n",
            "Minimum representable value for <class 'numpy.float64'>: -1.7976931348623157e+308\n",
            "Maximum representable value for <class 'numpy.float64'>: 1.7976931348623157e+308\n"
          ]
        }
      ],
      "source": [
        "\n",
        "# Printing the minimum and maximum representable value for each NumPy scalar type\n",
        "for dtype in [np.int8, np.int16, np.int32, np.int64, np.float16, np.float32, np.float64]:\n",
        "    if 'int' in str(dtype):\n",
        "        info = np.iinfo(dtype)\n",
        "        print(f\"Minimum representable value for {dtype}: {info.min}\")\n",
        "        print(f\"Maximum representable value for {dtype}: {info.max}\")\n",
        "    elif 'float' in str(dtype):\n",
        "        info = np.finfo(dtype)\n",
        "        print(f\"Minimum representable value for {dtype}: {info.min}\")\n",
        "        print(f\"Maximum representable value for {dtype}: {info.max}\")"
      ]
    },
    {
      "cell_type": "markdown",
      "id": "11727a69",
      "metadata": {
        "id": "11727a69"
      },
      "source": [
        "#### 49. How to print all the values of an array? (★★☆)"
      ]
    },
    {
      "cell_type": "code",
      "execution_count": null,
      "id": "47e98473",
      "metadata": {
        "id": "47e98473",
        "colab": {
          "base_uri": "https://localhost:8080/"
        },
        "outputId": "79bdaaf6-1cf3-41cc-e0d6-de4e44fdb13d"
      },
      "outputs": [
        {
          "output_type": "stream",
          "name": "stdout",
          "text": [
            "[ 0  1  2  3  4  5  6  7  8  9 10 11 12 13 14 15 16 17 18 19 20 21 22 23\n",
            " 24 25 26 27 28 29 30 31 32 33 34 35 36 37 38 39 40 41 42 43 44 45 46 47\n",
            " 48 49 50 51 52 53 54 55 56 57 58 59 60 61 62 63 64 65 66 67 68 69 70 71\n",
            " 72 73 74 75 76 77 78 79 80 81 82 83 84 85 86 87 88 89 90 91 92 93 94 95\n",
            " 96 97 98 99]\n"
          ]
        }
      ],
      "source": [
        "\n",
        "import numpy as np\n",
        "\n",
        "# Creating an example array\n",
        "array = np.arange(100)\n",
        "\n",
        "# Adjusting printing options to display all values\n",
        "np.set_printoptions(threshold=np.inf)\n",
        "\n",
        "# Printing all the values of the array\n",
        "print(array)"
      ]
    },
    {
      "cell_type": "markdown",
      "id": "e0e7d741",
      "metadata": {
        "id": "e0e7d741"
      },
      "source": [
        "#### 50. How to find the closest value (to a given scalar) in a vector? (★★☆)"
      ]
    },
    {
      "cell_type": "code",
      "execution_count": null,
      "id": "62cabf6f",
      "metadata": {
        "id": "62cabf6f",
        "colab": {
          "base_uri": "https://localhost:8080/"
        },
        "outputId": "ea268fcf-d0b3-4275-b1cf-28dcc118b9ab"
      },
      "outputs": [
        {
          "output_type": "stream",
          "name": "stdout",
          "text": [
            "Closest value: 3\n"
          ]
        }
      ],
      "source": [
        "\n",
        "# Creating a sample vector\n",
        "vector = np.array([1, 2, 3, 4, 5])\n",
        "\n",
        "# Given scalar\n",
        "scalar = 3.2\n",
        "\n",
        "# Finding the closest value in the vector to the given scalar\n",
        "closest_value = vector[(np.abs(vector - scalar)).argmin()]\n",
        "\n",
        "print(\"Closest value:\", closest_value)"
      ]
    },
    {
      "cell_type": "markdown",
      "id": "c5611b9e",
      "metadata": {
        "id": "c5611b9e"
      },
      "source": [
        "#### 51. Create a structured array representing a position (x,y) and a color (r,g,b) (★★☆)"
      ]
    },
    {
      "cell_type": "code",
      "execution_count": null,
      "id": "f622939d",
      "metadata": {
        "id": "f622939d",
        "colab": {
          "base_uri": "https://localhost:8080/"
        },
        "outputId": "114773ee-0872-4197-b3c1-f192c8963b74"
      },
      "outputs": [
        {
          "output_type": "stream",
          "name": "stdout",
          "text": [
            "[([3.5, 4.2], [255,   0,   0])]\n"
          ]
        }
      ],
      "source": [
        "\n",
        "# Creating a structured array for position and color\n",
        "structured_array = np.zeros(1, dtype=[('position', ('float', 2)), ('color', (int, 3))])\n",
        "\n",
        "# Assigning values to the fields\n",
        "structured_array['position'] = (3.5, 4.2)\n",
        "structured_array['color'] = (255, 0, 0)  # (r, g, b)\n",
        "\n",
        "print(structured_array)"
      ]
    },
    {
      "cell_type": "markdown",
      "id": "d22b8574",
      "metadata": {
        "id": "d22b8574"
      },
      "source": [
        "#### 52. Consider a random vector with shape (100,2) representing coordinates, find point by point distances (★★☆)"
      ]
    },
    {
      "cell_type": "code",
      "execution_count": null,
      "id": "d5c9cdf8",
      "metadata": {
        "id": "d5c9cdf8",
        "colab": {
          "base_uri": "https://localhost:8080/"
        },
        "outputId": "b0e918f9-72e7-48f7-a7fe-fda11141d2ac"
      },
      "outputs": [
        {
          "output_type": "stream",
          "name": "stdout",
          "text": [
            "[[0.         0.65040414 0.02043491 0.98914504 0.22600569 1.08973403\n",
            "  0.78586771 1.00428694 1.1205438  0.62103265 0.21802346 0.40214887\n",
            "  0.71085485 0.43353511 0.79163215 0.79484892 0.68280748 0.69567566\n",
            "  0.56613951 0.67670924 0.706484   0.81767185 0.88853109 0.80096394\n",
            "  0.65721468 0.78510133 0.427031   0.85453046 0.62493197 0.97937977\n",
            "  0.5706806  0.6124725  0.18361346 0.51115798 0.28904937 0.50292337\n",
            "  0.23383959 0.85864756 0.13813445 0.7765035  0.89632634 0.64285919\n",
            "  0.48666106 0.67662    0.49586473 0.78378425 0.92468137 0.57966034\n",
            "  0.83415589 0.73123485 0.61609512 0.05477023 0.71266113 0.59562184\n",
            "  0.20754578 0.53382511 0.87102561 0.7045582  0.86637831 0.82583217\n",
            "  0.79959792 1.08994715 0.880724   1.0236023  0.2000739  0.51979843\n",
            "  0.88507916 0.57238455 0.7386805  0.45769081 0.70968392 0.40046114\n",
            "  0.82529739 0.20483718 0.56981409 0.49551482 0.60690697 0.83193629\n",
            "  0.23237793 0.48776441 0.8742343  0.46215406 0.31962416 0.47771433\n",
            "  0.76267022 0.9108651  0.13348388 0.82650085 0.73335523 0.64482128\n",
            "  0.79174911 0.70035329 0.71997568 0.52753585 0.72004538 0.34864179\n",
            "  0.53487907 0.13002102 0.74340458 0.73716396]\n",
            " [0.65040414 0.         0.62998451 0.46559168 0.71618073 0.5474029\n",
            "  0.37715337 0.57264656 0.52955697 0.10228864 0.78340543 0.34592413\n",
            "  0.19546426 0.70358943 0.18944987 0.35313801 0.60153202 0.47224935\n",
            "  0.52249395 0.19600454 0.40099371 0.53568369 0.23961949 0.15297309\n",
            "  0.69303133 0.32351365 0.22905011 0.82036881 0.62840944 0.41566178\n",
            "  0.11964407 0.14765877 0.49702319 0.33764684 0.48197648 0.6754567\n",
            "  0.63615031 0.7569605  0.55049934 0.39812947 0.28587993 0.09464837\n",
            "  0.17492706 0.09041403 0.1570009  0.34011009 0.56069618 0.66218195\n",
            "  0.19154819 0.09132649 0.64656467 0.67893699 0.45728901 0.08324415\n",
            "  0.46488846 0.49423145 0.22173056 0.30950752 0.31120134 0.57733747\n",
            "  0.15032667 0.58836393 0.77581659 0.40822962 0.80351311 0.14885886\n",
            "  0.23468665 0.38160811 0.41402911 0.68255497 0.76715039 0.40160759\n",
            "  0.22153799 0.54625805 0.12046086 0.20740573 0.31912761 0.73480874\n",
            "  0.52490982 0.58748066 0.5429727  0.60970651 0.4182213  0.18184074\n",
            "  0.23743877 0.26263074 0.54419699 0.30198206 0.0874032  0.7938646\n",
            "  0.42181213 0.21395555 0.8598539  0.14754215 0.53215943 0.74516984\n",
            "  0.78255005 0.54701837 0.24252502 0.28820341]\n",
            " [0.02043491 0.62998451 0.         0.97006785 0.22883679 1.07057744\n",
            "  0.76760488 0.98667252 1.10074759 0.60098742 0.22837235 0.38373579\n",
            "  0.69100373 0.4290343  0.77139707 0.77618356 0.67024672 0.67985283\n",
            "  0.55270354 0.65742318 0.68921592 0.80181685 0.86809627 0.78058886\n",
            "  0.64781718 0.76613478 0.40678918 0.8452004  0.613987   0.95976674\n",
            "  0.55060575 0.59241204 0.16556218 0.4933418  0.2739499  0.49569611\n",
            "  0.22902623 0.84741854 0.12246152 0.75863124 0.87613616 0.62254719\n",
            "  0.46645772 0.65648375 0.4755101  0.7650343  0.90793003 0.57056453\n",
            "  0.81373409 0.71090434 0.60586861 0.06663181 0.69638095 0.57522848\n",
            "  0.18847431 0.51981693 0.85063833 0.68591579 0.84665481 0.81073698\n",
            "  0.77920541 1.07141291 0.86958946 1.00345076 0.21437737 0.49944004\n",
            "  0.86465705 0.55545251 0.72227213 0.45164564 0.70173011 0.38457664\n",
            "  0.80509094 0.19337612 0.54950528 0.47591888 0.58876638 0.82059779\n",
            "  0.21868145 0.47724078 0.85781113 0.45281665 0.30306382 0.45732335\n",
            "  0.74341009 0.89043053 0.11750528 0.80698964 0.71292036 0.63928995\n",
            "  0.7749601  0.68117569 0.7150846  0.50721035 0.70527901 0.34894505\n",
            "  0.5316506  0.11409545 0.72432712 0.71870701]\n",
            " [0.98914504 0.46559168 0.97006785 0.         0.95439432 0.10118423\n",
            "  0.22036134 0.16358021 0.17823892 0.56574804 1.03975885 0.58887705\n",
            "  0.29785137 0.82246949 0.27997018 0.19950842 0.531016   0.39112683\n",
            "  0.55120574 0.63867767 0.32556256 0.3278008  0.35554817 0.43043115\n",
            "  0.655472   0.20439882 0.64670337 0.66422151 0.60757613 0.08051934\n",
            "  0.58320229 0.40030985 0.80661719 0.48809616 0.72475157 0.74696629\n",
            "  0.86924556 0.57396862 0.85745918 0.2441178  0.21785884 0.40124802\n",
            "  0.612517   0.53131205 0.58382257 0.20848811 0.23844707 0.67860242\n",
            "  0.33423206 0.46748214 0.63419222 0.99672606 0.36104499 0.45557501\n",
            "  0.78162357 0.55433075 0.41360159 0.28802228 0.15447224 0.36919132\n",
            "  0.42143249 0.12299965 0.58137846 0.2016656  1.07889151 0.50967486\n",
            "  0.3841587  0.44866745 0.85209355 0.78443339 0.70621005 0.85376632\n",
            "  0.25387427 0.95422038 0.46035408 0.66355774 0.3912398  0.56662162\n",
            "  0.78519691 0.6689576  0.27333345 0.70767798 0.85032091 0.55082267\n",
            "  0.63655406 0.34616879 0.92227668 0.17285325 0.39869847 0.78735082\n",
            "  0.84239395 0.64695729 0.81920591 0.49852175 0.42385963 0.91969991\n",
            "  0.84859066 0.92412358 0.65553133 0.71154919]\n",
            " [0.22600569 0.71618073 0.22883679 0.95439432 0.         1.05495906\n",
            "  0.73610824 0.93250131 1.10859012 0.71843468 0.08785659 0.38942443\n",
            "  0.71482419 0.23291933 0.81368811 0.75496738 0.54345008 0.60193248\n",
            "  0.44502386 0.7971677  0.63862404 0.7190171  0.93785473 0.8682384\n",
            "  0.48529642 0.75408645 0.52647496 0.67677988 0.46990457 0.96324196\n",
            "  0.66916746 0.63258627 0.23459294 0.46986084 0.2421183  0.31912478\n",
            "  0.08602107 0.6986088  0.19323847 0.71805188 0.91140885 0.6785159\n",
            "  0.58361017 0.76706221 0.58081392 0.74667934 0.83808521 0.40829661\n",
            "  0.87698746 0.80592758 0.45398521 0.17631701 0.62586286 0.64371208\n",
            "  0.2655146  0.42342506 0.93445215 0.66843237 0.85820628 0.714891\n",
            "  0.86445577 1.03751255 0.71922872 1.03254279 0.13729019 0.56876893\n",
            "  0.94129529 0.50693508 0.90445823 0.26707154 0.52379882 0.57961878\n",
            "  0.84395295 0.41510079 0.60988061 0.61551105 0.56445793 0.67367802\n",
            "  0.1915946  0.33753314 0.78329427 0.30153945 0.49644536 0.534606\n",
            "  0.88126698 0.95770325 0.32953974 0.81152857 0.78709229 0.44339976\n",
            "  0.9522232  0.82277058 0.51353559 0.57242037 0.60847575 0.1263782\n",
            "  0.32293032 0.32675094 0.86699486 0.87378583]\n",
            " [1.08973403 0.5474029  1.07057744 0.10118423 1.05495906 0.\n",
            "  0.3196023  0.20102639 0.11882238 0.64462901 1.14052225 0.68988985\n",
            "  0.39240908 0.91867576 0.35815673 0.30041472 0.61719093 0.48367828\n",
            "  0.64636224 0.70889611 0.42289243 0.40727444 0.4017327  0.49066524\n",
            "  0.74095415 0.30545544 0.73972108 0.73109491 0.69649606 0.13231058\n",
            "  0.66665926 0.49562209 0.90742437 0.58923806 0.82590992 0.84092306\n",
            "  0.96994926 0.63959571 0.95843033 0.34129784 0.27571359 0.49123118\n",
            "  0.70245478 0.60517817 0.67469773 0.30961716 0.3008017  0.7692399\n",
            "  0.39477907 0.53719231 0.72316644 1.09774886 0.45403749 0.54608639\n",
            "  0.88218944 0.6514915  0.46115201 0.3891965  0.24012559 0.44425211\n",
            "  0.48243437 0.08547671 0.64420442 0.20824159 1.17991267 0.60423733\n",
            "  0.4298238  0.54866184 0.91642687 0.88000892 0.78712218 0.94259773\n",
            "  0.32772463 1.05069059 0.55394099 0.75028696 0.49230824 0.63559454\n",
            "  0.8863741  0.76502394 0.34586121 0.80413541 0.94326965 0.64613391\n",
            "  0.6968867  0.38734987 1.02095259 0.26820736 0.47346913 0.87300151\n",
            "  0.90153815 0.71443004 0.89988476 0.59332768 0.51108161 1.01813117\n",
            "  0.9404479  1.02286651 0.71803134 0.77461917]\n",
            " [0.78586771 0.37715337 0.76760488 0.22036134 0.73610824 0.3196023\n",
            "  0.         0.22639838 0.3886662  0.47671596 0.82218249 0.38391712\n",
            "  0.1826084  0.60350899 0.25235052 0.0370068  0.33427285 0.18343304\n",
            "  0.33441398 0.57259927 0.10734297 0.17522934 0.39641752 0.41964516\n",
            "  0.45675888 0.06507283 0.49355698 0.5097729  0.40225568 0.2483986\n",
            "  0.47536435 0.25527132 0.60225458 0.27603099 0.51148205 0.53097226\n",
            "  0.6515225  0.42832213 0.6506918  0.03291212 0.27882738 0.28670284\n",
            "  0.47551811 0.46349279 0.44441158 0.04373348 0.18528581 0.46874008\n",
            "  0.34412489 0.42188052 0.42828038 0.788591   0.15374594 0.32999327\n",
            "  0.58002816 0.33487586 0.43922128 0.08748522 0.18178788 0.22199376\n",
            "  0.41009757 0.30523198 0.44238755 0.35454032 0.86287283 0.3569702\n",
            "  0.42000271 0.22927732 0.79115685 0.56620421 0.51662305 0.7111653\n",
            "  0.25300151 0.77624837 0.31788645 0.53714709 0.17912836 0.41281395\n",
            "  0.57246482 0.45041706 0.16685615 0.48863407 0.69062035 0.39094597\n",
            "  0.60027845 0.40055458 0.73287723 0.13603895 0.34832482 0.58605344\n",
            "  0.79660273 0.58877834 0.62781106 0.34535532 0.22997196 0.69935106\n",
            "  0.63537324 0.73430563 0.61150556 0.66187467]\n",
            " [1.00428694 0.57264656 0.98667252 0.16358021 0.93250131 0.20102639\n",
            "  0.22639838 0.         0.31616824 0.67492627 1.02011779 0.60478805\n",
            "  0.38188989 0.76770454 0.40447494 0.23228573 0.44318413 0.33286757\n",
            "  0.49726993 0.76027493 0.29886848 0.22990057 0.50763764 0.56936536\n",
            "  0.56298513 0.25638702 0.71675078 0.53307217 0.52661865 0.24348068\n",
            "  0.68249749 0.47233145 0.82115364 0.49344149 0.72240999 0.6825295\n",
            "  0.8509288  0.44142483 0.86732893 0.22899859 0.36831    0.49198994\n",
            "  0.69401913 0.65010249 0.66332476 0.24589653 0.10882564 0.60217889\n",
            "  0.47637371 0.59431246 0.55285098 1.00292666 0.30709847 0.54164342\n",
            "  0.80082758 0.51149505 0.56336996 0.31378813 0.28236277 0.25791327\n",
            "  0.55988604 0.13174436 0.44479635 0.36493813 1.06469757 0.57869615\n",
            "  0.53583066 0.43411113 0.97841326 0.72699641 0.60123585 0.93300408\n",
            "  0.38659747 1.00251247 0.53571377 0.75266997 0.39976473 0.43941217\n",
            "  0.78332136 0.61637209 0.16242426 0.65636621 0.91588612 0.61481457\n",
            "  0.77066308 0.50123459 0.95757552 0.27330931 0.52107245 0.69361721\n",
            "  0.97505586 0.77221366 0.71268238 0.56704158 0.34331795 0.87724291\n",
            "  0.77413861 0.95889674 0.786861   0.84130014]\n",
            " [1.1205438  0.52955697 1.10074759 0.17823892 1.10859012 0.11882238\n",
            "  0.3886662  0.31616824 0.         0.61850035 1.19187669 0.7294836\n",
            "  0.40983441 0.99161179 0.3448983  0.3611551  0.7087473  0.56637042\n",
            "  0.72299295 0.66726704 0.49593147 0.50574953 0.34116538 0.44216209\n",
            "  0.83323605 0.35629006 0.74173985 0.83913895 0.7842434  0.14539185\n",
            "  0.6483803  0.51048658 0.94186413 0.63872968 0.87217507 0.91949131\n",
            "  1.02268116 0.74818694 0.99473116 0.41600051 0.24367905 0.4923051\n",
            "  0.69726139 0.57184355 0.67237189 0.36681116 0.40942684 0.85418362\n",
            "  0.35251737 0.49985707 0.81078591 1.13407067 0.53614038 0.54634938\n",
            "  0.91429129 0.72290732 0.39855742 0.44177565 0.25449467 0.54632228\n",
            "  0.43534402 0.20355354 0.75426868 0.13175516 1.22763759 0.6135475\n",
            "  0.36682231 0.6100023  0.86301885 0.95471443 0.8844489  0.93113225\n",
            "  0.31067711 1.05995631 0.56184184 0.73690909 0.54521724 0.74222508\n",
            "  0.93109015 0.8388823  0.44927642 0.8767839  0.94230561 0.65677085\n",
            "  0.64182869 0.32215919 1.03973044 0.29790904 0.44679845 0.96497268\n",
            "  0.84157936 0.66867409 0.99744432 0.60364915 0.60150015 1.08357748\n",
            "  1.02294813 1.04196189 0.66535581 0.72161634]\n",
            " [0.62103265 0.10228864 0.60098742 0.56574804 0.71843468 0.64462901\n",
            "  0.47671596 0.67492627 0.61850035 0.         0.77731721 0.37913956\n",
            "  0.29650024 0.73840799 0.28692873 0.4540931  0.67763388 0.55793308\n",
            "  0.58769866 0.10613939 0.49194816 0.63021515 0.30216068 0.1978785\n",
            "  0.75954007 0.42486776 0.19629627 0.89996111 0.69532835 0.51238062\n",
            "  0.05056337 0.23365756 0.48817719 0.39882526 0.4981998  0.72232423\n",
            "  0.64405566 0.84158754 0.53876263 0.49610996 0.37628095 0.19032511\n",
            "  0.13661716 0.05768687 0.13818415 0.44089435 0.66116167 0.72070982\n",
            "  0.26866743 0.12665634 0.71107561 0.65631643 0.54583269 0.15678177\n",
            "  0.45592607 0.55586292 0.2663137  0.40495619 0.41129621 0.67027039\n",
            "  0.20027257 0.68870839 0.86127729 0.49236339 0.79069186 0.18681712\n",
            "  0.28863488 0.45404741 0.31686888 0.72238594 0.83447997 0.32092522\n",
            "  0.31697098 0.4898422  0.18588462 0.13492438 0.39986215 0.81831486\n",
            "  0.53164159 0.63749681 0.64136153 0.65465427 0.35282207 0.19989943\n",
            "  0.17275545 0.32577336 0.50288615 0.40404482 0.1724486  0.85082516\n",
            "  0.33077457 0.12939205 0.9206736  0.19192126 0.61711995 0.76411539\n",
            "  0.82561021 0.50602445 0.16781416 0.20219739]\n",
            " [0.21802346 0.78340543 0.22837235 1.03975885 0.08785659 1.14052225\n",
            "  0.82218249 1.02011779 1.19187669 0.77731721 0.         0.46761198\n",
            "  0.79436249 0.30887509 0.89080425 0.84025299 0.62944915 0.68976469\n",
            "  0.53267285 0.84959507 0.72563756 0.80684538 1.01031409 0.93624881\n",
            "  0.56612957 0.83848237 0.58214326 0.75427696 0.55433115 1.0466691\n",
            "  0.72722113 0.70868505 0.28922619 0.55353019 0.32104761 0.39916756\n",
            "  0.17065999 0.78056107 0.2391986  0.80470447 0.99020969 0.752055\n",
            "  0.6409859  0.82835185 0.64150816 0.8316695  0.92593146 0.49019187\n",
            "  0.9504857  0.87169196 0.53732255 0.16326348 0.71360144 0.71427736\n",
            "  0.32156298 0.51128154 1.00374836 0.75298455 0.94026925 0.8024137\n",
            "  0.93301944 1.12435653 0.8007606  1.11276624 0.05476952 0.63819196\n",
            "  1.01227113 0.59326587 0.93983762 0.34614289 0.59986674 0.6063531\n",
            "  0.92183108 0.42173191 0.6817861  0.66626081 0.64906914 0.75612859\n",
            "  0.26538098 0.42384591 0.87115066 0.38700735 0.5232408  0.60166291\n",
            "  0.93488106 1.03078118 0.34294633 0.89428849 0.85769088 0.51335547\n",
            "  0.99022644 0.874731   0.57919049 0.64280277 0.69612545 0.18994239\n",
            "  0.38809756 0.33971623 0.91885291 0.9210696 ]\n",
            " [0.40214887 0.34592413 0.38373579 0.58887705 0.38942443 0.68988985\n",
            "  0.38391712 0.60478805 0.7294836  0.37913956 0.46761198 0.\n",
            "  0.32686506 0.36017664 0.42426558 0.39292439 0.36842903 0.31934654\n",
            "  0.25144488 0.47818679 0.31086231 0.43714241 0.55204134 0.49191404\n",
            "  0.41254087 0.38447864 0.2350223  0.58668231 0.35338783 0.58543797\n",
            "  0.33820623 0.24375872 0.21862965 0.11286345 0.14731828 0.34562582\n",
            "  0.30444068 0.55428491 0.26861172 0.37597146 0.52263563 0.29283155\n",
            "  0.26873619 0.41502851 0.24969622 0.38210464 0.53222962 0.35824442\n",
            "  0.49002731 0.43717644 0.36177484 0.40785901 0.3288926  0.2658569\n",
            "  0.19626277 0.21324842 0.55431919 0.30262474 0.4756698  0.4560452\n",
            "  0.48684352 0.68781253 0.57664734 0.64541072 0.49962136 0.19889778\n",
            "  0.55784706 0.18418976 0.64878902 0.34325462 0.48615381 0.42007277\n",
            "  0.45464414 0.4134854  0.22932144 0.32770427 0.20541252 0.52743111\n",
            "  0.20292799 0.26508376 0.48570331 0.27740058 0.36705857 0.17935478\n",
            "  0.55188858 0.57097538 0.35661085 0.43187466 0.40593564 0.48258477\n",
            "  0.68146451 0.50373181 0.55693338 0.19859393 0.36016778 0.40103042\n",
            "  0.44678331 0.35755992 0.54532853 0.57019189]\n",
            " [0.71085485 0.19546426 0.69100373 0.29785137 0.71482419 0.39240908\n",
            "  0.1826084  0.38188989 0.40983441 0.29650024 0.79436249 0.32686506\n",
            "  0.         0.63869955 0.10921229 0.15769458 0.4529095  0.30707262\n",
            "  0.40385411 0.39020898 0.22600606 0.34848499 0.25982049 0.2510024\n",
            "  0.56180099 0.12840736 0.34890644 0.6584524  0.49913178 0.27119035\n",
            "  0.3007099  0.10328263 0.53343889 0.2557254  0.47347289 0.58711158\n",
            "  0.62910572 0.58607367 0.58686557 0.20602215 0.19694831 0.11010391\n",
            "  0.31712295 0.28089396 0.2875349  0.14464726 0.3652545  0.54960751\n",
            "  0.19754977 0.24188281 0.52171602 0.72573122 0.28568751 0.16121437\n",
            "  0.50517775 0.38653747 0.28689854 0.12724466 0.15679228 0.39269672\n",
            "  0.2420187  0.41587711 0.60302681 0.31857237 0.82616016 0.21200697\n",
            "  0.27627825 0.26066973 0.60903028 0.60853565 0.63162188 0.55851209\n",
            "  0.13294506 0.65845113 0.1625416  0.3724557  0.18549259 0.56652526\n",
            "  0.52974434 0.49808538 0.34929831 0.52962064 0.55248776 0.25372485\n",
            "  0.41894493 0.2724717  0.63191016 0.12501189 0.17031225 0.67910187\n",
            "  0.61400434 0.40617368 0.73514702 0.20098892 0.36602874 0.7098818\n",
            "  0.6969222  0.63400776 0.42933353 0.47930383]\n",
            " [0.43353511 0.70358943 0.4290343  0.82246949 0.23291933 0.91867576\n",
            "  0.60350899 0.76770454 0.99161179 0.73840799 0.30887509 0.36017664\n",
            "  0.63869955 0.         0.74695913 0.63062132 0.34016711 0.43779122\n",
            "  0.27283062 0.8347049  0.4969838  0.5408527  0.89032001 0.84397806\n",
            "  0.25936434 0.63866386 0.57388437 0.44544193 0.25801267 0.84865934\n",
            "  0.69549305 0.58303848 0.34402339 0.38480653 0.25718362 0.09385362\n",
            "  0.20001253 0.47434083 0.33725912 0.57835218 0.83062734 0.63911259\n",
            "  0.61940714 0.7751842  0.60502788 0.62579125 0.66436367 0.18660338\n",
            "  0.82675757 0.79421873 0.23697584 0.39399614 0.46631903 0.62149039\n",
            "  0.36090689 0.26871743 0.90176815 0.5561135  0.75764836 0.52602935\n",
            "  0.83794426 0.88584729 0.49388028 0.93903195 0.36333911 0.55866483\n",
            "  0.90068504 0.38676318 0.98702947 0.04179734 0.29140746 0.69972155\n",
            "  0.77140606 0.58543912 0.58416374 0.67020226 0.45933986 0.45086887\n",
            "  0.25952523 0.15365239 0.60843439 0.11487492 0.62307711 0.53859437\n",
            "  0.91092202 0.90641684 0.4985555  0.70754319 0.75520215 0.21257822\n",
            "  1.02608792 0.86054287 0.28649922 0.55754163 0.42611114 0.12334168\n",
            "  0.10643859 0.49679034 0.90305247 0.92393077]\n",
            " [0.79163215 0.18944987 0.77139707 0.27997018 0.81368811 0.35815673\n",
            "  0.25235052 0.40447494 0.3448983  0.28692873 0.89080425 0.42426558\n",
            "  0.10921229 0.74695913 0.         0.21811238 0.5553665  0.40573737\n",
            "  0.51232621 0.35972209 0.321971   0.42736599 0.15286184 0.17010758\n",
            "  0.66760583 0.18759301 0.39732277 0.75335075 0.60568983 0.22623614\n",
            "  0.30899717 0.18256013 0.62025144 0.36281283 0.57157246 0.69631366\n",
            "  0.72860157 0.67637039 0.67442624 0.28239123 0.10545386 0.15032193\n",
            "  0.35246421 0.25145926 0.32751074 0.20872061 0.41637009 0.657995\n",
            "  0.09367295 0.19037947 0.62882765 0.81134994 0.3814751  0.20274163\n",
            "  0.59029778 0.49566676 0.18804133 0.22441442 0.12655158 0.4738149\n",
            "  0.16044328 0.40291251 0.69177293 0.23323179 0.91973908 0.27397486\n",
            "  0.17228484 0.36975426 0.57569725 0.71731616 0.73609886 0.58853866\n",
            "  0.034559   0.71651401 0.22267199 0.39471698 0.29451279 0.65875465\n",
            "  0.62542345 0.6072485  0.41367546 0.6385356  0.59741085 0.31719608\n",
            "  0.36629768 0.16384555 0.70113861 0.13387756 0.11903731 0.7868722\n",
            "  0.57063122 0.36955239 0.84132014 0.26515605 0.46276561 0.8150573\n",
            "  0.80613035 0.70356976 0.38244499 0.43720027]\n",
            " [0.79484892 0.35313801 0.77618356 0.19950842 0.75496738 0.30041472\n",
            "  0.0370068  0.23228573 0.3611551  0.4540931  0.84025299 0.39292439\n",
            "  0.15769458 0.63062132 0.21811238 0.         0.3697674  0.21803659\n",
            "  0.36416637 0.54731712 0.13849855 0.21090218 0.36021279 0.38674782\n",
            "  0.4915776  0.03113526 0.48453364 0.54675538 0.4360214  0.21831854\n",
            "  0.45605182 0.24061864 0.61150024 0.28917866 0.52585779 0.56058045\n",
            "  0.66975579 0.46505239 0.66124834 0.06985408 0.24183591 0.26564753\n",
            "  0.46233371 0.43747886 0.4314943  0.01370232 0.20778945 0.5010891\n",
            "  0.30892508 0.39250679 0.4618214  0.80002462 0.1888081  0.31226836\n",
            "  0.5878907  0.36201898 0.40398568 0.09030355 0.14520394 0.2578848\n",
            "  0.37714502 0.2955119  0.478912   0.32010946 0.87950543 0.34641043\n",
            "  0.38414253 0.25027362 0.76633804 0.59412794 0.55241569 0.70075634\n",
            "  0.21707087 0.77563684 0.30396992 0.52211979 0.19201478 0.4497277\n",
            "  0.58651094 0.47829992 0.19675775 0.51586268 0.68442053 0.38283337\n",
            "  0.57139413 0.36394785 0.73605143 0.09903217 0.31843393 0.62015314\n",
            "  0.76981595 0.56252729 0.66324241 0.33475593 0.26626622 0.72324803\n",
            "  0.66614264 0.73763704 0.58360258 0.63496464]\n",
            " [0.68280748 0.60153202 0.67024672 0.531016   0.54345008 0.61719093\n",
            "  0.33427285 0.44318413 0.7087473  0.67763388 0.62944915 0.36842903\n",
            "  0.4529095  0.34016711 0.5553665  0.3697674  0.         0.15264125\n",
            "  0.12199368 0.78376386 0.23658897 0.2136364  0.70806901 0.70122945\n",
            "  0.12448955 0.3904067  0.59074015 0.2242177  0.08471525 0.57729705\n",
            "  0.65243863 0.45409878 0.52215158 0.2884785  0.40192984 0.24835513\n",
            "  0.47535203 0.18672951 0.54999563 0.30220667 0.60734754 0.51084224\n",
            "  0.6076203  0.69051313 0.5805609  0.37119072 0.33540727 0.16093772\n",
            "  0.64821747 0.67720159 0.11017943 0.66223001 0.18103885 0.52405176\n",
            "  0.51704414 0.15974081 0.73963992 0.33111159 0.51441958 0.18947286\n",
            "  0.69270724 0.56975074 0.20929981 0.68856639 0.68073773 0.49806445\n",
            "  0.72725003 0.22388894 0.98384192 0.29837073 0.18297366 0.78823971\n",
            "  0.56749621 0.761578   0.49195372 0.67314321 0.28276922 0.15957983\n",
            "  0.45197705 0.20597352 0.28075989 0.24254873 0.73432606 0.50548478\n",
            "  0.83839937 0.71707319 0.68914907 0.46589146 0.61457891 0.25635466\n",
            "  1.00622778 0.80632846 0.2935385  0.49017056 0.10727083 0.45985766\n",
            "  0.33166839 0.68898495 0.84084058 0.87980796]\n",
            " [0.69567566 0.47224935 0.67985283 0.39112683 0.60193248 0.48367828\n",
            "  0.18343304 0.33286757 0.56637042 0.55793308 0.68976469 0.31934654\n",
            "  0.30707262 0.43779122 0.40573737 0.21803659 0.15264125 0.\n",
            "  0.16529128 0.66280805 0.0843786  0.12199883 0.55786358 0.55781451\n",
            "  0.27354153 0.23782856 0.50665063 0.35191912 0.21914133 0.43011571\n",
            "  0.5402494  0.32575782 0.5177616  0.21159232 0.40700945 0.35736087\n",
            "  0.52231108 0.28471193 0.55760903 0.15242449 0.45471988 0.37837392\n",
            "  0.51040767 0.56260645 0.48065822 0.21883581 0.23624106 0.28781568\n",
            "  0.4991686  0.54055459 0.24537812 0.68681437 0.0302451  0.40121119\n",
            "  0.50352147 0.17902549 0.59196128 0.18162095 0.3621041  0.13677255\n",
            "  0.54894209 0.44806982 0.30375092 0.53787226 0.73600251 0.39191219\n",
            "  0.57800939 0.13618128 0.8722003  0.39803722 0.33560997 0.71894873\n",
            "  0.41616212 0.73273166 0.37386079 0.57677222 0.16000158 0.26283142\n",
            "  0.46611198 0.28488319 0.18204693 0.32473738 0.67810325 0.40989759\n",
            "  0.70929596 0.56601304 0.67233518 0.31332932 0.47386568 0.40264854\n",
            "  0.88868707 0.68357827 0.44555388 0.38214574 0.06003314 0.54463936\n",
            "  0.45749005 0.67294492 0.71464209 0.75795032]\n",
            " [0.56613951 0.52249395 0.55270354 0.55120574 0.44502386 0.64636224\n",
            "  0.33441398 0.49726993 0.72299295 0.58769866 0.53267285 0.25144488\n",
            "  0.40385411 0.27283062 0.51232621 0.36416637 0.12199368 0.16529128\n",
            "  0.         0.69322961 0.22708208 0.27535443 0.66362858 0.63965418\n",
            "  0.17184142 0.37626266 0.48071382 0.33523966 0.10781713 0.58220875\n",
            "  0.55708674 0.37949975 0.40130503 0.18896099 0.2816175  0.19656985\n",
            "  0.36994932 0.30821529 0.4313439  0.30746843 0.58215677 0.43837131\n",
            "  0.50366778 0.60802648 0.47868538 0.36104746 0.3969989  0.1457619\n",
            "  0.60096572 0.60534772 0.12409868 0.54896431 0.19350947 0.44088562\n",
            "  0.39532495 0.0385214  0.68676527 0.29946217 0.49954002 0.27004091\n",
            "  0.63195982 0.61327029 0.33083755 0.68052193 0.58128833 0.4024681\n",
            "  0.67911117 0.14516407 0.88425334 0.23366751 0.24680944 0.67121476\n",
            "  0.53103804 0.63958718 0.40574481 0.56765968 0.21890846 0.28095088\n",
            "  0.33402401 0.11960197 0.34134751 0.15944895 0.61469178 0.40306391\n",
            "  0.75492599 0.67611437 0.56756707 0.44907735 0.55020756 0.27620825\n",
            "  0.91072612 0.71707473 0.33788897 0.39616904 0.1634546  0.3800387\n",
            "  0.30240088 0.5674605  0.75438614 0.78892906]\n",
            " [0.67670924 0.19600454 0.65742318 0.63867767 0.7971677  0.70889611\n",
            "  0.57259927 0.76027493 0.66726704 0.10613939 0.84959507 0.47818679\n",
            "  0.39020898 0.8347049  0.35972209 0.54731712 0.78376386 0.66280805\n",
            "  0.69322961 0.         0.59494094 0.73130385 0.33067891 0.22551466\n",
            "  0.86504859 0.51711342 0.27127242 1.00597445 0.80094643 0.57736082\n",
            "  0.14000651 0.33743755 0.56325914 0.50427554 0.58808864 0.82325216\n",
            "  0.72724019 0.94689744 0.61059569 0.59408389 0.43376698 0.28977032\n",
            "  0.21744537 0.1103738  0.22968576 0.53456349 0.75510646 0.82485229\n",
            "  0.31635899 0.17183773 0.81634849 0.71723887 0.64985099 0.26175611\n",
            "  0.53178408 0.66094222 0.28057789 0.50522251 0.48625879 0.77240961\n",
            "  0.23197836 0.76115686 0.96641289 0.53657033 0.85771435 0.29125791\n",
            "  0.30956305 0.5601849  0.21912381 0.82080128 0.94003905 0.32551948\n",
            "  0.38489763 0.52089762 0.29192446 0.18351558 0.50543708 0.92382775\n",
            "  0.61577066 0.73971451 0.73878224 0.7552294  0.37917896 0.29941283\n",
            "  0.08601746 0.35272712 0.55021464 0.48701304 0.24075212 0.95436204\n",
            "  0.22648774 0.02598535 1.02501775 0.29708739 0.72222264 0.85250415\n",
            "  0.92483342 0.5535712  0.06994298 0.09605898]\n",
            " [0.706484   0.40099371 0.68921592 0.32556256 0.63862404 0.42289243\n",
            "  0.10734297 0.29886848 0.49593147 0.49194816 0.72563756 0.31086231\n",
            "  0.22600606 0.4969838  0.321971   0.13849855 0.23658897 0.0843786\n",
            "  0.22708208 0.59494094 0.         0.14299552 0.47377056 0.47696361\n",
            "  0.35555319 0.15516959 0.4651577  0.43280345 0.29833115 0.35550041\n",
            "  0.4794617  0.2583369  0.52399584 0.19804652 0.4235463  0.42363237\n",
            "  0.55538728 0.36043916 0.56906557 0.08161283 0.37097303 0.30635217\n",
            "  0.46017084 0.49125113 0.42938489 0.13732367 0.2214905  0.36259236\n",
            "  0.4155472  0.4638239  0.32386771 0.70411438 0.0598314  0.33584732\n",
            "  0.50518164 0.22880167 0.5088464  0.09899392 0.27999438 0.17900712\n",
            "  0.46792203 0.39897843 0.37790968 0.45815059 0.7685169  0.33912232\n",
            "  0.49424559 0.13525607 0.80846914 0.45928232 0.41940255 0.6821653\n",
            "  0.33182239 0.7195003  0.31284544 0.52564883 0.11432138 0.34054571\n",
            "  0.48447855 0.3436052  0.17752957 0.38215293 0.64987231 0.36396299\n",
            "  0.63616729 0.48169981 0.66717638 0.23051787 0.39500029 0.48265438\n",
            "  0.82142656 0.61444435 0.5285244  0.32836411 0.14091703 0.59538418\n",
            "  0.52820592 0.66821095 0.64321634 0.68886033]\n",
            " [0.81767185 0.53568369 0.80181685 0.3278008  0.7190171  0.40727444\n",
            "  0.17522934 0.22990057 0.50574953 0.63021515 0.80684538 0.43714241\n",
            "  0.34848499 0.5408527  0.42736599 0.21090218 0.2136364  0.12199883\n",
            "  0.27535443 0.73130385 0.14299552 0.         0.57107026 0.59331282\n",
            "  0.33526745 0.24029215 0.60740885 0.34330472 0.29673138 0.38514151\n",
            "  0.6204356  0.39774148 0.63942214 0.32619377 0.52898793 0.45379644\n",
            "  0.64113061 0.25726442 0.67959792 0.14521459 0.44846058 0.4415336\n",
            "  0.60315785 0.62499693 0.57235009 0.21896277 0.12366071 0.37229623\n",
            "  0.51935421 0.5903678  0.32300732 0.80855163 0.10825837 0.47554391\n",
            "  0.624562   0.29591755 0.6144505  0.22618128 0.34875353 0.0471466\n",
            "  0.58384569 0.35628292 0.26951723 0.50515649 0.85426873 0.48207602\n",
            "  0.59502657 0.25299459 0.94708094 0.49966735 0.37998722 0.82369978\n",
            "  0.4279585  0.85034459 0.45449387 0.66857537 0.25501978 0.24494757\n",
            "  0.5879582  0.39204921 0.06789227 0.431925   0.78852036 0.50669057\n",
            "  0.7667789  0.57430412 0.79228101 0.30793286 0.51823744 0.46694155\n",
            "  0.95747829 0.74961286 0.49288002 0.47127058 0.11474632 0.65387785\n",
            "  0.54423832 0.79299369 0.77588469 0.82373508]\n",
            " [0.88853109 0.23961949 0.86809627 0.35554817 0.93785473 0.4017327\n",
            "  0.39641752 0.50763764 0.34116538 0.30216068 1.01031409 0.55204134\n",
            "  0.25982049 0.89032001 0.15286184 0.36021279 0.70806901 0.55786358\n",
            "  0.66362858 0.33067891 0.47377056 0.57107026 0.         0.1068663\n",
            "  0.82038296 0.33157456 0.46852646 0.90329713 0.75828582 0.2797241\n",
            "  0.34310667 0.30999251 0.72897675 0.5057128  0.69730691 0.84432275\n",
            "  0.85458125 0.82421799 0.78310716 0.42810235 0.13936817 0.25956461\n",
            "  0.412943   0.2477238  0.39659312 0.3529254  0.54248861 0.80938988\n",
            "  0.06360236 0.1755632  0.78121886 0.91498487 0.53292297 0.29677193\n",
            "  0.69740845 0.64539673 0.05942048 0.37698043 0.23242376 0.61809139\n",
            "  0.10258476 0.46891326 0.83870814 0.2094104  1.03435411 0.37352459\n",
            "  0.02862944 0.51986824 0.52191587 0.86258606 0.88895768 0.62306563\n",
            "  0.1436325  0.78357338 0.328532   0.43409675 0.44496124 0.80766107\n",
            "  0.74671242 0.7548739  0.54905219 0.78457575 0.65128296 0.41313537\n",
            "  0.30070472 0.02364953 0.78381404 0.2643937  0.15522323 0.93888545\n",
            "  0.50216864 0.32952021 0.99404829 0.36800142 0.61418681 0.95073426\n",
            "  0.9541761  0.78663762 0.32422543 0.38045115]\n",
            " [0.80096394 0.15297309 0.78058886 0.43043115 0.8682384  0.49066524\n",
            "  0.41964516 0.56936536 0.44216209 0.1978785  0.93624881 0.49191404\n",
            "  0.2510024  0.84397806 0.17010758 0.38674782 0.70122945 0.55781451\n",
            "  0.63965418 0.22551466 0.47696361 0.59331282 0.1068663  0.\n",
            "  0.80491234 0.35580858 0.37550507 0.90942501 0.74096898 0.36174188\n",
            "  0.24178931 0.26371038 0.64997329 0.46560014 0.63201305 0.80779884\n",
            "  0.78739991 0.83661527 0.70338604 0.44817126 0.21560238 0.20565448\n",
            "  0.31749499 0.14194484 0.30518182 0.37651395 0.58641877 0.78395738\n",
            "  0.09653306 0.07213633 0.76180155 0.83090053 0.53668211 0.22642533\n",
            "  0.61781593 0.61619849 0.07038528 0.378055   0.28703779 0.63903738\n",
            "  0.00966526 0.55006263 0.8531845  0.31114313 0.95646252 0.29957384\n",
            "  0.09078845 0.49461813 0.42580583 0.81997661 0.87676203 0.51804024\n",
            "  0.18285946 0.68475969 0.26259507 0.3318045  0.42319537 0.8173931\n",
            "  0.67674412 0.71848994 0.58313776 0.74437384 0.54982193 0.33458743\n",
            "  0.20673164 0.12997984 0.69055559 0.30334881 0.08992321 0.91550091\n",
            "  0.41236428 0.22663682 0.97647021 0.29660621 0.6169742  0.89285885\n",
            "  0.91673606 0.69351618 0.2273666  0.28395624]\n",
            " [0.65721468 0.69303133 0.64781718 0.655472   0.48529642 0.74095415\n",
            "  0.45675888 0.56298513 0.83323605 0.75954007 0.56612957 0.41254087\n",
            "  0.56180099 0.25936434 0.66760583 0.4915776  0.12448955 0.27354153\n",
            "  0.17184142 0.86504859 0.35555319 0.33526745 0.82038296 0.80491234\n",
            "  0.         0.51062115 0.64644757 0.19738355 0.0646219  0.70134124\n",
            "  0.72860072 0.54835744 0.51859536 0.36077348 0.40052726 0.16698658\n",
            "  0.4313677  0.21498236 0.53485719 0.42515618 0.72605506 0.60687518\n",
            "  0.67298634 0.77932464 0.64889864 0.49211611 0.45434881 0.07807354\n",
            "  0.75907931 0.77423212 0.05077651 0.62769449 0.30301404 0.61200816\n",
            "  0.52123848 0.20515926 0.84815218 0.44551931 0.63529106 0.30565838\n",
            "  0.79684397 0.69134386 0.23473194 0.81129806 0.6199653  0.57415758\n",
            "  0.8379923  0.31221626 1.0543622  0.22018465 0.07506232 0.82621913\n",
            "  0.68236924 0.76746355 0.57722271 0.73596469 0.38172068 0.19170517\n",
            "  0.43822786 0.17368427 0.40107864 0.1950659  0.76316216 0.5734055\n",
            "  0.92647337 0.8308513  0.68764516 0.58604895 0.71629982 0.13206775\n",
            "  1.08187943 0.88891534 0.17383271 0.56797097 0.23175347 0.38265254\n",
            "  0.22221019 0.68685772 0.92616919 0.96070999]\n",
            " [0.78510133 0.32351365 0.76613478 0.20439882 0.75408645 0.30545544\n",
            "  0.06507283 0.25638702 0.35629006 0.42486776 0.83848237 0.38447864\n",
            "  0.12840736 0.63866386 0.18759301 0.03113526 0.3904067  0.23782856\n",
            "  0.37626266 0.51711342 0.15516959 0.24029215 0.33157456 0.35580858\n",
            "  0.51062115 0.         0.46238449 0.57321664 0.45337894 0.21133552\n",
            "  0.4282469  0.21620832 0.60234316 0.28521931 0.5213931  0.57179294\n",
            "  0.66844112 0.49277644 0.65306736 0.09655924 0.21757113 0.23751392\n",
            "  0.4377316  0.40712207 0.40712957 0.02137241 0.2381507  0.51612596\n",
            "  0.27907006 0.36147211 0.47875309 0.79232782 0.20964018 0.28563013\n",
            "  0.57766046 0.37106705 0.37416682 0.08572497 0.12485818 0.28706416\n",
            "  0.34621683 0.30894457 0.50713384 0.30443957 0.87632838 0.32381748\n",
            "  0.35498287 0.25406973 0.7361998  0.60320291 0.57337204 0.67736592\n",
            "  0.18804699 0.75855642 0.27953855 0.49636852 0.18965114 0.47674785\n",
            "  0.58155277 0.48765387 0.22787877 0.52433182 0.66366863 0.36163901\n",
            "  0.5403934  0.33619128 0.72181159 0.07550365 0.28735903 0.63771412\n",
            "  0.73916501 0.53205031 0.68327839 0.31220151 0.28908184 0.72753462\n",
            "  0.67866069 0.72351366 0.55275502 0.60430971]\n",
            " [0.427031   0.22905011 0.40678918 0.64670337 0.52647496 0.73972108\n",
            "  0.49355698 0.71675078 0.74173985 0.19629627 0.58214326 0.2350223\n",
            "  0.34890644 0.57388437 0.39732277 0.48453364 0.59074015 0.50665063\n",
            "  0.48071382 0.27127242 0.4651577  0.60740885 0.46852646 0.37550507\n",
            "  0.64644757 0.46238449 0.         0.81360136 0.58585781 0.61350738\n",
            "  0.1457848  0.24779641 0.29364907 0.30412058 0.32074824 0.57494167\n",
            "  0.45600259 0.77183007 0.34312637 0.50102556 0.50163629 0.25022368\n",
            "  0.05993499 0.25027016 0.07221091 0.47098662 0.6730483  0.59322596\n",
            "  0.41949835 0.30481591 0.59578149 0.46054208 0.50518593 0.19559266\n",
            "  0.26171186 0.44368964 0.44585752 0.40723757 0.50023138 0.63808523\n",
            "  0.37484669 0.76428652 0.7935186  0.62830639 0.59447569 0.13863666\n",
            "  0.4620934  0.37675815 0.41611577 0.56479053 0.72054431 0.21821007\n",
            "  0.43182348 0.31989155 0.18636505 0.09631993 0.35258936 0.74590481\n",
            "  0.34479397 0.4985847  0.63860773 0.50683008 0.20365304 0.10283359\n",
            "  0.35481408 0.49163395 0.31553    0.47385418 0.31563369 0.71628247\n",
            "  0.45255275 0.2970831  0.79142453 0.15021612 0.55912872 0.58266021\n",
            "  0.66983841 0.31841731 0.34121407 0.35345687]\n",
            " [0.85453046 0.82036881 0.8452004  0.66422151 0.67677988 0.73109491\n",
            "  0.5097729  0.53307217 0.83913895 0.89996111 0.75427696 0.58668231\n",
            "  0.6584524  0.44544193 0.75335075 0.54675538 0.2242177  0.35191912\n",
            "  0.33523966 1.00597445 0.43280345 0.34330472 0.90329713 0.90942501\n",
            "  0.19738355 0.57321664 0.81360136 0.         0.2397055  0.72697078\n",
            "  0.87606879 0.67275166 0.7137484  0.51255158 0.5944226  0.35818045\n",
            "  0.62735228 0.09164762 0.73179889 0.47713013 0.7882271  0.72779282\n",
            "  0.83174769 0.91018109 0.80477454 0.55214802 0.43051384 0.27492302\n",
            "  0.8470077  0.89188774 0.24159972 0.82430139 0.37297571 0.74504574\n",
            "  0.71454692 0.37353648 0.94103441 0.53178439 0.68956542 0.29779818\n",
            "  0.90046992 0.66422503 0.0915778  0.84820215 0.80877966 0.72199321\n",
            "  0.92513222 0.4474616  1.20783129 0.40970936 0.15523632 1.00633086\n",
            "  0.75985169 0.96126569 0.71407738 0.89714963 0.50159367 0.0983929\n",
            "  0.63471013 0.36988273 0.39091731 0.39242186 0.94813493 0.72965789\n",
            "  1.05779337 0.90914511 0.88297472 0.64573893 0.82577622 0.25486101\n",
            "  1.22945542 1.02807267 0.22430958 0.71391436 0.29246123 0.56623878\n",
            "  0.38077669 0.88230948 1.06146676 1.10191327]\n",
            " [0.62493197 0.62840944 0.613987   0.60757613 0.46990457 0.69649606\n",
            "  0.40225568 0.52661865 0.7842434  0.69532835 0.55433115 0.35338783\n",
            "  0.49913178 0.25801267 0.60568983 0.4360214  0.08471525 0.21914133\n",
            "  0.10781713 0.80094643 0.29833115 0.29673138 0.75828582 0.74096898\n",
            "  0.0646219  0.45337894 0.58585781 0.2397055  0.         0.64921553\n",
            "  0.66490214 0.48381728 0.4757326  0.29672573 0.35572332 0.16502107\n",
            "  0.4072924  0.23389936 0.49707403 0.37155711 0.66707426 0.54238236\n",
            "  0.6106864  0.714752   0.58609619 0.43560747 0.41935372 0.07622882\n",
            "  0.69661277 0.7097223  0.02667131 0.59973549 0.24926396 0.54741877\n",
            "  0.47532041 0.14260731 0.78501287 0.38508451 0.57823706 0.27416217\n",
            "  0.73296748 0.65193005 0.25584347 0.75612501 0.60676429 0.51027667\n",
            "  0.77540995 0.24770531 0.99167406 0.21635987 0.13919612 0.77035741\n",
            "  0.62141671 0.72203878 0.51270336 0.67420949 0.31781543 0.20747438\n",
            "  0.39905921 0.13761328 0.36430547 0.16902986 0.70982071 0.51050996\n",
            "  0.86195582 0.76925087 0.64483583 0.52848867 0.65217984 0.18433546\n",
            "  1.01849024 0.8247174  0.23608609 0.50392253 0.18570506 0.37943478\n",
            "  0.24755756 0.64429734 0.86179279 0.89668761]\n",
            " [0.97937977 0.41566178 0.95976674 0.08051934 0.96324196 0.13231058\n",
            "  0.2483986  0.24348068 0.14539185 0.51238062 1.0466691  0.58543797\n",
            "  0.27119035 0.84865934 0.22623614 0.21831854 0.57729705 0.43011571\n",
            "  0.58220875 0.57736082 0.35550041 0.38514151 0.2797241  0.36174188\n",
            "  0.70134124 0.21133552 0.61350738 0.72697078 0.64921553 0.\n",
            "  0.53512048 0.37392143 0.7993861  0.49339015 0.72728651 0.77873059\n",
            "  0.87735096 0.63819618 0.85183859 0.2778601  0.14618056 0.36357187\n",
            "  0.57376628 0.47300344 0.54678652 0.22290141 0.30982825 0.71692746\n",
            "  0.26528148 0.40554074 0.67549302 0.99132828 0.39995515 0.41847671\n",
            "  0.77243561 0.58021532 0.33862184 0.29658945 0.11450731 0.42938283\n",
            "  0.3531787  0.18952198 0.64724748 0.1247473  1.08279273 0.48048313\n",
            "  0.30832344 0.46535883 0.78675018 0.81239446 0.75692192 0.81278095\n",
            "  0.19543337 0.92812734 0.42930961 0.6197315  0.39987401 0.62869135\n",
            "  0.78645631 0.69658194 0.33782255 0.73399131 0.81646901 0.52316965\n",
            "  0.56846215 0.26866215 0.90309892 0.15359691 0.34116917 0.83205349\n",
            "  0.77391302 0.58355998 0.8694587  0.4699804  0.4704246  0.93886856\n",
            "  0.88370151 0.90519127 0.58878481 0.64524241]\n",
            " [0.5706806  0.11964407 0.55060575 0.58320229 0.66916746 0.66665926\n",
            "  0.47536435 0.68249749 0.6483803  0.05056337 0.72722113 0.33820623\n",
            "  0.3007099  0.69549305 0.30899717 0.45605182 0.65243863 0.5402494\n",
            "  0.55708674 0.14000651 0.4794617  0.6204356  0.34310667 0.24178931\n",
            "  0.72860072 0.4282469  0.1457848  0.87606879 0.66490214 0.53512048\n",
            "  0.         0.22327604 0.43818943 0.36841853 0.45178292 0.68326505\n",
            "  0.59566169 0.82151932 0.48850337 0.49188861 0.40478643 0.19077694\n",
            "  0.08626632 0.10640685 0.09111386 0.44252273 0.66064774 0.68621927\n",
            "  0.30392504 0.16966107 0.67937424 0.60576636 0.53063167 0.14596427\n",
            "  0.40599426 0.52378466 0.3114795  0.39832227 0.42922654 0.65846872\n",
            "  0.24305974 0.70558182 0.84179606 0.5252087  0.74023843 0.15491969\n",
            "  0.33186726 0.42864298 0.33251529 0.68100267 0.80366177 0.28378455\n",
            "  0.34117713 0.44315636 0.16691969 0.09115439 0.38047932 0.79747818\n",
            "  0.48337156 0.59998432 0.63684557 0.61522741 0.30836424 0.15946952\n",
            "  0.21643453 0.36674326 0.45342956 0.41622562 0.20240723 0.81517341\n",
            "  0.35416074 0.16553021 0.88648063 0.16229711 0.59841915 0.71736547\n",
            "  0.78491569 0.45653439 0.20756844 0.23345634]\n",
            " [0.6124725  0.14765877 0.59241204 0.40030985 0.63258627 0.49562209\n",
            "  0.25527132 0.47233145 0.51048658 0.23365756 0.70868505 0.24375872\n",
            "  0.10328263 0.58303848 0.18256013 0.24061864 0.45409878 0.32575782\n",
            "  0.37949975 0.33743755 0.2583369  0.39774148 0.30999251 0.26371038\n",
            "  0.54835744 0.21620832 0.24779641 0.67275166 0.48381728 0.37392143\n",
            "  0.22327604 0.         0.43843082 0.20191235 0.39062376 0.5441354\n",
            "  0.54802639 0.61032075 0.49247267 0.26946297 0.28506112 0.05896094\n",
            "  0.2217419  0.23749876 0.19099343 0.22691938 0.44000005 0.52212054\n",
            "  0.24718404 0.22595328 0.50307003 0.63010983 0.31243626 0.07780244\n",
            "  0.40895281 0.35387281 0.31878647 0.17524718 0.25941412 0.43692409\n",
            "  0.25687143 0.51668155 0.62950818 0.41154916 0.73719177 0.10957691\n",
            "  0.31824777 0.23615005 0.55015313 0.55748585 0.6218983  0.46123918\n",
            "  0.21478391 0.55516954 0.06338585 0.28202578 0.17150077 0.58780255\n",
            "  0.44335171 0.45478834 0.41394999 0.48113746 0.45083243 0.15059407\n",
            "  0.38504516 0.32807076 0.52959866 0.22777665 0.17385178 0.65393784\n",
            "  0.56374659 0.35786222 0.7173781  0.09828284 0.38545462 0.64076473\n",
            "  0.65321595 0.53176443 0.38921921 0.4322666 ]\n",
            " [0.18361346 0.49702319 0.16556218 0.80661719 0.23459294 0.90742437\n",
            "  0.60225458 0.82115364 0.94186413 0.48817719 0.28922619 0.21862965\n",
            "  0.53343889 0.34402339 0.62025144 0.61150024 0.52215158 0.5177616\n",
            "  0.40130503 0.56325914 0.52399584 0.63942214 0.72897675 0.64997329\n",
            "  0.51859536 0.60234316 0.29364907 0.7137484  0.4757326  0.7993861\n",
            "  0.43818943 0.43843082 0.         0.32778393 0.12052546 0.38590036\n",
            "  0.17434027 0.7050076  0.05431408 0.59307023 0.72349173 0.47483682\n",
            "  0.35202702 0.53917029 0.35235614 0.60056479 0.74338378 0.44501991\n",
            "  0.67122341 0.58396541 0.47218303 0.19230416 0.5329949  0.43229533\n",
            "  0.03238335 0.36591962 0.7184599  0.52119684 0.68737168 0.65073026\n",
            "  0.64725055 0.9064351  0.72754043 0.84966363 0.30649018 0.35548563\n",
            "  0.72885434 0.39081106 0.67396375 0.35306989 0.58092426 0.36153443\n",
            "  0.65307477 0.24996422 0.40246167 0.38105626 0.42330549 0.67778481\n",
            "  0.08556694 0.34494673 0.69393549 0.32973081 0.28163638 0.31643663\n",
            "  0.64784767 0.75031817 0.1692275  0.64600658 0.57456033 0.536676\n",
            "  0.720077   0.58874284 0.61516314 0.36148457 0.54678663 0.3108891\n",
            "  0.45025161 0.16860168 0.63296811 0.63919728]\n",
            " [0.51115798 0.33764684 0.4933418  0.48809616 0.46986084 0.58923806\n",
            "  0.27603099 0.49344149 0.63872968 0.39882526 0.55353019 0.11286345\n",
            "  0.2557254  0.38480653 0.36281283 0.28917866 0.2884785  0.21159232\n",
            "  0.18896099 0.50427554 0.19804652 0.32619377 0.5057128  0.46560014\n",
            "  0.36077348 0.28521931 0.30412058 0.51255158 0.29672573 0.49339015\n",
            "  0.36841853 0.20191235 0.32778393 0.         0.23669898 0.3422246\n",
            "  0.38396128 0.46773308 0.37502726 0.26534905 0.4511461  0.26017862\n",
            "  0.31920092 0.42088588 0.29255913 0.2796211  0.41936799 0.32471088\n",
            "  0.44211939 0.42391723 0.31228544 0.51257869 0.21809162 0.25483757\n",
            "  0.30765121 0.15751645 0.51963175 0.20015744 0.389429   0.34802876\n",
            "  0.45878149 0.58122282 0.48939851 0.56694037 0.59113478 0.2136173\n",
            "  0.51685901 0.07566076 0.69731483 0.35705464 0.43576774 0.51036201\n",
            "  0.3886386  0.52438464 0.21864914 0.38466598 0.09732761 0.44189737\n",
            "  0.29733962 0.2528928  0.3730706  0.27974552 0.46673009 0.21719843\n",
            "  0.56698828 0.52161857 0.4694169  0.34195474 0.3757634  0.45627099\n",
            "  0.72238664 0.52817554 0.52338697 0.20720807 0.25841317 0.45480261\n",
            "  0.45139588 0.4703916  0.56579578 0.59996998]\n",
            " [0.28904937 0.48197648 0.2739499  0.72475157 0.2421183  0.82590992\n",
            "  0.51148205 0.72240999 0.87217507 0.4981998  0.32104761 0.14731828\n",
            "  0.47347289 0.25718362 0.57157246 0.52585779 0.40192984 0.40700945\n",
            "  0.2816175  0.58808864 0.4235463  0.52898793 0.69730691 0.63201305\n",
            "  0.40052726 0.5213931  0.32074824 0.5944226  0.35572332 0.72728651\n",
            "  0.45178292 0.39062376 0.12052546 0.23669898 0.         0.27916201\n",
            "  0.157462   0.58448214 0.151515   0.49798396 0.66970157 0.43774272\n",
            "  0.37069225 0.54156072 0.3607404  0.51630141 0.6382486  0.32888546\n",
            "  0.63588135 0.57296986 0.35314444 0.2810632  0.42497368 0.4058671\n",
            "  0.12078052 0.2471086  0.69657724 0.43674379 0.61965571 0.53684023\n",
            "  0.62761765 0.81655276 0.60701565 0.79175793 0.35550793 0.33315945\n",
            "  0.70185709 0.28829935 0.73061082 0.25545837 0.46523927 0.4470777\n",
            "  0.6019328  0.36704444 0.37080787 0.41659544 0.33388215 0.55726001\n",
            "  0.06107687 0.22758548 0.58673674 0.21728251 0.37449599 0.30345251\n",
            "  0.66812115 0.71674368 0.28920634 0.57429541 0.54844305 0.42982051\n",
            "  0.77094391 0.61407378 0.5083465  0.33545054 0.43134744 0.26597519\n",
            "  0.35892752 0.28874433 0.65759287 0.67378519]\n",
            " [0.50292337 0.6754567  0.49569611 0.74696629 0.31912478 0.84092306\n",
            "  0.53097226 0.6825295  0.91949131 0.72232423 0.39916756 0.34562582\n",
            "  0.58711158 0.09385362 0.69631366 0.56058045 0.24835513 0.35736087\n",
            "  0.19656985 0.82325216 0.42363237 0.45379644 0.84432275 0.80779884\n",
            "  0.16698658 0.57179294 0.57494167 0.35818045 0.16502107 0.77873059\n",
            "  0.68326505 0.5441354  0.38590036 0.3422246  0.27916201 0.\n",
            "  0.27126224 0.38174072 0.39117325 0.50372217 0.77309184 0.60225803\n",
            "  0.61377144 0.75336407 0.59531847 0.55714455 0.57744432 0.09276656\n",
            "  0.78084519 0.76404583 0.1432591  0.46880362 0.3868866  0.59224465\n",
            "  0.39600518 0.20253614 0.86126789 0.49260627 0.69401046 0.43614956\n",
            "  0.80100591 0.80365975 0.40169807 0.87543125 0.45309139 0.53709726\n",
            "  0.85716089 0.32767138 0.99105221 0.05331942 0.20767151 0.72527073\n",
            "  0.71802082 0.63489512 0.55500392 0.6702521  0.40270652 0.35781722\n",
            "  0.30081626 0.08957142 0.52166086 0.06830852 0.65365527 0.52385008\n",
            "  0.89475777 0.85874057 0.5505315  0.64354332 0.71798388 0.15109355\n",
            "  1.02593419 0.84862666 0.22971343 0.5340629  0.33935183 0.21689409\n",
            "  0.10986755 0.54923167 0.88960104 0.91576626]\n",
            " [0.23383959 0.63615031 0.22902623 0.86924556 0.08602107 0.96994926\n",
            "  0.6515225  0.8509288  1.02268116 0.64405566 0.17065999 0.30444068\n",
            "  0.62910572 0.20001253 0.72860157 0.66975579 0.47535203 0.52231108\n",
            "  0.36994932 0.72724019 0.55538728 0.64113061 0.85458125 0.78739991\n",
            "  0.4313677  0.66844112 0.45600259 0.62735228 0.4072924  0.87735096\n",
            "  0.59566169 0.54802639 0.17434027 0.38396128 0.157462   0.27126224\n",
            "  0.         0.64006377 0.14846769 0.63417075 0.82580275 0.59504079\n",
            "  0.5112181  0.69076976 0.50589894 0.66129714 0.75849798 0.35329563\n",
            "  0.79328924 0.72656763 0.39453725 0.19754269 0.54519717 0.56188945\n",
            "  0.20147472 0.34530008 0.85279366 0.58283707 0.77218547 0.6397271\n",
            "  0.78330725 0.95389741 0.66146397 0.94664646 0.21385918 0.48787484\n",
            "  0.85874552 0.42264587 0.84777346 0.22425732 0.47889665 0.53400646\n",
            "  0.75861374 0.3935009  0.52739521 0.54816384 0.47887057 0.61418495\n",
            "  0.11245921 0.27068698 0.7042448  0.23885177 0.45253249 0.4554195\n",
            "  0.81007387 0.87412662 0.30579803 0.72553845 0.70494711 0.41099625\n",
            "  0.8930747  0.75307733 0.48624413 0.49092635 0.53271485 0.1375314\n",
            "  0.30323065 0.30364448 0.7971821  0.80749402]\n",
            " [0.85864756 0.7569605  0.84741854 0.57396862 0.6986088  0.63959571\n",
            "  0.42832213 0.44142483 0.74818694 0.84158754 0.78056107 0.55428491\n",
            "  0.58607367 0.47434083 0.67637039 0.46505239 0.18672951 0.28471193\n",
            "  0.30821529 0.94689744 0.36043916 0.25726442 0.82421799 0.83661527\n",
            "  0.21498236 0.49277644 0.77183007 0.09164762 0.23389936 0.63819618\n",
            "  0.82151932 0.61032075 0.7050076  0.46773308 0.58448214 0.38174072\n",
            "  0.64006377 0.         0.7294086  0.39622069 0.70514034 0.66300517\n",
            "  0.78417996 0.84731737 0.75580093 0.47148092 0.33918271 0.29045322\n",
            "  0.76971558 0.82385612 0.24562025 0.83354332 0.3014422  0.6851434\n",
            "  0.70165103 0.34630329 0.86441168 0.45883102 0.60571904 0.21067929\n",
            "  0.82744596 0.572606   0.02263368 0.76033192 0.83413222 0.66973222\n",
            "  0.84701954 0.39698807 1.15402742 0.43502587 0.20392959 0.97335522\n",
            "  0.68058962 0.94716244 0.65643634 0.850373   0.44183151 0.0273056\n",
            "  0.63116858 0.37148635 0.30099253 0.40121201 0.92076335 0.68202142\n",
            "  0.99393641 0.82885989 0.8731772  0.56353162 0.75543892 0.30976367\n",
            "  1.17230619 0.96797646 0.29743648 0.66079057 0.22487008 0.59760302\n",
            "  0.42719865 0.87286961 0.99934208 1.04228482]\n",
            " [0.13813445 0.55049934 0.12246152 0.85745918 0.19323847 0.95843033\n",
            "  0.6506918  0.86732893 0.99473116 0.53876263 0.2391986  0.26861172\n",
            "  0.58686557 0.33725912 0.67442624 0.66124834 0.54999563 0.55760903\n",
            "  0.4313439  0.61059569 0.56906557 0.67959792 0.78310716 0.70338604\n",
            "  0.53485719 0.65306736 0.34312637 0.73179889 0.49707403 0.85183859\n",
            "  0.48850337 0.49247267 0.05431408 0.37502726 0.151515   0.39117325\n",
            "  0.14846769 0.7294086  0.         0.64020326 0.777518   0.52915041\n",
            "  0.40223706 0.59065506 0.4041063  0.65060028 0.78670623 0.45891316\n",
            "  0.72548158 0.63688779 0.49078823 0.13953424 0.57453148 0.48648364\n",
            "  0.0857554  0.39788132 0.77207868 0.57100017 0.74025128 0.68827548\n",
            "  0.70079392 0.95551612 0.75174905 0.90352937 0.25332245 0.40966566\n",
            "  0.78277678 0.43461837 0.711222   0.35255451 0.59296858 0.38875848\n",
            "  0.7071782  0.24825614 0.45676788 0.42744722 0.47156382 0.7023968\n",
            "  0.09825906 0.36203435 0.73612476 0.34138387 0.30626346 0.37035067\n",
            "  0.69576051 0.80450287 0.16133286 0.69833022 0.6285761  0.53973336\n",
            "  0.75917859 0.63582603 0.61744026 0.41574524 0.58286215 0.2853194\n",
            "  0.44339561 0.15963994 0.67999115 0.683722  ]\n",
            " [0.7765035  0.39812947 0.75863124 0.2441178  0.71805188 0.34129784\n",
            "  0.03291212 0.22899859 0.41600051 0.49610996 0.80470447 0.37597146\n",
            "  0.20602215 0.57835218 0.28239123 0.06985408 0.30220667 0.15242449\n",
            "  0.30746843 0.59408389 0.08161283 0.14521459 0.42810235 0.44817126\n",
            "  0.42515618 0.09655924 0.50102556 0.47713013 0.37155711 0.2778601\n",
            "  0.49188861 0.26946297 0.59307023 0.26534905 0.49798396 0.50372217\n",
            "  0.63417075 0.39622069 0.64020326 0.         0.31168744 0.30580119\n",
            "  0.48670996 0.48587367 0.45551877 0.07526469 0.17225263 0.43918225\n",
            "  0.374854   0.447294   0.39774635 0.77704218 0.122407   0.34595166\n",
            "  0.57215182 0.31038126 0.46990091 0.09494509 0.21466678 0.19143649\n",
            "  0.43868795 0.31980928 0.41061927 0.38636456 0.84661373 0.36660079\n",
            "  0.45131682 0.21172307 0.81191148 0.54038572 0.48427556 0.71918916\n",
            "  0.28452331 0.77543498 0.330734   0.5497125  0.17077493 0.38036017\n",
            "  0.55906081 0.42484971 0.14528744 0.46357043 0.69495555 0.39819422\n",
            "  0.6249327  0.43268905 0.72878309 0.16885087 0.37439617 0.55496183\n",
            "  0.81913728 0.61109335 0.59569769 0.35511805 0.19736125 0.6768951\n",
            "  0.60701103 0.73006853 0.63526154 0.68466929]\n",
            " [0.89632634 0.28587993 0.87613616 0.21785884 0.91140885 0.27571359\n",
            "  0.27882738 0.36831    0.24367905 0.37628095 0.99020969 0.52263563\n",
            "  0.19694831 0.83062734 0.10545386 0.24183591 0.60734754 0.45471988\n",
            "  0.58215677 0.43376698 0.37097303 0.44846058 0.13936817 0.21560238\n",
            "  0.72605506 0.21757113 0.50163629 0.7882271  0.66707426 0.14618056\n",
            "  0.40478643 0.28506112 0.72349173 0.4511461  0.66970157 0.77309184\n",
            "  0.82580275 0.70514034 0.777518   0.31168744 0.         0.25577571\n",
            "  0.45492874 0.3324327  0.43109495 0.23778778 0.40750775 0.72591963\n",
            "  0.11925114 0.26256177 0.69175348 0.91509435 0.42701721 0.30787912\n",
            "  0.69393771 0.57059363 0.19619717 0.28311342 0.10005339 0.49554243\n",
            "  0.2071167  0.33510134 0.71796509 0.12778654 1.02072581 0.3794018\n",
            "  0.16769728 0.44584319 0.64097391 0.79858642 0.79028582 0.68747051\n",
            "  0.07117722 0.82124028 0.32802326 0.49325023 0.37165322 0.69079538\n",
            "  0.72509671 0.68549443 0.41900911 0.71921862 0.70021741 0.42263944\n",
            "  0.42229957 0.13389042 0.80659175 0.14288881 0.20392301 0.85098808\n",
            "  0.62773523 0.4387686  0.89938462 0.37049633 0.50664692 0.90591685\n",
            "  0.88213089 0.80902361 0.44279739 0.4993132 ]\n",
            " [0.64285919 0.09464837 0.62254719 0.40124802 0.6785159  0.49123118\n",
            "  0.28670284 0.49198994 0.4923051  0.19032511 0.752055   0.29283155\n",
            "  0.11010391 0.63911259 0.15032193 0.26564753 0.51084224 0.37837392\n",
            "  0.43837131 0.28977032 0.30635217 0.4415336  0.25956461 0.20565448\n",
            "  0.60687518 0.23751392 0.25022368 0.72779282 0.54238236 0.36357187\n",
            "  0.19077694 0.05896094 0.47483682 0.26017862 0.43774272 0.60225803\n",
            "  0.59504079 0.66300517 0.52915041 0.30580119 0.25577571 0.\n",
            "  0.21144171 0.18493005 0.18348344 0.25220787 0.47160315 0.5810796\n",
            "  0.19854038 0.16737281 0.56183871 0.66445007 0.36284009 0.05492507\n",
            "  0.44410254 0.41282434 0.26316481 0.21549774 0.25113427 0.48285075\n",
            "  0.19915608 0.52178111 0.68167425 0.3835482  0.77792053 0.12378466\n",
            "  0.26510226 0.29467731 0.50640287 0.61449104 0.68021454 0.45252123\n",
            "  0.18473072 0.56765862 0.07304849 0.26354604 0.2281177  0.64114363\n",
            "  0.48766888 0.51304019 0.45103924 0.53872164 0.45289812 0.16691955\n",
            "  0.33093213 0.27918735 0.55081725 0.22994746 0.11617926 0.71289846\n",
            "  0.51603168 0.30842143 0.77622635 0.11538499 0.43836679 0.69287239\n",
            "  0.71110108 0.55324795 0.33698821 0.38275216]\n",
            " [0.48666106 0.17492706 0.46645772 0.612517   0.58361017 0.70245478\n",
            "  0.47551811 0.69401913 0.69726139 0.13661716 0.6409859  0.26873619\n",
            "  0.31712295 0.61940714 0.35246421 0.46233371 0.6076203  0.51040767\n",
            "  0.50366778 0.21744537 0.46017084 0.60315785 0.412943   0.31749499\n",
            "  0.67298634 0.4377316  0.05993499 0.83174769 0.6106864  0.57376628\n",
            "  0.08626632 0.2217419  0.35202702 0.31920092 0.37069225 0.61377144\n",
            "  0.5112181  0.78417996 0.40223706 0.48670996 0.45492874 0.21144171\n",
            "  0.         0.19034384 0.03119207 0.44863812 0.65874839 0.62467014\n",
            "  0.36646275 0.24622996 0.62278446 0.5204744  0.50538949 0.15694446\n",
            "  0.31987744 0.46812805 0.38787718 0.39179564 0.4623343  0.63713852\n",
            "  0.31728088 0.73241685 0.80532693 0.58015524 0.65408141 0.12122069\n",
            "  0.40519753 0.38721066 0.38168112 0.60753905 0.74778669 0.24147567\n",
            "  0.38658602 0.37134876 0.1583668  0.06641014 0.35179029 0.75898641\n",
            "  0.39923558 0.53370683 0.62842563 0.54546411 0.24529245 0.10226403\n",
            "  0.29893258 0.43627433 0.37308707 0.44051408 0.26229981 0.75092191\n",
            "  0.41276044 0.2434288  0.82442256 0.13231458 0.56580858 0.63514125\n",
            "  0.71224826 0.37606429 0.28711488 0.30452695]\n",
            " [0.67662    0.09041403 0.65648375 0.53131205 0.76706221 0.60517817\n",
            "  0.46349279 0.65010249 0.57184355 0.05768687 0.82835185 0.41502851\n",
            "  0.28089396 0.7751842  0.25145926 0.43747886 0.69051313 0.56260645\n",
            "  0.60802648 0.1103738  0.49125113 0.62499693 0.2477238  0.14194484\n",
            "  0.77932464 0.40712207 0.25027016 0.91018109 0.714752   0.47300344\n",
            "  0.10640685 0.23749876 0.53917029 0.42088588 0.54156072 0.75336407\n",
            "  0.69076976 0.84731737 0.59065506 0.48587367 0.3324327  0.18493005\n",
            "  0.19034384 0.         0.18685338 0.42484755 0.64522961 0.74538927\n",
            "  0.219593   0.07300275 0.73208364 0.71081037 0.54769103 0.16739431\n",
            "  0.50680777 0.57831919 0.20931421 0.39888101 0.3778898  0.66710054\n",
            "  0.14519394 0.65415203 0.86621227 0.44360689 0.84337395 0.21694133\n",
            "  0.23265804 0.46919272 0.32939911 0.75685115 0.85380618 0.37611776\n",
            "  0.27846537 0.54752876 0.20237623 0.19255925 0.40865906 0.82508252\n",
            "  0.57835255 0.66671102 0.63005076 0.68649465 0.41030469 0.23873859\n",
            "  0.14789186 0.27119732 0.55981287 0.37693338 0.13263985 0.87661678\n",
            "  0.33327315 0.12529318 0.94425136 0.21933266 0.62249027 0.80733855\n",
            "  0.85873613 0.56292412 0.15211125 0.19887338]\n",
            " [0.49586473 0.1570009  0.4755101  0.58382257 0.58081392 0.67469773\n",
            "  0.44441158 0.66332476 0.67237189 0.13818415 0.64150816 0.24969622\n",
            "  0.2875349  0.60502788 0.32751074 0.4314943  0.5805609  0.48065822\n",
            "  0.47868538 0.22968576 0.42938489 0.57235009 0.39659312 0.30518182\n",
            "  0.64889864 0.40712957 0.07221091 0.80477454 0.58609619 0.54678652\n",
            "  0.09111386 0.19099343 0.35235614 0.29255913 0.3607404  0.59531847\n",
            "  0.50589894 0.75580093 0.4041063  0.45551877 0.43109495 0.18348344\n",
            "  0.03119207 0.18685338 0.         0.41780408 0.62756455 0.6026279\n",
            "  0.34729247 0.23549788 0.59896106 0.52705621 0.47512785 0.12861283\n",
            "  0.31998484 0.44377396 0.37537608 0.36060635 0.4346162  0.60663792\n",
            "  0.30408497 0.70321764 0.77681277 0.55726293 0.65714197 0.09028324\n",
            "  0.39072663 0.35904658 0.40558244 0.59137313 0.72384737 0.27106627\n",
            "  0.36187475 0.39148187 0.12761224 0.09641241 0.32163059 0.73079397\n",
            "  0.39347137 0.51358103 0.59727563 0.52709581 0.27015868 0.07563073\n",
            "  0.30754837 0.41963139 0.38723411 0.41146628 0.24342843 0.73008541\n",
            "  0.43403505 0.25551518 0.80273379 0.10125956 0.53649235 0.62644405\n",
            "  0.69564426 0.39007219 0.29821169 0.32054465]\n",
            " [0.78378425 0.34011009 0.7650343  0.20848811 0.74667934 0.30961716\n",
            "  0.04373348 0.24589653 0.36681116 0.44089435 0.8316695  0.38210464\n",
            "  0.14464726 0.62579125 0.20872061 0.01370232 0.37119072 0.21883581\n",
            "  0.36104746 0.53456349 0.13732367 0.21896277 0.3529254  0.37651395\n",
            "  0.49211611 0.02137241 0.47098662 0.55214802 0.43560747 0.22290141\n",
            "  0.44252273 0.22691938 0.60056479 0.2796211  0.51630141 0.55714455\n",
            "  0.66129714 0.47148092 0.65060028 0.07526469 0.23778778 0.25220787\n",
            "  0.44863812 0.42484755 0.41780408 0.         0.22062738 0.49948526\n",
            "  0.30039144 0.38075287 0.46118904 0.78954193 0.1901949  0.29862424\n",
            "  0.57665696 0.35750055 0.3954878  0.07974938 0.1432693  0.26570842\n",
            "  0.36694054 0.30718074 0.48578712 0.32092178 0.87045071 0.33280977\n",
            "  0.37635525 0.24342524 0.75352624 0.58973721 0.55408439 0.68712125\n",
            "  0.2094137  0.76285446 0.29027333 0.50842299 0.1827919  0.45556019\n",
            "  0.57681782 0.47398894 0.2079057  0.51117888 0.67104386 0.36937063\n",
            "  0.55952703 0.35742898 0.72385488 0.09508806 0.30682683 0.61990357\n",
            "  0.75741117 0.54997473 0.66438675 0.32115648 0.26899739 0.71688791\n",
            "  0.66334812 0.725467   0.57145504 0.62257338]\n",
            " [0.92468137 0.56069618 0.90793003 0.23844707 0.83808521 0.3008017\n",
            "  0.18528581 0.10882564 0.40942684 0.66116167 0.92593146 0.53222962\n",
            "  0.3652545  0.66436367 0.41637009 0.20778945 0.33540727 0.23624106\n",
            "  0.3969989  0.75510646 0.2214905  0.12366071 0.54248861 0.58641877\n",
            "  0.45434881 0.2381507  0.6730483  0.43051384 0.41935372 0.30982825\n",
            "  0.66064774 0.44000005 0.74338378 0.41936799 0.6382486  0.57744432\n",
            "  0.75849798 0.33918271 0.78670623 0.17225263 0.40750775 0.47160315\n",
            "  0.65874839 0.64522961 0.62756455 0.22062738 0.         0.49524253\n",
            "  0.50049446 0.59850749 0.44539092 0.91923453 0.21411555 0.51523524\n",
            "  0.72568623 0.41479669 0.59336057 0.26699758 0.31009768 0.14908867\n",
            "  0.57675387 0.23938842 0.34484294 0.43452819 0.97223037 0.53883169\n",
            "  0.5692107  0.35257728 0.9741207  0.62324539 0.4926342  0.89125108\n",
            "  0.40694752 0.94030609 0.50208259 0.72132739 0.3329777  0.33480103\n",
            "  0.69844092 0.51481877 0.05593414 0.55477327 0.86532431 0.57024206\n",
            "  0.77749231 0.54064244 0.88865549 0.28345962 0.52418064 0.58482255\n",
            "  0.97724415 0.77020004 0.60433819 0.52733498 0.2383428  0.77655482\n",
            "  0.6668862  0.88967831 0.79051363 0.84239282]\n",
            " [0.57966034 0.66218195 0.57056453 0.67860242 0.40829661 0.7692399\n",
            "  0.46874008 0.60217889 0.85418362 0.72070982 0.49019187 0.35824442\n",
            "  0.54960751 0.18660338 0.657995   0.5010891  0.16093772 0.28781568\n",
            "  0.1457619  0.82485229 0.36259236 0.37229623 0.80938988 0.78395738\n",
            "  0.07807354 0.51612596 0.59322596 0.27492302 0.07622882 0.71692746\n",
            "  0.68621927 0.52212054 0.44501991 0.32471088 0.32888546 0.09276656\n",
            "  0.35329563 0.29045322 0.45891316 0.43918225 0.72591963 0.5810796\n",
            "  0.62467014 0.74538927 0.6026279  0.49948526 0.49524253 0.\n",
            "  0.74671599 0.74718493 0.05169822 0.54968031 0.31804324 0.57952754\n",
            "  0.44956891 0.16831264 0.83216212 0.44280713 0.64057185 0.35039076\n",
            "  0.77643187 0.7266408  0.31093886 0.82035508 0.54368443 0.53392561\n",
            "  0.82480885 0.29040314 1.00611614 0.14585255 0.13635765 0.76335128\n",
            "  0.67627067 0.6946994  0.54332601 0.68552274 0.36461594 0.26595132\n",
            "  0.36317372 0.10168661 0.44001769 0.11784171 0.69724087 0.52806397\n",
            "  0.89077669 0.82181041 0.61354381 0.59031683 0.69425833 0.13184897\n",
            "  1.0366489  0.8494506  0.20026884 0.52898942 0.25994556 0.30962408\n",
            "  0.17212761 0.61262961 0.88841623 0.91959345]\n",
            " [0.83415589 0.19154819 0.81373409 0.33423206 0.87698746 0.39477907\n",
            "  0.34412489 0.47637371 0.35251737 0.26866743 0.9504857  0.49002731\n",
            "  0.19754977 0.82675757 0.09367295 0.30892508 0.64821747 0.4991686\n",
            "  0.60096572 0.31635899 0.4155472  0.51935421 0.06360236 0.09653306\n",
            "  0.75907931 0.27907006 0.41949835 0.8470077  0.69661277 0.26528148\n",
            "  0.30392504 0.24718404 0.67122341 0.44211939 0.63588135 0.78084519\n",
            "  0.79328924 0.76971558 0.72548158 0.374854   0.11925114 0.19854038\n",
            "  0.36646275 0.219593   0.34729247 0.30039144 0.50049446 0.74671599\n",
            "  0.         0.14734087 0.71926498 0.85886495 0.47510508 0.23930832\n",
            "  0.6399645  0.58223491 0.09509684 0.31765674 0.19452507 0.56605378\n",
            "  0.08789733 0.45354195 0.78491464 0.22411306 0.9756625  0.31603955\n",
            "  0.07904627 0.45687131 0.52173879 0.79898378 0.82830712 0.58738256\n",
            "  0.09364499 0.73774948 0.26918488 0.39480955 0.38213451 0.75228958\n",
            "  0.68620924 0.69137421 0.50221023 0.72098663 0.60912527 0.35690403\n",
            "  0.30325143 0.08095443 0.73321026 0.21765319 0.10416502 0.87654499\n",
            "  0.50889212 0.32020347 0.93256769 0.3097389  0.55638688 0.88790808\n",
            "  0.89068943 0.73592734 0.32355193 0.38006213]\n",
            " [0.73123485 0.09132649 0.71090434 0.46748214 0.80592758 0.53719231\n",
            "  0.42188052 0.59431246 0.49985707 0.12665634 0.87169196 0.43717644\n",
            "  0.24188281 0.79421873 0.19037947 0.39250679 0.67720159 0.54055459\n",
            "  0.60534772 0.17183773 0.4638239  0.5903678  0.1755632  0.07213633\n",
            "  0.77423212 0.36147211 0.30481591 0.89188774 0.7097223  0.40554074\n",
            "  0.16966107 0.22595328 0.58396541 0.42391723 0.57296986 0.76404583\n",
            "  0.72656763 0.82385612 0.63688779 0.447294   0.26256177 0.16737281\n",
            "  0.24622996 0.07300275 0.23549788 0.38075287 0.59850749 0.74718493\n",
            "  0.14734087 0.         0.72901136 0.76236591 0.52242094 0.17277543\n",
            "  0.5516613  0.57888146 0.14213573 0.36703863 0.31629512 0.63443127\n",
            "  0.07372628 0.58968896 0.8416718  0.37100646 0.89020185 0.24003264\n",
            "  0.16241484 0.46202048 0.38544739 0.7725275  0.84758151 0.44751116\n",
            "  0.21361792 0.61263791 0.21015492 0.25985256 0.39488396 0.80303188\n",
            "  0.61498427 0.67554181 0.58847611 0.69889222 0.4777968  0.27135382\n",
            "  0.17899783 0.19915454 0.6192798  0.32167016 0.07434559 0.87903072\n",
            "  0.38096885 0.17957999 0.94323536 0.23886801 0.6005145  0.83646179\n",
            "  0.8717643  0.62227119 0.19291496 0.24699082]\n",
            " [0.61609512 0.64656467 0.60586861 0.63419222 0.45398521 0.72316644\n",
            "  0.42828038 0.55285098 0.81078591 0.71107561 0.53732255 0.36177484\n",
            "  0.52171602 0.23697584 0.62882765 0.4618214  0.11017943 0.24537812\n",
            "  0.12409868 0.81634849 0.32386771 0.32300732 0.78121886 0.76180155\n",
            "  0.05077651 0.47875309 0.59578149 0.24159972 0.02667131 0.67549302\n",
            "  0.67937424 0.50307003 0.47218303 0.31228544 0.35314444 0.1432591\n",
            "  0.39453725 0.24562025 0.49078823 0.39774635 0.69175348 0.56183871\n",
            "  0.62278446 0.73208364 0.59896106 0.46118904 0.44539092 0.05169822\n",
            "  0.71926498 0.72901136 0.         0.58893445 0.27554681 0.56497886\n",
            "  0.47358304 0.15559217 0.80696567 0.4093066  0.60359395 0.29955678\n",
            "  0.75392228 0.6784268  0.26692904 0.78188074 0.59029598 0.52521866\n",
            "  0.79792872 0.26748149 1.00429199 0.19569205 0.12501826 0.77574692\n",
            "  0.64517625 0.72016882 0.52976424 0.68554755 0.33907444 0.22006126\n",
            "  0.39334913 0.12882245 0.39048151 0.15573841 0.71321454 0.52355114\n",
            "  0.87887141 0.79254199 0.64140277 0.55372296 0.67269775 0.15923962\n",
            "  1.03228263 0.84038849 0.21468076 0.519287   0.21233927 0.35942585\n",
            "  0.2215255  0.6407234  0.87805748 0.91185887]\n",
            " [0.05477023 0.67893699 0.06663181 0.99672606 0.17631701 1.09774886\n",
            "  0.788591   1.00292666 1.13407067 0.65631643 0.16326348 0.40785901\n",
            "  0.72573122 0.39399614 0.81134994 0.80002462 0.66223001 0.68681437\n",
            "  0.54896431 0.71723887 0.70411438 0.80855163 0.91498487 0.83090053\n",
            "  0.62769449 0.79232782 0.46054208 0.82430139 0.59973549 0.99132828\n",
            "  0.60576636 0.63010983 0.19230416 0.51257869 0.2810632  0.46880362\n",
            "  0.19754269 0.83354332 0.13953424 0.77704218 0.91509435 0.66445007\n",
            "  0.5204744  0.71081037 0.52705621 0.78954193 0.91923453 0.54968031\n",
            "  0.85886495 0.76236591 0.58893445 0.         0.70568459 0.61957392\n",
            "  0.22115981 0.51882518 0.9004947  0.70986139 0.87957692 0.8136403\n",
            "  0.82899639 1.09370379 0.85530129 1.04158047 0.14791534 0.54296515\n",
            "  0.91303776 0.56899301 0.7879909  0.42120017 0.67643675 0.45077796\n",
            "  0.84446064 0.25903413 0.59159095 0.53457488 0.60957749 0.80720964\n",
            "  0.22086299 0.46212844 0.86741366 0.43348846 0.36886367 0.50207392\n",
            "  0.80324836 0.93687831 0.18394697 0.83784003 0.75985001 0.60644733\n",
            "  0.84029323 0.74140731 0.68013782 0.54985785 0.70692424 0.30138492\n",
            "  0.49246258 0.18056212 0.78489945 0.78119149]\n",
            " [0.71266113 0.45728901 0.69638095 0.36104499 0.62586286 0.45403749\n",
            "  0.15374594 0.30709847 0.53614038 0.54583269 0.71360144 0.3288926\n",
            "  0.28568751 0.46631903 0.3814751  0.1888081  0.18103885 0.0302451\n",
            "  0.19350947 0.64985099 0.0598314  0.10825837 0.53292297 0.53668211\n",
            "  0.30301404 0.20964018 0.50518593 0.37297571 0.24926396 0.39995515\n",
            "  0.53063167 0.31243626 0.5329949  0.21809162 0.42497368 0.3868866\n",
            "  0.54519717 0.3014422  0.57453148 0.122407   0.42701721 0.36284009\n",
            "  0.50538949 0.54769103 0.47512785 0.1901949  0.21411555 0.31804324\n",
            "  0.47510508 0.52242094 0.27554681 0.70568459 0.         0.38912988\n",
            "  0.51728315 0.20455978 0.568574   0.15881047 0.33338926 0.132956\n",
            "  0.52766438 0.41991049 0.31937871 0.50828402 0.75904872 0.38545134\n",
            "  0.55370164 0.14478507 0.8614829  0.42686213 0.36389072 0.71974563\n",
            "  0.39048141 0.74209871 0.36373188 0.57151719 0.15364783 0.28107224\n",
            "  0.48482263 0.31304037 0.16176352 0.35274879 0.68207113 0.40633624\n",
            "  0.69346729 0.5403977  0.68429492 0.28504679 0.45424455 0.43255713\n",
            "  0.87618136 0.66996743 0.47444271 0.37522489 0.08129796 0.57168813\n",
            "  0.48754567 0.68504418 0.69979391 0.74440936]\n",
            " [0.59562184 0.08324415 0.57522848 0.45557501 0.64371208 0.54608639\n",
            "  0.32999327 0.54164342 0.54634938 0.15678177 0.71427736 0.2658569\n",
            "  0.16121437 0.62149039 0.20274163 0.31226836 0.52405176 0.40121119\n",
            "  0.44088562 0.26175611 0.33584732 0.47554391 0.29677193 0.22642533\n",
            "  0.61200816 0.28563013 0.19559266 0.74504574 0.54741877 0.41847671\n",
            "  0.14596427 0.07780244 0.43229533 0.25483757 0.4058671  0.59224465\n",
            "  0.56188945 0.6851434  0.48648364 0.34595166 0.30787912 0.05492507\n",
            "  0.15694446 0.16739431 0.12861283 0.29862424 0.51523524 0.57952754\n",
            "  0.23930832 0.17277543 0.56497886 0.61957392 0.38912988 0.\n",
            "  0.40085584 0.41183991 0.29090539 0.25240497 0.30601841 0.51459809\n",
            "  0.22179238 0.57560268 0.70469917 0.435376   0.73760751 0.07682016\n",
            "  0.2980101  0.30193621 0.47266579 0.59982139 0.68643719 0.39831828\n",
            "  0.23729931 0.51390265 0.03739577 0.21134696 0.24382191 0.66209897\n",
            "  0.45213274 0.50423654 0.49088145 0.52660739 0.39800552 0.11791017\n",
            "  0.31501992 0.3180231  0.49958984 0.28366599 0.14348579 0.71110605\n",
            "  0.48748149 0.2831783  0.77769963 0.0714779  0.46051097 0.66656469\n",
            "  0.69947212 0.50211312 0.31678973 0.35730281]\n",
            " [0.20754578 0.46488846 0.18847431 0.78162357 0.2655146  0.88218944\n",
            "  0.58002816 0.80082758 0.91429129 0.45592607 0.32156298 0.19626277\n",
            "  0.50517775 0.36090689 0.59029778 0.5878907  0.51704414 0.50352147\n",
            "  0.39532495 0.53178408 0.50518164 0.624562   0.69740845 0.61781593\n",
            "  0.52123848 0.57766046 0.26171186 0.71454692 0.47532041 0.77243561\n",
            "  0.40599426 0.40895281 0.03238335 0.30765121 0.12078052 0.39600518\n",
            "  0.20147472 0.70165103 0.0857554  0.57215182 0.69393771 0.44410254\n",
            "  0.31987744 0.50680777 0.31998484 0.57665696 0.72568623 0.44956891\n",
            "  0.6399645  0.5516613  0.47358304 0.22115981 0.51728315 0.40085584\n",
            "  0.         0.35879306 0.68640353 0.49766703 0.65988093 0.63795817\n",
            "  0.61515271 0.88325192 0.72425715 0.82044803 0.33866893 0.32403632\n",
            "  0.69702163 0.37367397 0.64637988 0.36665345 0.58590234 0.33988021\n",
            "  0.623333   0.24673313 0.37151546 0.35002756 0.4016741  0.67435871\n",
            "  0.10189319 0.34835771 0.67728619 0.33668469 0.26217633 0.2845954\n",
            "  0.61617557 0.7188535  0.17236654 0.61931717 0.54282968 0.54709847\n",
            "  0.69163801 0.5573357  0.6257186  0.33027216 0.53547309 0.33636794\n",
            "  0.46641672 0.17239471 0.60156315 0.60863662]\n",
            " [0.53382511 0.49423145 0.51981693 0.55433075 0.42342506 0.6514915\n",
            "  0.33487586 0.51149505 0.72290732 0.55586292 0.51128154 0.21324842\n",
            "  0.38653747 0.26871743 0.49566676 0.36201898 0.15974081 0.17902549\n",
            "  0.0385214  0.66094222 0.22880167 0.29591755 0.64539673 0.61619849\n",
            "  0.20515926 0.37106705 0.44368964 0.37353648 0.14260731 0.58021532\n",
            "  0.52378466 0.35387281 0.36591962 0.15751645 0.2471086  0.20253614\n",
            "  0.34530008 0.34630329 0.39788132 0.31038126 0.57059363 0.41282434\n",
            "  0.46812805 0.57831919 0.44377396 0.35750055 0.41479669 0.16831264\n",
            "  0.58223491 0.57888146 0.15559217 0.51882518 0.20455978 0.41183991\n",
            "  0.35879306 0.         0.66577845 0.29042973 0.49211703 0.29570109\n",
            "  0.60880083 0.62315728 0.36890984 0.67366385 0.55835909 0.3697313\n",
            "  0.65963752 0.12594029 0.84929615 0.23224023 0.28017093 0.63282673\n",
            "  0.51632338 0.60221704 0.37598475 0.53160694 0.20121186 0.31907045\n",
            "  0.30144774 0.116587   0.3598765  0.15387692 0.5761748  0.36825573\n",
            "  0.72449988 0.65890485 0.53114963 0.44170723 0.52639068 0.30016151\n",
            "  0.87677548 0.68509445 0.36593823 0.36397245 0.18859267 0.36797058\n",
            "  0.31162473 0.53112334 0.72311405 0.75636335]\n",
            " [0.87102561 0.22173056 0.85063833 0.41360159 0.93445215 0.46115201\n",
            "  0.43922128 0.56336996 0.39855742 0.2663137  1.00374836 0.55431919\n",
            "  0.28689854 0.90176815 0.18804133 0.40398568 0.73963992 0.59196128\n",
            "  0.68676527 0.28057789 0.5088464  0.6144505  0.05942048 0.07038528\n",
            "  0.84815218 0.37416682 0.44585752 0.94103441 0.78501287 0.33862184\n",
            "  0.3114795  0.31878647 0.7184599  0.51963175 0.69657724 0.86126789\n",
            "  0.85279366 0.86441168 0.77207868 0.46990091 0.19619717 0.26316481\n",
            "  0.38787718 0.20931421 0.37537608 0.3954878  0.59336057 0.83216212\n",
            "  0.09509684 0.14213573 0.80696567 0.9004947  0.568574   0.29090539\n",
            "  0.68640353 0.66577845 0.         0.41035514 0.28457532 0.66114068\n",
            "  0.07150123 0.5279845  0.87976814 0.2669846  1.02490385 0.36585219\n",
            "  0.03181349 0.54176341 0.46472875 0.87615129 0.91843363 0.58479313\n",
            "  0.18784228 0.75462086 0.3258416  0.40090603 0.46814912 0.84672782\n",
            "  0.74285806 0.77171149 0.5966825  0.79936011 0.61897475 0.40236296\n",
            "  0.24377868 0.07639865 0.76094084 0.31168005 0.14839228 0.96294269\n",
            "  0.44352726 0.27687896 1.02109187 0.36204451 0.64976327 0.95521107\n",
            "  0.97079267 0.76390136 0.26812556 0.32386261]\n",
            " [0.7045582  0.30950752 0.68591579 0.28802228 0.66843237 0.3891965\n",
            "  0.08748522 0.31378813 0.44177565 0.40495619 0.75298455 0.30262474\n",
            "  0.12724466 0.5561135  0.22441442 0.09030355 0.33111159 0.18162095\n",
            "  0.29946217 0.50522251 0.09899392 0.22618128 0.37698043 0.378055\n",
            "  0.44551931 0.08572497 0.40723757 0.53178439 0.38508451 0.29658945\n",
            "  0.39832227 0.17524718 0.52119684 0.20015744 0.43674379 0.49260627\n",
            "  0.58283707 0.45883102 0.57100017 0.09494509 0.28311342 0.21549774\n",
            "  0.39179564 0.39888101 0.36060635 0.07974938 0.26699758 0.44280713\n",
            "  0.31765674 0.36703863 0.4093066  0.70986139 0.15881047 0.25240497\n",
            "  0.49766703 0.29042973 0.41035514 0.         0.20178996 0.26845878\n",
            "  0.36898359 0.38560591 0.47585566 0.38335477 0.79123279 0.27189876\n",
            "  0.39658213 0.16984328 0.72163852 0.5216316  0.51256169 0.62521325\n",
            "  0.23695545 0.68919976 0.23592669 0.45478551 0.10397475 0.43934546\n",
            "  0.49717795 0.40670462 0.23871366 0.44240088 0.60331703 0.3044534\n",
            "  0.54162235 0.38611165 0.64727733 0.15149749 0.29698988 0.56842857\n",
            "  0.73131326 0.52343159 0.61933247 0.26037648 0.23966396 0.64261306\n",
            "  0.60079185 0.64878923 0.55005368 0.5975664 ]\n",
            " [0.86637831 0.31120134 0.84665481 0.15447224 0.85820628 0.24012559\n",
            "  0.18178788 0.28236277 0.25449467 0.41129621 0.94026925 0.4756698\n",
            "  0.15679228 0.75764836 0.12655158 0.14520394 0.51441958 0.3621041\n",
            "  0.49954002 0.48625879 0.27999438 0.34875353 0.23242376 0.28703779\n",
            "  0.63529106 0.12485818 0.50023138 0.68956542 0.57823706 0.11450731\n",
            "  0.42922654 0.25941412 0.68737168 0.389429   0.61965571 0.69401046\n",
            "  0.77218547 0.60571904 0.74025128 0.21466678 0.10005339 0.25113427\n",
            "  0.4623343  0.3778898  0.4346162  0.1432693  0.31009768 0.64057185\n",
            "  0.19452507 0.31629512 0.60359395 0.87957692 0.33338926 0.30601841\n",
            "  0.65988093 0.49211703 0.28457532 0.20178996 0.         0.3957798\n",
            "  0.27758359 0.2774122  0.61826495 0.18156715 0.9747293  0.36625079\n",
            "  0.2593802  0.37094452 0.7017388  0.72340553 0.69726306 0.70268589\n",
            "  0.10452455 0.81382312 0.31526719 0.51099527 0.30037407 0.59184508\n",
            "  0.67792213 0.60847572 0.3192581  0.64414457 0.70357981 0.40881528\n",
            "  0.48980675 0.230965   0.78867692 0.05048136 0.245586   0.76257216\n",
            "  0.69510941 0.49577299 0.80765603 0.3556612  0.41146218 0.8411524\n",
            "  0.80169099 0.7907844  0.50716523 0.5624791 ]\n",
            " [0.82583217 0.57733747 0.81073698 0.36919132 0.714891   0.44425211\n",
            "  0.22199376 0.25791327 0.54632228 0.67027039 0.8024137  0.4560452\n",
            "  0.39269672 0.52602935 0.4738149  0.2578848  0.18947286 0.13677255\n",
            "  0.27004091 0.77240961 0.17900712 0.0471466  0.61809139 0.63903738\n",
            "  0.30565838 0.28706416 0.63808523 0.29779818 0.27416217 0.42938283\n",
            "  0.65846872 0.43692409 0.65073026 0.34802876 0.53684023 0.43614956\n",
            "  0.6397271  0.21067929 0.68827548 0.19143649 0.49554243 0.48285075\n",
            "  0.63713852 0.66710054 0.60663792 0.26570842 0.14908867 0.35039076\n",
            "  0.56605378 0.63443127 0.29955678 0.8136403  0.132956   0.51459809\n",
            "  0.63795817 0.29570109 0.66114068 0.26845878 0.3957798  0.\n",
            "  0.62960827 0.38787122 0.22250032 0.55042086 0.85131474 0.51659977\n",
            "  0.64194243 0.27285516 0.98702323 0.4843797  0.34417246 0.85264014\n",
            "  0.47489017 0.86930966 0.49181775 0.70304391 0.28599696 0.19942359\n",
            "  0.59428762 0.38179692 0.09844552 0.42106023 0.81394822 0.53883656\n",
            "  0.81000746 0.62142402 0.80785168 0.35507515 0.56283143 0.43577491\n",
            "  0.99882126 0.79125816 0.45640001 0.50609969 0.10714916 0.64252\n",
            "  0.52081635 0.80837385 0.81848129 0.86554086]\n",
            " [0.79959792 0.15032667 0.77920541 0.42143249 0.86445577 0.48243437\n",
            "  0.41009757 0.55988604 0.43534402 0.20027257 0.93301944 0.48684352\n",
            "  0.2420187  0.83794426 0.16044328 0.37714502 0.69270724 0.54894209\n",
            "  0.63195982 0.23197836 0.46792203 0.58384569 0.10258476 0.00966526\n",
            "  0.79684397 0.34621683 0.37484669 0.90046992 0.73296748 0.3531787\n",
            "  0.24305974 0.25687143 0.64725055 0.45878149 0.62761765 0.80100591\n",
            "  0.78330725 0.82744596 0.70079392 0.43868795 0.2071167  0.19915608\n",
            "  0.31728088 0.14519394 0.30408497 0.36694054 0.57675387 0.77643187\n",
            "  0.08789733 0.07372628 0.75392228 0.82899639 0.52766438 0.22179238\n",
            "  0.61515271 0.60880083 0.07150123 0.36898359 0.27758359 0.62960827\n",
            "  0.         0.54128491 0.84396055 0.30461327 0.95372749 0.29568765\n",
            "  0.08880764 0.48686821 0.43399331 0.81363722 0.86855675 0.52093999\n",
            "  0.17333906 0.68560445 0.25761057 0.33350709 0.4151588  0.80829856\n",
            "  0.67290241 0.71163879 0.57350967 0.73781305 0.55136103 0.33141624\n",
            "  0.21542328 0.12601015 0.69017029 0.29369311 0.08304832 0.90790799\n",
            "  0.42116421 0.23387028 0.96857157 0.29238728 0.60803476 0.88786058\n",
            "  0.91005492 0.69310509 0.23568939 0.29223158]\n",
            " [1.08994715 0.58836393 1.07141291 0.12299965 1.03751255 0.08547671\n",
            "  0.30523198 0.13174436 0.20355354 0.68870839 1.12435653 0.68781253\n",
            "  0.41587711 0.88584729 0.40291251 0.2955119  0.56975074 0.44806982\n",
            "  0.61327029 0.76115686 0.39897843 0.35628292 0.46891326 0.55006263\n",
            "  0.69134386 0.30894457 0.76428652 0.66422503 0.65193005 0.18952198\n",
            "  0.70558182 0.51668155 0.9064351  0.58122282 0.81655276 0.80365975\n",
            "  0.95389741 0.572606   0.95551612 0.31980928 0.33510134 0.52178111\n",
            "  0.73241685 0.65415203 0.70321764 0.30718074 0.23938842 0.7266408\n",
            "  0.45354195 0.58968896 0.6784268  1.09370379 0.41991049 0.57560268\n",
            "  0.88325192 0.62315728 0.5279845  0.38560591 0.2774122  0.38787122\n",
            "  0.54128491 0.         0.5753067  0.28756655 1.1664193  0.62624475\n",
            "  0.49745822 0.53152883 0.9735814  0.84592054 0.73190491 0.97388316\n",
            "  0.37626122 1.0669391  0.57812234 0.78488424 0.48412631 0.57106043\n",
            "  0.87757615 0.73286586 0.29046195 0.77263396 0.96751396 0.66634843\n",
            "  0.75670423 0.45688358 1.03061498 0.29193816 0.52151581 0.8226614\n",
            "  0.96242586 0.76896225 0.8437225  0.61488003 0.4666979  0.99108047\n",
            "  0.89875228 1.0322822  0.77634994 0.83259217]\n",
            " [0.880724   0.77581659 0.86958946 0.58137846 0.71922872 0.64420442\n",
            "  0.44238755 0.44479635 0.75426868 0.86127729 0.8007606  0.57664734\n",
            "  0.60302681 0.49388028 0.69177293 0.478912   0.20929981 0.30375092\n",
            "  0.33083755 0.96641289 0.37790968 0.26951723 0.83870814 0.8531845\n",
            "  0.23473194 0.50713384 0.7935186  0.0915778  0.25584347 0.64724748\n",
            "  0.84179606 0.62950818 0.72754043 0.48939851 0.60701565 0.40169807\n",
            "  0.66146397 0.02263368 0.75174905 0.41061927 0.71796509 0.68167425\n",
            "  0.80532693 0.86621227 0.77681277 0.48578712 0.34484294 0.31093886\n",
            "  0.78491464 0.8416718  0.26692904 0.85530129 0.31937871 0.70469917\n",
            "  0.72425715 0.36890984 0.87976814 0.47585566 0.61826495 0.22250032\n",
            "  0.84396055 0.5753067  0.         0.77007602 0.85446817 0.69041806\n",
            "  0.86185902 0.41822602 1.17426421 0.45491642 0.21885098 0.99555844\n",
            "  0.69514258 0.96979167 0.67638492 0.87156878 0.46174647 0.04993691\n",
            "  0.65352045 0.39335666 0.30945531 0.42263503 0.94321284 0.70322435\n",
            "  1.01255308 0.84285978 0.89575394 0.57696791 0.7727449  0.32442261\n",
            "  1.19204304 0.98730782 0.3073707  0.68137431 0.24419086 0.61702048\n",
            "  0.44397768 0.8954399  1.01829195 1.06166302]\n",
            " [1.0236023  0.40822962 1.00345076 0.2016656  1.03254279 0.20824159\n",
            "  0.35454032 0.36493813 0.13175516 0.49236339 1.11276624 0.64541072\n",
            "  0.31857237 0.93903195 0.23323179 0.32010946 0.68856639 0.53787226\n",
            "  0.68052193 0.53657033 0.45815059 0.50515649 0.2094104  0.31114313\n",
            "  0.81129806 0.30443957 0.62830639 0.84820215 0.75612501 0.1247473\n",
            "  0.5252087  0.41154916 0.84966363 0.56694037 0.79175793 0.87543125\n",
            "  0.94664646 0.76033192 0.90352937 0.38636456 0.12778654 0.3835482\n",
            "  0.58015524 0.44360689 0.55726293 0.32092178 0.43452819 0.82035508\n",
            "  0.22411306 0.37100646 0.78188074 1.04158047 0.50828402 0.435376\n",
            "  0.82044803 0.67366385 0.2669846  0.38335477 0.18156715 0.55042086\n",
            "  0.30461327 0.28756655 0.77007602 0.         1.14470108 0.50718816\n",
            "  0.2352095  0.55227096 0.73128404 0.90494997 0.87031428 0.80894817\n",
            "  0.19893791 0.94813567 0.45579307 0.61515343 0.48081192 0.74981215\n",
            "  0.84831109 0.79004165 0.46105519 0.82566839 0.82529083 0.55042474\n",
            "  0.51008541 0.19061735 0.93435463 0.23195731 0.32280598 0.9402546\n",
            "  0.7103187  0.53737784 0.98201537 0.49825988 0.58306671 1.02071778\n",
            "  0.98284914 0.936793   0.53360685 0.5898612 ]\n",
            " [0.2000739  0.80351311 0.21437737 1.07889151 0.13729019 1.17991267\n",
            "  0.86287283 1.06469757 1.22763759 0.79069186 0.05476952 0.49962136\n",
            "  0.82616016 0.36333911 0.91973908 0.87950543 0.68073773 0.73600251\n",
            "  0.58128833 0.85771435 0.7685169  0.85426873 1.03435411 0.95646252\n",
            "  0.6199653  0.87632838 0.59447569 0.80877966 0.60676429 1.08279273\n",
            "  0.74023843 0.73719177 0.30649018 0.59113478 0.35550793 0.45309139\n",
            "  0.21385918 0.83413222 0.25332245 0.84661373 1.02072581 0.77792053\n",
            "  0.65408141 0.84337395 0.65714197 0.87045071 0.97223037 0.54368443\n",
            "  0.9756625  0.89020185 0.59029598 0.14791534 0.75904872 0.73760751\n",
            "  0.33866893 0.55835909 1.02490385 0.79123279 0.9747293  0.85131474\n",
            "  0.95372749 1.1664193  0.85446817 1.14470108 0.         0.66095481\n",
            "  1.03492586 0.63489111 0.93557791 0.40020978 0.65448174 0.59867314\n",
            "  0.95149144 0.40438305 0.70647764 0.67426653 0.68766172 0.80952138\n",
            "  0.29684273 0.47482236 0.91783179 0.43871057 0.51660584 0.62268776\n",
            "  0.94352086 1.05536111 0.3318354  0.92973541 0.88045569 0.56810055\n",
            "  0.98753105 0.88238885 0.63365604 0.66636662 0.74464253 0.24470307\n",
            "  0.44266831 0.3284408  0.92624656 0.92512125]\n",
            " [0.51979843 0.14885886 0.49944004 0.50967486 0.56876893 0.60423733\n",
            "  0.3569702  0.57869615 0.6135475  0.18681712 0.63819196 0.19889778\n",
            "  0.21200697 0.55866483 0.27397486 0.34641043 0.49806445 0.39191219\n",
            "  0.4024681  0.29125791 0.33912232 0.48207602 0.37352459 0.29957384\n",
            "  0.57415758 0.32381748 0.13863666 0.72199321 0.51027667 0.48048313\n",
            "  0.15491969 0.10957691 0.35548563 0.2136173  0.33315945 0.53709726\n",
            "  0.48787484 0.66973222 0.40966566 0.36660079 0.3794018  0.12378466\n",
            "  0.12122069 0.21694133 0.09028324 0.33280977 0.53883169 0.53392561\n",
            "  0.31603955 0.24003264 0.52521866 0.54296515 0.38545134 0.07682016\n",
            "  0.32403632 0.3697313  0.36585219 0.27189876 0.36625079 0.51659977\n",
            "  0.29568765 0.62624475 0.69041806 0.50718816 0.66095481 0.\n",
            "  0.37420412 0.27460887 0.48583992 0.53991213 0.64919935 0.35450177\n",
            "  0.30826857 0.44765535 0.05173302 0.18654485 0.23227574 0.64518398\n",
            "  0.37721765 0.45132813 0.50747161 0.46990613 0.34127853 0.04332786\n",
            "  0.35811228 0.39483783 0.42737369 0.33694573 0.21962064 0.66402268\n",
            "  0.50906591 0.31561065 0.73395999 0.01165642 0.44858978 0.59649363\n",
            "  0.64190775 0.42975864 0.35460659 0.38664127]\n",
            " [0.88507916 0.23468665 0.86465705 0.3841587  0.94129529 0.4298238\n",
            "  0.42000271 0.53583066 0.36682231 0.28863488 1.01227113 0.55784706\n",
            "  0.27627825 0.90068504 0.17228484 0.38414253 0.72725003 0.57800939\n",
            "  0.67911117 0.30956305 0.49424559 0.59502657 0.02862944 0.09078845\n",
            "  0.8379923  0.35498287 0.4620934  0.92513222 0.77540995 0.30832344\n",
            "  0.33186726 0.31824777 0.72885434 0.51685901 0.70185709 0.85716089\n",
            "  0.85874552 0.84701954 0.78277678 0.45131682 0.16769728 0.26510226\n",
            "  0.40519753 0.23265804 0.39072663 0.37635525 0.5692107  0.82480885\n",
            "  0.07904627 0.16241484 0.79792872 0.91303776 0.55370164 0.2980101\n",
            "  0.69702163 0.65963752 0.03181349 0.39658213 0.2593802  0.64194243\n",
            "  0.08880764 0.49745822 0.86185902 0.2352095  1.03492586 0.37420412\n",
            "  0.         0.53464826 0.49633768 0.87390319 0.90733185 0.60877578\n",
            "  0.16707167 0.77427586 0.33143587 0.42226423 0.46020376 0.83000414\n",
            "  0.74981672 0.76760827 0.57462036 0.79640045 0.64015987 0.41243096\n",
            "  0.27527907 0.04471973 0.77761537 0.28956906 0.15459321 0.95493088\n",
            "  0.47534069 0.30690464 1.01141438 0.36948768 0.63499866 0.95790369\n",
            "  0.96692007 0.78050979 0.2993937  0.35529563]\n",
            " [0.57238455 0.38160811 0.55545251 0.44866745 0.50693508 0.54866184\n",
            "  0.22927732 0.43411113 0.6100023  0.45404741 0.59326587 0.18418976\n",
            "  0.26066973 0.38676318 0.36975426 0.25027362 0.22388894 0.13618128\n",
            "  0.14516407 0.5601849  0.13525607 0.25299459 0.51986824 0.49461813\n",
            "  0.31221626 0.25406973 0.37675815 0.4474616  0.24770531 0.46535883\n",
            "  0.42864298 0.23615005 0.39081106 0.07566076 0.28829935 0.32767138\n",
            "  0.42264587 0.39698807 0.43461837 0.21172307 0.44584319 0.29467731\n",
            "  0.38721066 0.46919272 0.35904658 0.24342524 0.35257728 0.29040314\n",
            "  0.45687131 0.46202048 0.26748149 0.56899301 0.14478507 0.30193621\n",
            "  0.37367397 0.12594029 0.54176341 0.16984328 0.37094452 0.27285516\n",
            "  0.48686821 0.53152883 0.41822602 0.55227096 0.63489111 0.27460887\n",
            "  0.53464826 0.         0.76042876 0.3532362  0.38581849 0.58541908\n",
            "  0.3904948  0.59759533 0.2687463  0.45338496 0.07527159 0.37179319\n",
            "  0.34922249 0.23965573 0.30361339 0.27383437 0.5423874  0.28503346\n",
            "  0.6169451  0.5331072  0.53963298 0.32096198 0.40531526 0.42134425\n",
            "  0.78234049 0.58301    0.48212195 0.26645279 0.18324125 0.47357701\n",
            "  0.43718521 0.5404178  0.61830553 0.65624385]\n",
            " [0.7386805  0.41402911 0.72227213 0.85209355 0.90445823 0.91642687\n",
            "  0.79115685 0.97841326 0.86301885 0.31686888 0.93983762 0.64878902\n",
            "  0.60903028 0.98702947 0.57569725 0.76633804 0.98384192 0.8722003\n",
            "  0.88425334 0.21912381 0.80846914 0.94708094 0.52191587 0.42580583\n",
            "  1.0543622  0.7361998  0.41611577 1.20783129 0.99167406 0.78675018\n",
            "  0.33251529 0.55015313 0.67396375 0.69731483 0.73061082 0.99105221\n",
            "  0.84777346 1.15402742 0.711222   0.81191148 0.64097391 0.50640287\n",
            "  0.38168112 0.32939911 0.40558244 0.75352624 0.9741207  1.00611614\n",
            "  0.52173879 0.38544739 1.00429199 0.7879909  0.8614829  0.47266579\n",
            "  0.64637988 0.84929615 0.46472875 0.72163852 0.7017388  0.98702323\n",
            "  0.43399331 0.9735814  1.17426421 0.73128404 0.93557791 0.48583992\n",
            "  0.49633768 0.76042876 0.         0.98003453 1.12925297 0.33872208\n",
            "  0.5986053  0.54661961 0.49834015 0.32119938 0.71272545 1.12998558\n",
            "  0.74338576 0.91369723 0.95692882 0.92291594 0.41920888 0.48119188\n",
            "  0.22121234 0.54105512 0.60520004 0.70511986 0.45754759 1.13133672\n",
            "  0.05813859 0.20626675 1.2055597  0.49406754 0.93068867 0.98219776\n",
            "  1.08507721 0.6086607  0.19855962 0.14194064]\n",
            " [0.45769081 0.68255497 0.45164564 0.78443339 0.26707154 0.88000892\n",
            "  0.56620421 0.72699641 0.95471443 0.72238594 0.34614289 0.34325462\n",
            "  0.60853565 0.04179734 0.71731616 0.59412794 0.29837073 0.39803722\n",
            "  0.23366751 0.82080128 0.45928232 0.49966735 0.86258606 0.81997661\n",
            "  0.22018465 0.60320291 0.56479053 0.40970936 0.21635987 0.81239446\n",
            "  0.68100267 0.55748585 0.35306989 0.35705464 0.25545837 0.05331942\n",
            "  0.22425732 0.43502587 0.35255451 0.54038572 0.79858642 0.61449104\n",
            "  0.60753905 0.75685115 0.59137313 0.58973721 0.62324539 0.14585255\n",
            "  0.79898378 0.7725275  0.19569205 0.42120017 0.42686213 0.59982139\n",
            "  0.36665345 0.23224023 0.87615129 0.5216316  0.72340553 0.4843797\n",
            "  0.81363722 0.84592054 0.45491642 0.90494997 0.40020978 0.53991213\n",
            "  0.87390319 0.3532362  0.98003453 0.         0.25731429 0.70210438\n",
            "  0.74079353 0.59926942 0.56242562 0.66093854 0.4269332  0.41113648\n",
            "  0.26752575 0.11584266 0.56732935 0.07940671 0.62767693 0.52259358\n",
            "  0.89513899 0.87806579 0.51346851 0.67312309 0.7306642  0.1879528\n",
            "  1.0172973  0.8464814  0.26502409 0.53800597 0.38492338 0.16382314\n",
            "  0.10506044 0.51193991 0.88840023 0.91155412]\n",
            " [0.70968392 0.76715039 0.70173011 0.70621005 0.52379882 0.78712218\n",
            "  0.51662305 0.60123585 0.8844489  0.83447997 0.59986674 0.48615381\n",
            "  0.63162188 0.29140746 0.73609886 0.55241569 0.18297366 0.33560997\n",
            "  0.24680944 0.94003905 0.41940255 0.37998722 0.88895768 0.87676203\n",
            "  0.07506232 0.57337204 0.72054431 0.15523632 0.13919612 0.75692192\n",
            "  0.80366177 0.6218983  0.58092426 0.43576774 0.46523927 0.20767151\n",
            "  0.47889665 0.20392959 0.59296858 0.48427556 0.79028582 0.68021454\n",
            "  0.74778669 0.85380618 0.72384737 0.55408439 0.4926342  0.13635765\n",
            "  0.82830712 0.84758151 0.12501826 0.67643675 0.36389072 0.68643719\n",
            "  0.58590234 0.28017093 0.91843363 0.51256169 0.69726306 0.34417246\n",
            "  0.86855675 0.73190491 0.21885098 0.87031428 0.65448174 0.64919935\n",
            "  0.90733185 0.38581849 1.12925297 0.25731429 0.         0.89735574\n",
            "  0.74942501 0.83076363 0.65184906 0.81055283 0.45390455 0.18754238\n",
            "  0.49833679 0.23792646 0.44233157 0.25186007 0.83260226 0.64838272\n",
            "  1.00109357 0.89864455 0.74906202 0.64884931 0.78858426 0.10583508\n",
            "  1.15692472 0.9638639  0.11300264 0.64297431 0.28725733 0.41127988\n",
            "  0.22698078 0.74807155 1.00098891 1.03572709]\n",
            " [0.40046114 0.40160759 0.38457664 0.85376632 0.57961878 0.94259773\n",
            "  0.7111653  0.93300408 0.93113225 0.32092522 0.6063531  0.42007277\n",
            "  0.55851209 0.69972155 0.58853866 0.70075634 0.78823971 0.71894873\n",
            "  0.67121476 0.32551948 0.6821653  0.82369978 0.62306563 0.51804024\n",
            "  0.82621913 0.67736592 0.21821007 1.00633086 0.77035741 0.81278095\n",
            "  0.28378455 0.46123918 0.36153443 0.51036201 0.4470777  0.72527073\n",
            "  0.53400646 0.97335522 0.38875848 0.71918916 0.68747051 0.45252123\n",
            "  0.24147567 0.37611776 0.27106627 0.68712125 0.89125108 0.76335128\n",
            "  0.58738256 0.44751116 0.77574692 0.45077796 0.71974563 0.39831828\n",
            "  0.33988021 0.63282673 0.58479313 0.62521325 0.70268589 0.85264014\n",
            "  0.52093999 0.97388316 0.99555844 0.80894817 0.59867314 0.35450177\n",
            "  0.60877578 0.58541908 0.33872208 0.70210438 0.89735574 0.\n",
            "  0.62183961 0.21019347 0.39809378 0.19422332 0.56870089 0.94670906\n",
            "  0.44174812 0.66278392 0.85654584 0.66070551 0.08338575 0.32101086\n",
            "  0.40466363 0.64666512 0.26714056 0.68196404 0.48614758 0.87477338\n",
            "  0.39299385 0.34325075 0.95283542 0.36615485 0.76863975 0.67145235\n",
            "  0.80424377 0.27057805 0.38034524 0.35840843]\n",
            " [0.82529739 0.22153799 0.80509094 0.25387427 0.84395295 0.32772463\n",
            "  0.25300151 0.38659747 0.31067711 0.31697098 0.92183108 0.45464414\n",
            "  0.13294506 0.77140606 0.034559   0.21707087 0.56749621 0.41616212\n",
            "  0.53103804 0.38489763 0.33182239 0.4279585  0.1436325  0.18285946\n",
            "  0.68236924 0.18804699 0.43182348 0.75985169 0.62141671 0.19543337\n",
            "  0.34117713 0.21478391 0.65307477 0.3886386  0.6019328  0.71802082\n",
            "  0.75861374 0.68058962 0.7071782  0.28452331 0.07117722 0.18473072\n",
            "  0.38658602 0.27846537 0.36187475 0.2094137  0.40694752 0.67627067\n",
            "  0.09364499 0.21361792 0.64517625 0.84446064 0.39048141 0.23729931\n",
            "  0.623333   0.51632338 0.18784228 0.23695545 0.10452455 0.47489017\n",
            "  0.17333906 0.37626122 0.69514258 0.19893791 0.95149144 0.30826857\n",
            "  0.16707167 0.3904948  0.5986053  0.74079353 0.74942501 0.62183961\n",
            "  0.         0.75106581 0.25685567 0.42781361 0.31532844 0.66406258\n",
            "  0.65650895 0.62941232 0.40884954 0.66169837 0.63165716 0.35152621\n",
            "  0.3854024  0.14991757 0.73552977 0.12402779 0.14604967 0.80390566\n",
            "  0.59086921 0.39314461 0.85620031 0.29932507 0.47160709 0.84243307\n",
            "  0.82764978 0.73794891 0.4031087  0.45868859]\n",
            " [0.20483718 0.54625805 0.19337612 0.95422038 0.41510079 1.05069059\n",
            "  0.77624837 1.00251247 1.05995631 0.4898422  0.42173191 0.4134854\n",
            "  0.65845113 0.58543912 0.71651401 0.77563684 0.761578   0.73273166\n",
            "  0.63958718 0.52089762 0.7195003  0.85034459 0.78357338 0.68475969\n",
            "  0.76746355 0.75855642 0.31989155 0.96126569 0.72203878 0.92812734\n",
            "  0.44315636 0.55516954 0.24996422 0.52438464 0.36704444 0.63489512\n",
            "  0.3935009  0.94716244 0.24825614 0.77543498 0.82124028 0.56765862\n",
            "  0.37134876 0.54752876 0.39148187 0.76285446 0.94030609 0.6946994\n",
            "  0.73774948 0.61263791 0.72016882 0.25903413 0.74209871 0.51390265\n",
            "  0.24673313 0.60221704 0.75462086 0.68919976 0.81382312 0.86930966\n",
            "  0.68560445 1.0669391  0.96979167 0.94813567 0.40438305 0.44765535\n",
            "  0.77427586 0.59759533 0.54661961 0.59926942 0.83076363 0.21019347\n",
            "  0.75106581 0.         0.49900121 0.3551261  0.60748194 0.91985684\n",
            "  0.33416936 0.59410145 0.89651932 0.57969387 0.14174901 0.40501867\n",
            "  0.60437295 0.80703434 0.08770771 0.7825591  0.63358806 0.78509629\n",
            "  0.60201126 0.5416589  0.86332165 0.45816358 0.77108971 0.52636423\n",
            "  0.69164047 0.08994617 0.58182041 0.56545764]\n",
            " [0.56981409 0.12046086 0.54950528 0.46035408 0.60988061 0.55394099\n",
            "  0.31788645 0.53571377 0.56184184 0.18588462 0.6817861  0.22932144\n",
            "  0.1625416  0.58416374 0.22267199 0.30396992 0.49195372 0.37386079\n",
            "  0.40574481 0.29192446 0.31284544 0.45449387 0.328532   0.26259507\n",
            "  0.57722271 0.27953855 0.18636505 0.71407738 0.51270336 0.42930961\n",
            "  0.16691969 0.06338585 0.40246167 0.21864914 0.37080787 0.55500392\n",
            "  0.52739521 0.65643634 0.45676788 0.330734   0.32802326 0.07304849\n",
            "  0.1583668  0.20237623 0.12761224 0.29027333 0.50208259 0.54332601\n",
            "  0.26918488 0.21015492 0.52976424 0.59159095 0.36373188 0.03739577\n",
            "  0.37151546 0.37598475 0.3258416  0.23592669 0.31526719 0.49181775\n",
            "  0.25761057 0.57812234 0.67638492 0.45579307 0.70647764 0.05173302\n",
            "  0.33143587 0.2687463  0.49834015 0.56242562 0.65184906 0.39809378\n",
            "  0.25685567 0.49900121 0.         0.21929771 0.21463878 0.63288099\n",
            "  0.41846704 0.46712472 0.47430231 0.48927094 0.38996706 0.09504131\n",
            "  0.34925293 0.34908894 0.47900589 0.28750112 0.17763542 0.67476727\n",
            "  0.51606248 0.31438063 0.74192277 0.04248529 0.4324869  0.63028071\n",
            "  0.66212766 0.48137193 0.34968204 0.38792324]\n",
            " [0.49551482 0.20740573 0.47591888 0.66355774 0.61551105 0.75028696\n",
            "  0.53714709 0.75266997 0.73690909 0.13492438 0.66626081 0.32770427\n",
            "  0.3724557  0.67020226 0.39471698 0.52211979 0.67314321 0.57677222\n",
            "  0.56765968 0.18351558 0.52564883 0.66857537 0.43409675 0.3318045\n",
            "  0.73596469 0.49636852 0.09631993 0.89714963 0.67420949 0.6197315\n",
            "  0.09115439 0.28202578 0.38105626 0.38466598 0.41659544 0.6702521\n",
            "  0.54816384 0.850373   0.42744722 0.5497125  0.49325023 0.26354604\n",
            "  0.06641014 0.19255925 0.09641241 0.50842299 0.72132739 0.68552274\n",
            "  0.39480955 0.25985256 0.68554755 0.53457488 0.57151719 0.21134696\n",
            "  0.35002756 0.53160694 0.40090603 0.45478551 0.51099527 0.70304391\n",
            "  0.33350709 0.78488424 0.87156878 0.61515343 0.67426653 0.18654485\n",
            "  0.42226423 0.45338496 0.32119938 0.66093854 0.81055283 0.19422332\n",
            "  0.42781361 0.3551261  0.21929771 0.         0.41797948 0.82510418\n",
            "  0.43812931 0.59250818 0.69241291 0.60203448 0.21807286 0.16835166\n",
            "  0.26925435 0.45774178 0.37247089 0.4933486  0.2925233  0.81016966\n",
            "  0.35635954 0.20848447 0.88461643 0.19730771 0.63221833 0.67698162\n",
            "  0.76596772 0.37571929 0.25259216 0.25935457]\n",
            " [0.60690697 0.31912761 0.58876638 0.3912398  0.56445793 0.49230824\n",
            "  0.17912836 0.39976473 0.54521724 0.39986215 0.64906914 0.20541252\n",
            "  0.18549259 0.45933986 0.29451279 0.19201478 0.28276922 0.16000158\n",
            "  0.21890846 0.50543708 0.11432138 0.25501978 0.44496124 0.42319537\n",
            "  0.38172068 0.18965114 0.35258936 0.50159367 0.31781543 0.39987401\n",
            "  0.38047932 0.17150077 0.42330549 0.09732761 0.33388215 0.40270652\n",
            "  0.47887057 0.44183151 0.47156382 0.17077493 0.37165322 0.2281177\n",
            "  0.35179029 0.40865906 0.32163059 0.1827919  0.3329777  0.36461594\n",
            "  0.38213451 0.39488396 0.33907444 0.60957749 0.15364783 0.24382191\n",
            "  0.4016741  0.20121186 0.46814912 0.10397475 0.30037407 0.28599696\n",
            "  0.4151588  0.48412631 0.46174647 0.48081192 0.68766172 0.23227574\n",
            "  0.46020376 0.07527159 0.71272545 0.4269332  0.45390455 0.56870089\n",
            "  0.31532844 0.60748194 0.21463878 0.41797948 0.         0.41845282\n",
            "  0.39461634 0.31430696 0.29150449 0.34756946 0.5355519  0.25284072\n",
            "  0.55640182 0.45796261 0.55843725 0.25121309 0.33469647 0.49489428\n",
            "  0.7305033  0.5269972  0.55358303 0.22231803 0.21796635 0.54089688\n",
            "  0.51232269 0.55966343 0.55988395 0.60110872]\n",
            " [0.83193629 0.73480874 0.82059779 0.56662162 0.67367802 0.63559454\n",
            "  0.41281395 0.43941217 0.74222508 0.81831486 0.75612859 0.52743111\n",
            "  0.56652526 0.45086887 0.65875465 0.4497277  0.15957983 0.26283142\n",
            "  0.28095088 0.92382775 0.34054571 0.24494757 0.80766107 0.8173931\n",
            "  0.19170517 0.47674785 0.74590481 0.0983929  0.20747438 0.62869135\n",
            "  0.79747818 0.58780255 0.67778481 0.44189737 0.55726001 0.35781722\n",
            "  0.61418495 0.0273056  0.7023968  0.38036017 0.69079538 0.64114363\n",
            "  0.75898641 0.82508252 0.73079397 0.45556019 0.33480103 0.26595132\n",
            "  0.75228958 0.80303188 0.22006126 0.80720964 0.28107224 0.66209897\n",
            "  0.67435871 0.31907045 0.84672782 0.43934546 0.59184508 0.19942359\n",
            "  0.80829856 0.57106043 0.04993691 0.74981215 0.80952138 0.64518398\n",
            "  0.83000414 0.37179319 1.12998558 0.41113648 0.18754238 0.94670906\n",
            "  0.66406258 0.91985684 0.63288099 0.82510418 0.41845282 0.\n",
            "  0.604147   0.34508586 0.29331002 0.37537241 0.89376852 0.65677108\n",
            "  0.97202172 0.81292307 0.84591014 0.54857776 0.73530779 0.29299483\n",
            "  1.14891111 0.94514182 0.286871   0.63638243 0.20280318 0.57420558\n",
            "  0.40733131 0.84560862 0.97699534 1.01937453]\n",
            " [0.23237793 0.52490982 0.21868145 0.78519691 0.1915946  0.8863741\n",
            "  0.57246482 0.78332136 0.93109015 0.53164159 0.26538098 0.20292799\n",
            "  0.52974434 0.25952523 0.62542345 0.58651094 0.45197705 0.46611198\n",
            "  0.33402401 0.61577066 0.48447855 0.5879582  0.74671242 0.67674412\n",
            "  0.43822786 0.58155277 0.34479397 0.63471013 0.39905921 0.78645631\n",
            "  0.48337156 0.44335171 0.08556694 0.29733962 0.06107687 0.30081626\n",
            "  0.11245921 0.63116858 0.09825906 0.55906081 0.72509671 0.48766888\n",
            "  0.39923558 0.57835255 0.39347137 0.57681782 0.69844092 0.36317372\n",
            "  0.68620924 0.61498427 0.39334913 0.22086299 0.48482263 0.45213274\n",
            "  0.10189319 0.30144774 0.74285806 0.49717795 0.67792213 0.59428762\n",
            "  0.67290241 0.87757615 0.65352045 0.84831109 0.29684273 0.37721765\n",
            "  0.74981672 0.34922249 0.74338576 0.26752575 0.49833679 0.44174812\n",
            "  0.65650895 0.33416936 0.41846704 0.43812931 0.39461634 0.604147\n",
            "  0.         0.26483601 0.64655111 0.24652101 0.36385769 0.3436541\n",
            "  0.69816545 0.7667795  0.25084219 0.6331903  0.59554013 0.45137467\n",
            "  0.78687354 0.64166279 0.52980139 0.38082639 0.48809173 0.23947554\n",
            "  0.36544676 0.2497835  0.68568896 0.69740684]\n",
            " [0.48776441 0.58748066 0.47724078 0.6689576  0.33753314 0.76502394\n",
            "  0.45041706 0.61637209 0.8388823  0.63749681 0.42384591 0.26508376\n",
            "  0.49808538 0.15365239 0.6072485  0.47829992 0.20597352 0.28488319\n",
            "  0.11960197 0.73971451 0.3436052  0.39204921 0.7548739  0.71848994\n",
            "  0.17368427 0.48765387 0.4985847  0.36988273 0.13761328 0.69658194\n",
            "  0.59998432 0.45478834 0.34494673 0.2528928  0.22758548 0.08957142\n",
            "  0.27068698 0.37148635 0.36203435 0.42484971 0.68549443 0.51304019\n",
            "  0.53370683 0.66671102 0.51358103 0.47398894 0.51481877 0.10168661\n",
            "  0.69137421 0.67554181 0.12882245 0.46212844 0.31304037 0.50423654\n",
            "  0.34835771 0.116587   0.77171149 0.40670462 0.60847572 0.38179692\n",
            "  0.71163879 0.73286586 0.39335666 0.79004165 0.47482236 0.45132813\n",
            "  0.76760827 0.23965573 0.91369723 0.11584266 0.23792646 0.66278392\n",
            "  0.62941232 0.59410145 0.46712472 0.59250818 0.31430696 0.34508586\n",
            "  0.26483601 0.         0.45895615 0.04000113 0.59583445 0.44060366\n",
            "  0.80942506 0.76942451 0.51396234 0.55810627 0.6286381  0.21771254\n",
            "  0.94646724 0.76484238 0.29331177 0.44772803 0.27797745 0.26182865\n",
            "  0.19932966 0.51317367 0.80516761 0.83320205]\n",
            " [0.8742343  0.5429727  0.85781113 0.27333345 0.78329427 0.34586121\n",
            "  0.16685615 0.16242426 0.44927642 0.64136153 0.87115066 0.48570331\n",
            "  0.34929831 0.60843439 0.41367546 0.19675775 0.28075989 0.18204693\n",
            "  0.34134751 0.73878224 0.17752957 0.06789227 0.54905219 0.58313776\n",
            "  0.40107864 0.22787877 0.63860773 0.39091731 0.36430547 0.33782255\n",
            "  0.63684557 0.41394999 0.69393549 0.3730706  0.58673674 0.52166086\n",
            "  0.7042448  0.30099253 0.73612476 0.14528744 0.41900911 0.45103924\n",
            "  0.62842563 0.63005076 0.59727563 0.2079057  0.05593414 0.44001769\n",
            "  0.50221023 0.58847611 0.39048151 0.86741366 0.16176352 0.49088145\n",
            "  0.67728619 0.3598765  0.5966825  0.23871366 0.3192581  0.09844552\n",
            "  0.57350967 0.29046195 0.30945531 0.46105519 0.91783179 0.50747161\n",
            "  0.57462036 0.30361339 0.95692882 0.56732935 0.44233157 0.85654584\n",
            "  0.40884954 0.89651932 0.47430231 0.69241291 0.29150449 0.29331002\n",
            "  0.64655111 0.45895615 0.         0.4988997  0.82675803 0.53625329\n",
            "  0.7670456  0.54960689 0.84227527 0.28513453 0.51468035 0.53221925\n",
            "  0.96326833 0.75534204 0.55473105 0.49619344 0.18245252 0.7207247\n",
            "  0.61185897 0.8431777  0.77836075 0.82859891]\n",
            " [0.46215406 0.60970651 0.45281665 0.70767798 0.30153945 0.80413541\n",
            "  0.48863407 0.65636621 0.8767839  0.65465427 0.38700735 0.27740058\n",
            "  0.52962064 0.11487492 0.6385356  0.51586268 0.24254873 0.32473738\n",
            "  0.15944895 0.7552294  0.38215293 0.431925   0.78457575 0.74437384\n",
            "  0.1950659  0.52433182 0.50683008 0.39242186 0.16902986 0.73399131\n",
            "  0.61522741 0.48113746 0.32973081 0.27974552 0.21728251 0.06830852\n",
            "  0.23885177 0.40121201 0.34138387 0.46357043 0.71921862 0.53872164\n",
            "  0.54546411 0.68649465 0.52709581 0.51117888 0.55477327 0.11784171\n",
            "  0.72098663 0.69889222 0.15573841 0.43348846 0.35274879 0.52660739\n",
            "  0.33668469 0.15387692 0.79936011 0.44240088 0.64414457 0.42106023\n",
            "  0.73781305 0.77263396 0.42263503 0.82566839 0.43871057 0.46990613\n",
            "  0.79640045 0.27383437 0.92291594 0.07940671 0.25186007 0.66070551\n",
            "  0.66169837 0.57969387 0.48927094 0.60203448 0.34756946 0.37537241\n",
            "  0.24652101 0.04000113 0.4988997  0.         0.59073236 0.45586999\n",
            "  0.8272074  0.79975226 0.49732749 0.59389833 0.65476934 0.2140985\n",
            "  0.95764405 0.78064835 0.29216239 0.46716622 0.31772383 0.22198921\n",
            "  0.17287651 0.49629737 0.8217684  0.84758122]\n",
            " [0.31962416 0.4182213  0.30306382 0.85032091 0.49644536 0.94326965\n",
            "  0.69062035 0.91588612 0.94230561 0.35282207 0.5232408  0.36705857\n",
            "  0.55248776 0.62307711 0.59741085 0.68442053 0.73432606 0.67810325\n",
            "  0.61469178 0.37917896 0.64987231 0.78852036 0.65128296 0.54982193\n",
            "  0.76316216 0.66366863 0.20365304 0.94813493 0.70982071 0.81646901\n",
            "  0.30836424 0.45083243 0.28163638 0.46673009 0.37449599 0.65365527\n",
            "  0.45253249 0.92076335 0.30626346 0.69495555 0.70021741 0.45289812\n",
            "  0.24529245 0.41030469 0.27015868 0.67104386 0.86532431 0.69724087\n",
            "  0.60912527 0.4777968  0.71321454 0.36886367 0.68207113 0.39800552\n",
            "  0.26217633 0.5761748  0.61897475 0.60331703 0.70357981 0.81394822\n",
            "  0.55136103 0.96751396 0.94321284 0.82529083 0.51660584 0.34127853\n",
            "  0.64015987 0.5423874  0.41920888 0.62767693 0.83260226 0.08338575\n",
            "  0.63165716 0.14174901 0.38996706 0.21807286 0.5355519  0.89376852\n",
            "  0.36385769 0.59583445 0.82675803 0.59073236 0.         0.30204161\n",
            "  0.46265856 0.67489546 0.18617261 0.67746772 0.50537401 0.80416492\n",
            "  0.47214117 0.39992317 0.88260227 0.35268033 0.72420933 0.59006327\n",
            "  0.72843673 0.18964409 0.44025908 0.4255372 ]\n",
            " [0.47771433 0.18184074 0.45732335 0.55082267 0.534606   0.64613391\n",
            "  0.39094597 0.61481457 0.65677085 0.19989943 0.60166291 0.17935478\n",
            "  0.25372485 0.53859437 0.31719608 0.38283337 0.50548478 0.40989759\n",
            "  0.40306391 0.29941283 0.36396299 0.50669057 0.41313537 0.33458743\n",
            "  0.5734055  0.36163901 0.10283359 0.72965789 0.51050996 0.52316965\n",
            "  0.15946952 0.15059407 0.31643663 0.21719843 0.30345251 0.52385008\n",
            "  0.4554195  0.68202142 0.37035067 0.39819422 0.42263944 0.16691955\n",
            "  0.10226403 0.23873859 0.07563073 0.36937063 0.57024206 0.52806397\n",
            "  0.35690403 0.27135382 0.52355114 0.50207392 0.40633624 0.11791017\n",
            "  0.2845954  0.36825573 0.40236296 0.3044534  0.40881528 0.53883656\n",
            "  0.33141624 0.66634843 0.70322435 0.55042474 0.62268776 0.04332786\n",
            "  0.41243096 0.28503346 0.48119188 0.52259358 0.64838272 0.32101086\n",
            "  0.35152621 0.40501867 0.09504131 0.16835166 0.25284072 0.65677108\n",
            "  0.3436541  0.44060366 0.53625329 0.45586999 0.30204161 0.\n",
            "  0.37260224 0.43486322 0.38406134 0.3783701  0.25829009 0.65627399\n",
            "  0.50897298 0.3247821  0.72829056 0.0532295  0.46448595 0.5688561\n",
            "  0.62608331 0.38645434 0.36605916 0.39260816]\n",
            " [0.76267022 0.23743877 0.74341009 0.63655406 0.88126698 0.6968867\n",
            "  0.60027845 0.77066308 0.64182869 0.17275545 0.93488106 0.55188858\n",
            "  0.41894493 0.91092202 0.36629768 0.57139413 0.83839937 0.70929596\n",
            "  0.75492599 0.08601746 0.63616729 0.7667789  0.30070472 0.20673164\n",
            "  0.92647337 0.5403934  0.35481408 1.05779337 0.86195582 0.56846215\n",
            "  0.21643453 0.38504516 0.64784767 0.56698828 0.66812115 0.89475777\n",
            "  0.81007387 0.99393641 0.69576051 0.6249327  0.42229957 0.33093213\n",
            "  0.29893258 0.14789186 0.30754837 0.55952703 0.77749231 0.89077669\n",
            "  0.30325143 0.17899783 0.87887141 0.80324836 0.69346729 0.31501992\n",
            "  0.61617557 0.72449988 0.24377868 0.54162235 0.48980675 0.81000746\n",
            "  0.21542328 0.75670423 1.01255308 0.51008541 0.94352086 0.35811228\n",
            "  0.27527907 0.6169451  0.22121234 0.89513899 1.00109357 0.40466363\n",
            "  0.3854024  0.60437295 0.34925293 0.26925435 0.55640182 0.97202172\n",
            "  0.69816545 0.80942506 0.7670456  0.8272074  0.46265856 0.37260224\n",
            "  0.         0.31999615 0.63579575 0.4993284  0.25331169 1.02152337\n",
            "  0.20583989 0.06286369 1.0902236  0.36215211 0.76927451 0.93348399\n",
            "  0.99833862 0.6391652  0.02712678 0.08016644]\n",
            " [0.9108651  0.26263074 0.89043053 0.34616879 0.95770325 0.38734987\n",
            "  0.40055458 0.50123459 0.32215919 0.32577336 1.03078118 0.57097538\n",
            "  0.2724717  0.90641684 0.16384555 0.36394785 0.71707319 0.56601304\n",
            "  0.67611437 0.35272712 0.48169981 0.57430412 0.02364953 0.12997984\n",
            "  0.8308513  0.33619128 0.49163395 0.90914511 0.76925087 0.26866215\n",
            "  0.36674326 0.32807076 0.75031817 0.52161857 0.71674368 0.85874057\n",
            "  0.87412662 0.82885989 0.80450287 0.43268905 0.13389042 0.27918735\n",
            "  0.43627433 0.27119732 0.41963139 0.35742898 0.54064244 0.82181041\n",
            "  0.08095443 0.19915454 0.79254199 0.93687831 0.5403977  0.3180231\n",
            "  0.7188535  0.65890485 0.07639865 0.38611165 0.230965   0.62142402\n",
            "  0.12601015 0.45688358 0.84285978 0.19061735 1.05536111 0.39483783\n",
            "  0.04471973 0.5331072  0.54105512 0.87806579 0.89864455 0.64666512\n",
            "  0.14991757 0.80703434 0.34908894 0.45774178 0.45796261 0.81292307\n",
            "  0.7667795  0.76942451 0.54960689 0.79975226 0.67489546 0.43486322\n",
            "  0.31999615 0.         0.80680407 0.26651057 0.17753841 0.95069756\n",
            "  0.51975529 0.3508538  1.00464722 0.38903316 0.62150786 0.96871747\n",
            "  0.96860694 0.80961336 0.34405456 0.40000044]\n",
            " [0.13348388 0.54419699 0.11750528 0.92227668 0.32953974 1.02095259\n",
            "  0.73287723 0.95757552 1.03973044 0.50288615 0.34294633 0.35661085\n",
            "  0.63191016 0.4985555  0.70113861 0.73605143 0.68914907 0.67233518\n",
            "  0.56756707 0.55021464 0.66717638 0.79228101 0.78381404 0.69055559\n",
            "  0.68764516 0.72181159 0.31553    0.88297472 0.64483583 0.90309892\n",
            "  0.45342956 0.52959866 0.1692275  0.4694169  0.28920634 0.5505315\n",
            "  0.30579803 0.8731772  0.16133286 0.72878309 0.80659175 0.55081725\n",
            "  0.37308707 0.55981287 0.38723411 0.72385488 0.88865549 0.61354381\n",
            "  0.73321026 0.6192798  0.64140277 0.18394697 0.68429492 0.49958984\n",
            "  0.17236654 0.53114963 0.76094084 0.64727733 0.78867692 0.80785168\n",
            "  0.69017029 1.03061498 0.89575394 0.93435463 0.3318354  0.42737369\n",
            "  0.77761537 0.53963298 0.60520004 0.51346851 0.74906202 0.26714056\n",
            "  0.73552977 0.08770771 0.47900589 0.37247089 0.55843725 0.84591014\n",
            "  0.25084219 0.51396234 0.84227527 0.49732749 0.18617261 0.38406134\n",
            "  0.63579575 0.80680407 0.         0.75338135 0.63002024 0.70007977\n",
            "  0.65831371 0.57308794 0.77806351 0.43671996 0.70660693 0.43890562\n",
            "  0.60460015 0.00347893 0.61545639 0.6064899 ]\n",
            " [0.82650085 0.30198206 0.80698964 0.17285325 0.81152857 0.26820736\n",
            "  0.13603895 0.27330931 0.29790904 0.40404482 0.89428849 0.43187466\n",
            "  0.12501189 0.70754319 0.13387756 0.09903217 0.46589146 0.31332932\n",
            "  0.44907735 0.48701304 0.23051787 0.30793286 0.2643937  0.30334881\n",
            "  0.58604895 0.07550365 0.47385418 0.64573893 0.52848867 0.15359691\n",
            "  0.41622562 0.22777665 0.64600658 0.34195474 0.57429541 0.64354332\n",
            "  0.72553845 0.56353162 0.69833022 0.16885087 0.14288881 0.22994746\n",
            "  0.44051408 0.37693338 0.41146628 0.09508806 0.28345962 0.59031683\n",
            "  0.21765319 0.32167016 0.55372296 0.83784003 0.28504679 0.28366599\n",
            "  0.61931717 0.44170723 0.31168005 0.15149749 0.05048136 0.35507515\n",
            "  0.29369311 0.29193816 0.57696791 0.23195731 0.92973541 0.33694573\n",
            "  0.28956906 0.32096198 0.70511986 0.67312309 0.64884931 0.68196404\n",
            "  0.12402779 0.7825591  0.28750112 0.4933486  0.25121309 0.54857776\n",
            "  0.6331903  0.55810627 0.28513453 0.59389833 0.67746772 0.3783701\n",
            "  0.4993284  0.26651057 0.75338135 0.         0.2479952  0.71280249\n",
            "  0.702639   0.4989533  0.75877551 0.3258548  0.3640853  0.7921061\n",
            "  0.75121072 0.75535737 0.51454021 0.56848882]\n",
            " [0.73335523 0.0874032  0.71292036 0.39869847 0.78709229 0.47346913\n",
            "  0.34832482 0.52107245 0.44679845 0.1724486  0.85769088 0.40593564\n",
            "  0.17031225 0.75520215 0.11903731 0.31843393 0.61457891 0.47386568\n",
            "  0.55020756 0.24075212 0.39500029 0.51823744 0.15522323 0.08992321\n",
            "  0.71629982 0.28735903 0.31563369 0.82577622 0.65217984 0.34116917\n",
            "  0.20240723 0.17385178 0.57456033 0.3757634  0.54844305 0.71798388\n",
            "  0.70494711 0.75543892 0.6285761  0.37439617 0.20392301 0.11617926\n",
            "  0.26229981 0.13263985 0.24342843 0.30682683 0.52418064 0.69425833\n",
            "  0.10416502 0.07434559 0.67269775 0.75985001 0.45424455 0.14348579\n",
            "  0.54282968 0.52639068 0.14839228 0.29698988 0.245586   0.56283143\n",
            "  0.08304832 0.52151581 0.7727449  0.32280598 0.88045569 0.21962064\n",
            "  0.15459321 0.40531526 0.45754759 0.7306642  0.78858426 0.48614758\n",
            "  0.14604967 0.63358806 0.17763542 0.2925233  0.33469647 0.73530779\n",
            "  0.59554013 0.6286381  0.51468035 0.65476934 0.50537401 0.25829009\n",
            "  0.25331169 0.17753841 0.63002024 0.2479952  0.         0.82587343\n",
            "  0.45488531 0.25128094 0.88737656 0.214948   0.53353437 0.8068684\n",
            "  0.82700963 0.63278259 0.26704021 0.32053498]\n",
            " [0.64482128 0.7938646  0.63928995 0.78735082 0.44339976 0.87300151\n",
            "  0.58605344 0.69361721 0.96497268 0.85082516 0.51335547 0.48258477\n",
            "  0.67910187 0.21257822 0.7868722  0.62015314 0.25635466 0.40264854\n",
            "  0.27620825 0.95436204 0.48265438 0.46694155 0.93888545 0.91550091\n",
            "  0.13206775 0.63771412 0.71628247 0.25486101 0.18433546 0.83205349\n",
            "  0.81517341 0.65393784 0.536676   0.45627099 0.42982051 0.15109355\n",
            "  0.41099625 0.30976367 0.53973336 0.55496183 0.85098808 0.71289846\n",
            "  0.75092191 0.87661678 0.73008541 0.61990357 0.58482255 0.13184897\n",
            "  0.87654499 0.87903072 0.15923962 0.60644733 0.43255713 0.71110605\n",
            "  0.54709847 0.30016151 0.96294269 0.56842857 0.76257216 0.43577491\n",
            "  0.90790799 0.8226614  0.32442261 0.9402546  0.56810055 0.66402268\n",
            "  0.95493088 0.42134425 1.13133672 0.1879528  0.10583508 0.87477338\n",
            "  0.80390566 0.78509629 0.67476727 0.81016966 0.49489428 0.29299483\n",
            "  0.45137467 0.21771254 0.53221925 0.2140985  0.80416492 0.65627399\n",
            "  1.02152337 0.95069756 0.70007977 0.71280249 0.82587343 0.\n",
            "  1.16360682 0.9791763  0.07862136 0.65944996 0.36350513 0.32343144\n",
            "  0.12805097 0.6986666  1.01862824 1.04862646]\n",
            " [0.79174911 0.42181213 0.7749601  0.84239395 0.9522232  0.90153815\n",
            "  0.79660273 0.97505586 0.84157936 0.33077457 0.99022644 0.68146451\n",
            "  0.61400434 1.02608792 0.57063122 0.76981595 1.00622778 0.88868707\n",
            "  0.91072612 0.22648774 0.82142656 0.95747829 0.50216864 0.41236428\n",
            "  1.08187943 0.73916501 0.45255275 1.22945542 1.01849024 0.77391302\n",
            "  0.35416074 0.56374659 0.720077   0.72238664 0.77094391 1.02593419\n",
            "  0.8930747  1.17230619 0.75917859 0.81913728 0.62773523 0.51603168\n",
            "  0.41276044 0.33327315 0.43403505 0.75741117 0.97724415 1.0366489\n",
            "  0.50889212 0.38096885 1.03228263 0.84029323 0.87618136 0.48748149\n",
            "  0.69163801 0.87677548 0.44352726 0.73131326 0.69510941 0.99882126\n",
            "  0.42116421 0.96242586 1.19204304 0.7103187  0.98753105 0.50906591\n",
            "  0.47534069 0.78234049 0.05813859 1.0172973  1.15692472 0.39299385\n",
            "  0.59086921 0.60201126 0.51606248 0.35635954 0.7305033  1.14891111\n",
            "  0.78687354 0.94646724 0.96326833 0.95764405 0.47214117 0.50897298\n",
            "  0.20583989 0.51975529 0.65831371 0.702639   0.45488531 1.16360682\n",
            "  0.         0.20806202 1.23669963 0.51636656 0.94789352 1.02623565\n",
            "  1.12232713 0.66178525 0.18819491 0.1348553 ]\n",
            " [0.70035329 0.21395555 0.68117569 0.64695729 0.82277058 0.71443004\n",
            "  0.58877834 0.77221366 0.66867409 0.12939205 0.874731   0.50373181\n",
            "  0.40617368 0.86054287 0.36955239 0.56252729 0.80632846 0.68357827\n",
            "  0.71707473 0.02598535 0.61444435 0.74961286 0.32952021 0.22663682\n",
            "  0.88891534 0.53205031 0.2970831  1.02807267 0.8247174  0.58355998\n",
            "  0.16553021 0.35786222 0.58874284 0.52817554 0.61407378 0.84862666\n",
            "  0.75307733 0.96797646 0.63582603 0.61109335 0.4387686  0.30842143\n",
            "  0.2434288  0.12529318 0.25551518 0.54997473 0.77020004 0.8494506\n",
            "  0.32020347 0.17957999 0.84038849 0.74140731 0.66996743 0.2831783\n",
            "  0.5573357  0.68509445 0.27687896 0.52343159 0.49577299 0.79125816\n",
            "  0.23387028 0.76896225 0.98730782 0.53737784 0.88238885 0.31561065\n",
            "  0.30690464 0.58301    0.20626675 0.8464814  0.9638639  0.34325075\n",
            "  0.39314461 0.5416589  0.31438063 0.20848447 0.5269972  0.94514182\n",
            "  0.64166279 0.76484238 0.75534204 0.78064835 0.39992317 0.3247821\n",
            "  0.06286369 0.3508538  0.57308794 0.4989533  0.25128094 0.9791763\n",
            "  0.20806202 0.         1.04954927 0.32112503 0.74316807 0.87847259\n",
            "  0.95044291 0.57646369 0.04422764 0.07444318]\n",
            " [0.71997568 0.8598539  0.7150846  0.81920591 0.51353559 0.89988476\n",
            "  0.62781106 0.71268238 0.99744432 0.9206736  0.57919049 0.55693338\n",
            "  0.73514702 0.28649922 0.84132014 0.66324241 0.2935385  0.44555388\n",
            "  0.33788897 1.02501775 0.5285244  0.49288002 0.99404829 0.97647021\n",
            "  0.17383271 0.68327839 0.79142453 0.22430958 0.23608609 0.8694587\n",
            "  0.88648063 0.7173781  0.61516314 0.52338697 0.5083465  0.22971343\n",
            "  0.48624413 0.29743648 0.61744026 0.59569769 0.89938462 0.77622635\n",
            "  0.82442256 0.94425136 0.80273379 0.66438675 0.60433819 0.20026884\n",
            "  0.93256769 0.94323536 0.21468076 0.68013782 0.47444271 0.77769963\n",
            "  0.6257186  0.36593823 1.02109187 0.61933247 0.80765603 0.45640001\n",
            "  0.96857157 0.8437225  0.3073707  0.98201537 0.63365604 0.73395999\n",
            "  1.01141438 0.48212195 1.2055597  0.26502409 0.11300264 0.95283542\n",
            "  0.85620031 0.86332165 0.74192277 0.88461643 0.55358303 0.286871\n",
            "  0.52980139 0.29331177 0.55473105 0.29216239 0.88260227 0.72829056\n",
            "  1.0902236  1.00464722 0.77806351 0.75877551 0.88737656 0.07862136\n",
            "  1.23669963 1.04954927 0.         0.72883197 0.39929027 0.39038711\n",
            "  0.19131046 0.77660667 1.08828576 1.11983678]\n",
            " [0.52753585 0.14754215 0.50721035 0.49852175 0.57242037 0.59332768\n",
            "  0.34535532 0.56704158 0.60364915 0.19192126 0.64280277 0.19859393\n",
            "  0.20098892 0.55754163 0.26515605 0.33475593 0.49017056 0.38214574\n",
            "  0.39616904 0.29708739 0.32836411 0.47127058 0.36800142 0.29660621\n",
            "  0.56797097 0.31220151 0.15021612 0.71391436 0.50392253 0.4699804\n",
            "  0.16229711 0.09828284 0.36148457 0.20720807 0.33545054 0.5340629\n",
            "  0.49092635 0.66079057 0.41574524 0.35511805 0.37049633 0.11538499\n",
            "  0.13231458 0.21933266 0.10125956 0.32115648 0.52733498 0.52898942\n",
            "  0.3097389  0.23886801 0.519287   0.54985785 0.37522489 0.0714779\n",
            "  0.33027216 0.36397245 0.36204451 0.26037648 0.3556612  0.50609969\n",
            "  0.29238728 0.61488003 0.68137431 0.49825988 0.66636662 0.01165642\n",
            "  0.36948768 0.26645279 0.49406754 0.53800597 0.64297431 0.36615485\n",
            "  0.29932507 0.45816358 0.04248529 0.19730771 0.22231803 0.63638243\n",
            "  0.38082639 0.44772803 0.49619344 0.46716622 0.35268033 0.0532295\n",
            "  0.36215211 0.38903316 0.43671996 0.3258548  0.214948   0.65944996\n",
            "  0.51636656 0.32112503 0.72883197 0.         0.43913079 0.59773306\n",
            "  0.6394912  0.4390637  0.35945619 0.3927652 ]\n",
            " [0.72004538 0.53215943 0.70527901 0.42385963 0.60847575 0.51108161\n",
            "  0.22997196 0.34331795 0.60150015 0.61711995 0.69612545 0.36016778\n",
            "  0.36602874 0.42611114 0.46276561 0.26626622 0.10727083 0.06003314\n",
            "  0.1634546  0.72222264 0.14091703 0.11474632 0.61418681 0.6169742\n",
            "  0.23175347 0.28908184 0.55912872 0.29246123 0.18570506 0.4704246\n",
            "  0.59841915 0.38545462 0.54678663 0.25841317 0.43134744 0.33935183\n",
            "  0.53271485 0.22487008 0.58286215 0.19736125 0.50664692 0.43836679\n",
            "  0.56580858 0.62249027 0.53649235 0.26899739 0.2383428  0.25994556\n",
            "  0.55638688 0.6005145  0.21233927 0.70692424 0.08129796 0.46051097\n",
            "  0.53547309 0.18859267 0.64976327 0.23966396 0.41146218 0.10714916\n",
            "  0.60803476 0.4666979  0.24419086 0.58306671 0.74464253 0.44858978\n",
            "  0.63499866 0.18324125 0.93068867 0.38492338 0.28725733 0.76863975\n",
            "  0.47160709 0.77108971 0.4324869  0.63221833 0.21796635 0.20280318\n",
            "  0.48809173 0.27797745 0.18245252 0.31772383 0.72420933 0.46448595\n",
            "  0.76927451 0.62150786 0.70660693 0.3640853  0.53353437 0.36350513\n",
            "  0.94789352 0.74316807 0.39929027 0.43913079 0.         0.53970898\n",
            "  0.43205477 0.70697    0.77449015 0.81750421]\n",
            " [0.34864179 0.74516984 0.34894505 0.91969991 0.1263782  1.01813117\n",
            "  0.69935106 0.87724291 1.08357748 0.76411539 0.18994239 0.40103042\n",
            "  0.7098818  0.12334168 0.8150573  0.72324803 0.45985766 0.54463936\n",
            "  0.3800387  0.85250415 0.59538418 0.65387785 0.95073426 0.89285885\n",
            "  0.38265254 0.72753462 0.58266021 0.56623878 0.37943478 0.93886856\n",
            "  0.71736547 0.64076473 0.3108891  0.45480261 0.26597519 0.21689409\n",
            "  0.1375314  0.59760302 0.2853194  0.6768951  0.90591685 0.69287239\n",
            "  0.63514125 0.80733855 0.62644405 0.71688791 0.77655482 0.30962408\n",
            "  0.88790808 0.83646179 0.35942585 0.30138492 0.57168813 0.66656469\n",
            "  0.33636794 0.36797058 0.95521107 0.64261306 0.8411524  0.64252\n",
            "  0.88786058 0.99108047 0.61702048 1.02071778 0.24470307 0.59649363\n",
            "  0.95790369 0.47357701 0.98219776 0.16382314 0.41127988 0.67145235\n",
            "  0.84243307 0.52636423 0.63028071 0.67698162 0.54089688 0.57420558\n",
            "  0.23947554 0.26182865 0.7207247  0.22198921 0.59006327 0.5688561\n",
            "  0.93348399 0.96871747 0.43890562 0.7921061  0.8068684  0.32343144\n",
            "  1.02623565 0.87847259 0.39038711 0.59773306 0.53970898 0.\n",
            "  0.1990807  0.43649986 0.92225104 0.93597049]\n",
            " [0.53487907 0.78255005 0.5316506  0.84859066 0.32293032 0.9404479\n",
            "  0.63537324 0.77413861 1.02294813 0.82561021 0.38809756 0.44678331\n",
            "  0.6969222  0.10643859 0.80613035 0.66614264 0.33166839 0.45749005\n",
            "  0.30240088 0.92483342 0.52820592 0.54423832 0.9541761  0.91673606\n",
            "  0.22221019 0.67866069 0.66983841 0.38077669 0.24755756 0.88370151\n",
            "  0.78491569 0.65321595 0.45025161 0.45139588 0.35892752 0.10986755\n",
            "  0.30323065 0.42719865 0.44339561 0.60701103 0.88213089 0.71110108\n",
            "  0.71224826 0.85873613 0.69564426 0.66334812 0.6668862  0.17212761\n",
            "  0.89068943 0.8717643  0.2215255  0.49246258 0.48754567 0.69947212\n",
            "  0.46641672 0.31162473 0.97079267 0.60079185 0.80169099 0.52081635\n",
            "  0.91005492 0.89875228 0.44397768 0.98284914 0.44266831 0.64190775\n",
            "  0.96692007 0.43718521 1.08507721 0.10506044 0.22698078 0.80424377\n",
            "  0.82764978 0.69164047 0.66212766 0.76596772 0.51232269 0.40733131\n",
            "  0.36544676 0.19932966 0.61185897 0.17287651 0.72843673 0.62608331\n",
            "  0.99833862 0.96860694 0.60460015 0.75121072 0.82700963 0.12805097\n",
            "  1.12232713 0.95044291 0.19131046 0.6394912  0.43205477 0.1990807\n",
            "  0.         0.60278364 0.99210989 1.01602108]\n",
            " [0.13002102 0.54701837 0.11409545 0.92412358 0.32675094 1.02286651\n",
            "  0.73430563 0.95889674 1.04196189 0.50602445 0.33971623 0.35755992\n",
            "  0.63400776 0.49679034 0.70356976 0.73763704 0.68898495 0.67294492\n",
            "  0.5674605  0.5535712  0.66821095 0.79299369 0.78663762 0.69351618\n",
            "  0.68685772 0.72351366 0.31841731 0.88230948 0.64429734 0.90519127\n",
            "  0.45653439 0.53176443 0.16860168 0.4703916  0.28874433 0.54923167\n",
            "  0.30364448 0.87286961 0.15963994 0.73006853 0.80902361 0.55324795\n",
            "  0.37606429 0.56292412 0.39007219 0.725467   0.88967831 0.61262961\n",
            "  0.73592734 0.62227119 0.6407234  0.18056212 0.68504418 0.50211312\n",
            "  0.17239471 0.53112334 0.76390136 0.64878923 0.7907844  0.80837385\n",
            "  0.69310509 1.0322822  0.8954399  0.936793   0.3284408  0.42975864\n",
            "  0.78050979 0.5404178  0.6086607  0.51193991 0.74807155 0.27057805\n",
            "  0.73794891 0.08994617 0.48137193 0.37571929 0.55966343 0.84560862\n",
            "  0.2497835  0.51317367 0.8431777  0.49629737 0.18964409 0.38645434\n",
            "  0.6391652  0.80961336 0.00347893 0.75535737 0.63278259 0.6986666\n",
            "  0.66178525 0.57646369 0.77660667 0.4390637  0.70697    0.43649986\n",
            "  0.60278364 0.         0.61884926 0.60993875]\n",
            " [0.74340458 0.24252502 0.72432712 0.65553133 0.86699486 0.71803134\n",
            "  0.61150556 0.786861   0.66535581 0.16781416 0.91885291 0.54532853\n",
            "  0.42933353 0.90305247 0.38244499 0.58360258 0.84084058 0.71464209\n",
            "  0.75438614 0.06994298 0.64321634 0.77588469 0.32422543 0.2273666\n",
            "  0.92616919 0.55275502 0.34121407 1.06146676 0.86179279 0.58878481\n",
            "  0.20756844 0.38921921 0.63296811 0.56579578 0.65759287 0.88960104\n",
            "  0.7971821  0.99934208 0.67999115 0.63526154 0.44279739 0.33698821\n",
            "  0.28711488 0.15211125 0.29821169 0.57145504 0.79051363 0.88841623\n",
            "  0.32355193 0.19291496 0.87805748 0.78489945 0.69979391 0.31678973\n",
            "  0.60156315 0.72311405 0.26812556 0.55005368 0.50716523 0.81848129\n",
            "  0.23568939 0.77634994 1.01829195 0.53360685 0.92624656 0.35460659\n",
            "  0.2993937  0.61830553 0.19855962 0.88840023 1.00098891 0.38034524\n",
            "  0.4031087  0.58182041 0.34968204 0.25259216 0.55988395 0.97699534\n",
            "  0.68568896 0.80516761 0.77836075 0.8217684  0.44025908 0.36605916\n",
            "  0.02712678 0.34405456 0.61545639 0.51454021 0.26704021 1.01862824\n",
            "  0.18819491 0.04422764 1.08828576 0.35945619 0.77449015 0.92225104\n",
            "  0.99210989 0.61884926 0.         0.05662258]\n",
            " [0.73716396 0.28820341 0.71870701 0.71154919 0.87378583 0.77461917\n",
            "  0.66187467 0.84130014 0.72161634 0.20219739 0.9210696  0.57019189\n",
            "  0.47930383 0.92393077 0.43720027 0.63496464 0.87980796 0.75795032\n",
            "  0.78892906 0.09605898 0.68886033 0.82373508 0.38045115 0.28395624\n",
            "  0.96070999 0.60430971 0.35345687 1.10191327 0.89668761 0.64524241\n",
            "  0.23345634 0.4322666  0.63919728 0.59996998 0.67378519 0.91576626\n",
            "  0.80749402 1.04228482 0.683722   0.68466929 0.4993132  0.38275216\n",
            "  0.30452695 0.19887338 0.32054465 0.62257338 0.84239282 0.91959345\n",
            "  0.38006213 0.24699082 0.91185887 0.78119149 0.74440936 0.35730281\n",
            "  0.60863662 0.75636335 0.32386261 0.5975664  0.5624791  0.86554086\n",
            "  0.29223158 0.83259217 1.06166302 0.5898612  0.92512125 0.38664127\n",
            "  0.35529563 0.65624385 0.14194064 0.91155412 1.03572709 0.35840843\n",
            "  0.45868859 0.56545764 0.38792324 0.25935457 0.60110872 1.01937453\n",
            "  0.69740684 0.83320205 0.82859891 0.84758122 0.4255372  0.39260816\n",
            "  0.08016644 0.40000044 0.6064899  0.56848882 0.32053498 1.04862646\n",
            "  0.1348553  0.07444318 1.11983678 0.3927652  0.81750421 0.93597049\n",
            "  1.01602108 0.60993875 0.05662258 0.        ]]\n"
          ]
        }
      ],
      "source": [
        "\n",
        "from scipy.spatial.distance import cdist\n",
        "\n",
        "# Creating a random vector with shape (100, 2) representing coordinates\n",
        "random_vector = np.random.random((100, 2))\n",
        "\n",
        "# Calculating point-by-point distances\n",
        "distances = cdist(random_vector, random_vector)\n",
        "\n",
        "print(distances)"
      ]
    },
    {
      "cell_type": "markdown",
      "id": "f5c164f2",
      "metadata": {
        "id": "f5c164f2"
      },
      "source": [
        "#### 53. How to convert a float (32 bits) array into an integer (32 bits) in place?"
      ]
    },
    {
      "cell_type": "code",
      "execution_count": null,
      "id": "ea262de8",
      "metadata": {
        "id": "ea262de8",
        "colab": {
          "base_uri": "https://localhost:8080/"
        },
        "outputId": "ef0504f4-9bd8-4027-f938-3389ef8cd3b3"
      },
      "outputs": [
        {
          "output_type": "stream",
          "name": "stdout",
          "text": [
            "Original float array: [1.5 2.7 3.8 4.2]\n",
            "Converted integer array: [1069547520 1076677837 1081291571 1082549862]\n"
          ]
        }
      ],
      "source": [
        "\n",
        "# Creating a float (32 bits) array\n",
        "float_array = np.array([1.5, 2.7, 3.8, 4.2], dtype=np.float32)\n",
        "\n",
        "# Converting the float array to an integer (32 bits) in place\n",
        "int_array = float_array.view(np.int32)\n",
        "\n",
        "print(\"Original float array:\", float_array)\n",
        "print(\"Converted integer array:\", int_array)"
      ]
    },
    {
      "cell_type": "markdown",
      "id": "a8b7e6f5",
      "metadata": {
        "id": "a8b7e6f5"
      },
      "source": [
        "#### 54. How to read the following file? (★★☆)\n",
        "```\n",
        "1, 2, 3, 4, 5\n",
        "6,  ,  , 7, 8\n",
        " ,  , 9,10,11\n",
        "```"
      ]
    },
    {
      "cell_type": "code",
      "execution_count": null,
      "id": "bde0538a",
      "metadata": {
        "id": "bde0538a",
        "colab": {
          "base_uri": "https://localhost:8080/",
          "height": 688
        },
        "outputId": "7009ff91-8c99-4297-adb2-a0048a98d631"
      },
      "outputs": [
        {
          "output_type": "error",
          "ename": "FileNotFoundError",
          "evalue": "ignored",
          "traceback": [
            "\u001b[0;31m---------------------------------------------------------------------------\u001b[0m",
            "\u001b[0;31mFileNotFoundError\u001b[0m                         Traceback (most recent call last)",
            "\u001b[0;32m<ipython-input-80-ce69ce47359a>\u001b[0m in \u001b[0;36m<cell line: 2>\u001b[0;34m()\u001b[0m\n\u001b[1;32m      1\u001b[0m \u001b[0;31m# Reading the file and handling missing values\u001b[0m\u001b[0;34m\u001b[0m\u001b[0;34m\u001b[0m\u001b[0m\n\u001b[0;32m----> 2\u001b[0;31m \u001b[0mdata\u001b[0m \u001b[0;34m=\u001b[0m \u001b[0mnp\u001b[0m\u001b[0;34m.\u001b[0m\u001b[0mgenfromtxt\u001b[0m\u001b[0;34m(\u001b[0m\u001b[0;34m'data.txt'\u001b[0m\u001b[0;34m,\u001b[0m \u001b[0mdelimiter\u001b[0m\u001b[0;34m=\u001b[0m\u001b[0;34m','\u001b[0m\u001b[0;34m,\u001b[0m \u001b[0mfilling_values\u001b[0m\u001b[0;34m=\u001b[0m\u001b[0mnp\u001b[0m\u001b[0;34m.\u001b[0m\u001b[0mnan\u001b[0m\u001b[0;34m)\u001b[0m\u001b[0;34m\u001b[0m\u001b[0;34m\u001b[0m\u001b[0m\n\u001b[0m\u001b[1;32m      3\u001b[0m \u001b[0;34m\u001b[0m\u001b[0m\n\u001b[1;32m      4\u001b[0m \u001b[0mprint\u001b[0m\u001b[0;34m(\u001b[0m\u001b[0mdata\u001b[0m\u001b[0;34m)\u001b[0m\u001b[0;34m\u001b[0m\u001b[0;34m\u001b[0m\u001b[0m\n",
            "\u001b[0;32m/usr/local/lib/python3.10/dist-packages/numpy/lib/npyio.py\u001b[0m in \u001b[0;36mgenfromtxt\u001b[0;34m(fname, dtype, comments, delimiter, skip_header, skip_footer, converters, missing_values, filling_values, usecols, names, excludelist, deletechars, replace_space, autostrip, case_sensitive, defaultfmt, unpack, usemask, loose, invalid_raise, max_rows, encoding, ndmin, like)\u001b[0m\n\u001b[1;32m   1957\u001b[0m         \u001b[0mfname\u001b[0m \u001b[0;34m=\u001b[0m \u001b[0mos_fspath\u001b[0m\u001b[0;34m(\u001b[0m\u001b[0mfname\u001b[0m\u001b[0;34m)\u001b[0m\u001b[0;34m\u001b[0m\u001b[0;34m\u001b[0m\u001b[0m\n\u001b[1;32m   1958\u001b[0m     \u001b[0;32mif\u001b[0m \u001b[0misinstance\u001b[0m\u001b[0;34m(\u001b[0m\u001b[0mfname\u001b[0m\u001b[0;34m,\u001b[0m \u001b[0mstr\u001b[0m\u001b[0;34m)\u001b[0m\u001b[0;34m:\u001b[0m\u001b[0;34m\u001b[0m\u001b[0;34m\u001b[0m\u001b[0m\n\u001b[0;32m-> 1959\u001b[0;31m         \u001b[0mfid\u001b[0m \u001b[0;34m=\u001b[0m \u001b[0mnp\u001b[0m\u001b[0;34m.\u001b[0m\u001b[0mlib\u001b[0m\u001b[0;34m.\u001b[0m\u001b[0m_datasource\u001b[0m\u001b[0;34m.\u001b[0m\u001b[0mopen\u001b[0m\u001b[0;34m(\u001b[0m\u001b[0mfname\u001b[0m\u001b[0;34m,\u001b[0m \u001b[0;34m'rt'\u001b[0m\u001b[0;34m,\u001b[0m \u001b[0mencoding\u001b[0m\u001b[0;34m=\u001b[0m\u001b[0mencoding\u001b[0m\u001b[0;34m)\u001b[0m\u001b[0;34m\u001b[0m\u001b[0;34m\u001b[0m\u001b[0m\n\u001b[0m\u001b[1;32m   1960\u001b[0m         \u001b[0mfid_ctx\u001b[0m \u001b[0;34m=\u001b[0m \u001b[0mcontextlib\u001b[0m\u001b[0;34m.\u001b[0m\u001b[0mclosing\u001b[0m\u001b[0;34m(\u001b[0m\u001b[0mfid\u001b[0m\u001b[0;34m)\u001b[0m\u001b[0;34m\u001b[0m\u001b[0;34m\u001b[0m\u001b[0m\n\u001b[1;32m   1961\u001b[0m     \u001b[0;32melse\u001b[0m\u001b[0;34m:\u001b[0m\u001b[0;34m\u001b[0m\u001b[0;34m\u001b[0m\u001b[0m\n",
            "\u001b[0;32m/usr/local/lib/python3.10/dist-packages/numpy/lib/_datasource.py\u001b[0m in \u001b[0;36mopen\u001b[0;34m(path, mode, destpath, encoding, newline)\u001b[0m\n\u001b[1;32m    191\u001b[0m \u001b[0;34m\u001b[0m\u001b[0m\n\u001b[1;32m    192\u001b[0m     \u001b[0mds\u001b[0m \u001b[0;34m=\u001b[0m \u001b[0mDataSource\u001b[0m\u001b[0;34m(\u001b[0m\u001b[0mdestpath\u001b[0m\u001b[0;34m)\u001b[0m\u001b[0;34m\u001b[0m\u001b[0;34m\u001b[0m\u001b[0m\n\u001b[0;32m--> 193\u001b[0;31m     \u001b[0;32mreturn\u001b[0m \u001b[0mds\u001b[0m\u001b[0;34m.\u001b[0m\u001b[0mopen\u001b[0m\u001b[0;34m(\u001b[0m\u001b[0mpath\u001b[0m\u001b[0;34m,\u001b[0m \u001b[0mmode\u001b[0m\u001b[0;34m,\u001b[0m \u001b[0mencoding\u001b[0m\u001b[0;34m=\u001b[0m\u001b[0mencoding\u001b[0m\u001b[0;34m,\u001b[0m \u001b[0mnewline\u001b[0m\u001b[0;34m=\u001b[0m\u001b[0mnewline\u001b[0m\u001b[0;34m)\u001b[0m\u001b[0;34m\u001b[0m\u001b[0;34m\u001b[0m\u001b[0m\n\u001b[0m\u001b[1;32m    194\u001b[0m \u001b[0;34m\u001b[0m\u001b[0m\n\u001b[1;32m    195\u001b[0m \u001b[0;34m\u001b[0m\u001b[0m\n",
            "\u001b[0;32m/usr/local/lib/python3.10/dist-packages/numpy/lib/_datasource.py\u001b[0m in \u001b[0;36mopen\u001b[0;34m(self, path, mode, encoding, newline)\u001b[0m\n\u001b[1;32m    531\u001b[0m                                       encoding=encoding, newline=newline)\n\u001b[1;32m    532\u001b[0m         \u001b[0;32melse\u001b[0m\u001b[0;34m:\u001b[0m\u001b[0;34m\u001b[0m\u001b[0;34m\u001b[0m\u001b[0m\n\u001b[0;32m--> 533\u001b[0;31m             \u001b[0;32mraise\u001b[0m \u001b[0mFileNotFoundError\u001b[0m\u001b[0;34m(\u001b[0m\u001b[0;34mf\"{path} not found.\"\u001b[0m\u001b[0;34m)\u001b[0m\u001b[0;34m\u001b[0m\u001b[0;34m\u001b[0m\u001b[0m\n\u001b[0m\u001b[1;32m    534\u001b[0m \u001b[0;34m\u001b[0m\u001b[0m\n\u001b[1;32m    535\u001b[0m \u001b[0;34m\u001b[0m\u001b[0m\n",
            "\u001b[0;31mFileNotFoundError\u001b[0m: data.txt not found."
          ]
        }
      ],
      "source": [
        "\n",
        "# Reading the file and handling missing values\n",
        "data = np.genfromtxt('data.txt', delimiter=',', filling_values=np.nan)\n",
        "\n",
        "print(data)"
      ]
    },
    {
      "cell_type": "markdown",
      "id": "c6b32834",
      "metadata": {
        "id": "c6b32834"
      },
      "source": [
        "#### 55. What is the equivalent of enumerate for numpy arrays? (★★☆)"
      ]
    },
    {
      "cell_type": "code",
      "execution_count": null,
      "id": "ab02472a",
      "metadata": {
        "id": "ab02472a",
        "colab": {
          "base_uri": "https://localhost:8080/"
        },
        "outputId": "d55e725d-0506-45c1-d623-d75a78f69b7c"
      },
      "outputs": [
        {
          "output_type": "stream",
          "name": "stdout",
          "text": [
            "Index: (0, 0), Value: 1\n",
            "Index: (0, 1), Value: 2\n",
            "Index: (0, 2), Value: 3\n",
            "Index: (1, 0), Value: 4\n",
            "Index: (1, 1), Value: 5\n",
            "Index: (1, 2), Value: 6\n"
          ]
        }
      ],
      "source": [
        "\n",
        "# Creating a sample 2D NumPy array\n",
        "array = np.array([[1, 2, 3], [4, 5, 6]])\n",
        "\n",
        "# Using np.ndenumerate to iterate through the array\n",
        "for index, value in np.ndenumerate(array):\n",
        "    print(f\"Index: {index}, Value: {value}\")"
      ]
    },
    {
      "cell_type": "markdown",
      "id": "a2121a05",
      "metadata": {
        "id": "a2121a05"
      },
      "source": [
        "#### 56. Generate a generic 2D Gaussian-like array (★★☆)"
      ]
    },
    {
      "cell_type": "code",
      "execution_count": null,
      "id": "18507102",
      "metadata": {
        "id": "18507102",
        "colab": {
          "base_uri": "https://localhost:8080/",
          "height": 246
        },
        "outputId": "7fa66227-a1b5-4d58-9d50-b132f61c099d"
      },
      "outputs": [
        {
          "output_type": "display_data",
          "data": {
            "text/plain": [
              "<Figure size 640x480 with 2 Axes>"
            ],
            "image/png": "[encoded data removed]"
          },
          "metadata": {}
        }
      ],
      "source": [
        "\n",
        "import matplotlib.pyplot as plt\n",
        "\n",
        "# Define the parameters\n",
        "x = np.linspace(-3, 3, 100)\n",
        "y = np.linspace(-3, 3, 100)\n",
        "X, Y = np.meshgrid(x, y)\n",
        "Z = np.exp(-(X**2 + Y**2))\n",
        "\n",
        "# Plotting the 2D Gaussian-like array\n",
        "plt.imshow(Z, extent=[-3, 3, -3, 3], origin='lower')\n",
        "plt.colorbar()\n",
        "plt.show()"
      ]
    },
    {
      "cell_type": "markdown",
      "id": "97055efa",
      "metadata": {
        "id": "97055efa"
      },
      "source": [
        "#### 57. How to randomly place p elements in a 2D array? (★★☆)"
      ]
    },
    {
      "cell_type": "code",
      "execution_count": null,
      "id": "292e842f",
      "metadata": {
        "id": "292e842f",
        "colab": {
          "base_uri": "https://localhost:8080/"
        },
        "outputId": "e0ec42a3-fd40-4d95-f515-1ff31852d9be"
      },
      "outputs": [
        {
          "output_type": "stream",
          "name": "stdout",
          "text": [
            "[[0. 0. 0. 0. 1.]\n",
            " [0. 0. 0. 0. 0.]\n",
            " [0. 0. 0. 1. 0.]\n",
            " [0. 0. 0. 0. 0.]\n",
            " [0. 0. 1. 0. 1.]]\n"
          ]
        }
      ],
      "source": [
        "\n",
        "#Define the dimensions of the 2D array and the number of elements\n",
        "n, m, p = 5, 5, 5\n",
        "\n",
        "# Create a 2D array\n",
        "array = np.zeros((n, m))\n",
        "\n",
        "# Randomly place p elements\n",
        "for _ in range(p):\n",
        "    i, j = np.random.randint(0, n), np.random.randint(0, m)\n",
        "    array[i, j] = 1\n",
        "\n",
        "print(array)"
      ]
    },
    {
      "cell_type": "markdown",
      "id": "bfd2513c",
      "metadata": {
        "id": "bfd2513c"
      },
      "source": [
        "#### 58. Subtract the mean of each row of a matrix (★★☆)"
      ]
    },
    {
      "cell_type": "code",
      "execution_count": null,
      "id": "f306ab72",
      "metadata": {
        "id": "f306ab72",
        "colab": {
          "base_uri": "https://localhost:8080/"
        },
        "outputId": "31eec808-3d4e-451f-b1f8-b6e8aa03334b"
      },
      "outputs": [
        {
          "output_type": "stream",
          "name": "stdout",
          "text": [
            "[[ 0.03125712 -0.21307565  0.18181853]\n",
            " [-0.21517307 -0.08840953  0.3035826 ]\n",
            " [-0.01120897 -0.32367635  0.33488533]\n",
            " [-0.15842336 -0.20775378  0.36617714]\n",
            " [-0.1828346   0.03484388  0.14799071]]\n"
          ]
        }
      ],
      "source": [
        "\n",
        "# Creating a sample matrix\n",
        "matrix = np.random.rand(5, 3)\n",
        "\n",
        "# Subtracting the mean of each row from the matrix\n",
        "mean_subtracted_matrix = matrix - np.mean(matrix, axis=1, keepdims=True)\n",
        "\n",
        "print(mean_subtracted_matrix)"
      ]
    },
    {
      "cell_type": "markdown",
      "id": "da9f2f9b",
      "metadata": {
        "id": "da9f2f9b"
      },
      "source": [
        "#### 59. How to sort an array by the nth column? (★★☆)"
      ]
    },
    {
      "cell_type": "code",
      "execution_count": null,
      "id": "68cde57f",
      "metadata": {
        "id": "68cde57f",
        "colab": {
          "base_uri": "https://localhost:8080/"
        },
        "outputId": "196127df-51fe-4368-845e-0a6fb31e8f40"
      },
      "outputs": [
        {
          "output_type": "stream",
          "name": "stdout",
          "text": [
            "[[3 1 0]\n",
            " [1 4 2]\n",
            " [2 5 3]]\n"
          ]
        }
      ],
      "source": [
        "\n",
        "\n",
        "# Creating a sample 2D array\n",
        "array = np.array([[1, 4, 2],\n",
        "                  [3, 1, 0],\n",
        "                  [2, 5, 3]])\n",
        "\n",
        "# Sorting the array by the nth column (in this example, the second column, n=1)\n",
        "sorted_array = array[array[:, 1].argsort()]\n",
        "\n",
        "print(sorted_array)"
      ]
    },
    {
      "cell_type": "markdown",
      "id": "5b7be45c",
      "metadata": {
        "id": "5b7be45c"
      },
      "source": [
        "#### 60. How to tell if a given 2D array has null columns? (★★☆)"
      ]
    },
    {
      "cell_type": "code",
      "execution_count": null,
      "id": "7dbe2c27",
      "metadata": {
        "id": "7dbe2c27",
        "colab": {
          "base_uri": "https://localhost:8080/"
        },
        "outputId": "8e84b8fa-9974-4fe0-87f9-5490c06f21a5"
      },
      "outputs": [
        {
          "output_type": "stream",
          "name": "stdout",
          "text": [
            "The array has null columns.\n"
          ]
        }
      ],
      "source": [
        "\n",
        "# Creating a sample 2D array\n",
        "array = np.array([[1, 0, 3, 4],\n",
        "                  [0, 0, 0, 0],\n",
        "                  [2, 0, 0, 1]])\n",
        "\n",
        "# Checking for null columns\n",
        "null_columns = np.all(array == 0, axis=0)\n",
        "\n",
        "# Printing the result\n",
        "if np.any(null_columns):\n",
        "    print(\"The array has null columns.\")\n",
        "else:\n",
        "    print(\"The array does not have null columns.\")"
      ]
    },
    {
      "cell_type": "markdown",
      "id": "7c18c02e",
      "metadata": {
        "id": "7c18c02e"
      },
      "source": [
        "#### 61. Find the nearest value from a given value in an array (★★☆)"
      ]
    },
    {
      "cell_type": "code",
      "execution_count": null,
      "id": "b78ae9c4",
      "metadata": {
        "id": "b78ae9c4",
        "colab": {
          "base_uri": "https://localhost:8080/"
        },
        "outputId": "d7d27135-a5a2-46d8-d863-3dc3dd7129c8"
      },
      "outputs": [
        {
          "output_type": "stream",
          "name": "stdout",
          "text": [
            "The nearest value to 2 in the array is 5.\n"
          ]
        }
      ],
      "source": [
        "\n",
        "def find_nearest_value(array, value):\n",
        "    nearest_value = min(array, key=lambda x: abs(x - value))\n",
        "    return nearest_value\n",
        "\n",
        "# Example usage\n",
        "my_array = [100,20,30,5,10]\n",
        "given_value = 2\n",
        "nearest = find_nearest_value(my_array, given_value)\n",
        "print(f\"The nearest value to {given_value} in the array is {nearest}.\")"
      ]
    },
    {
      "cell_type": "markdown",
      "id": "8174ba2c",
      "metadata": {
        "id": "8174ba2c"
      },
      "source": [
        "#### 62. Considering two arrays with shape (1,3) and (3,1), how to compute their sum using an iterator? (★★☆)"
      ]
    },
    {
      "cell_type": "code",
      "execution_count": null,
      "id": "8a18fe57",
      "metadata": {
        "id": "8a18fe57",
        "colab": {
          "base_uri": "https://localhost:8080/"
        },
        "outputId": "44e4dd39-87d4-4403-af23-7cd4cd071123"
      },
      "outputs": [
        {
          "output_type": "stream",
          "name": "stdout",
          "text": [
            "225\n"
          ]
        }
      ],
      "source": [
        "\n",
        "# Define the arrays\n",
        "array1 = np.array([[10, 20, 30]])\n",
        "array2 = np.array([[4], [5], [6]])\n",
        "sum_result = 0\n",
        "# Iterate through the elements and add them to the sum\n",
        "for i in np.nditer(array1):\n",
        "    for j in np.nditer(array2):\n",
        "        sum_result += i + j\n",
        "print(sum_result)"
      ]
    },
    {
      "cell_type": "markdown",
      "id": "9189bd7c",
      "metadata": {
        "id": "9189bd7c"
      },
      "source": [
        "#### 63. Create an array class that has a name attribute (★★☆)"
      ]
    },
    {
      "cell_type": "code",
      "execution_count": null,
      "id": "1c01ed42",
      "metadata": {
        "id": "1c01ed42",
        "outputId": "c78e6797-bb54-4a8c-931c-816ef378d65b",
        "colab": {
          "base_uri": "https://localhost:8080/"
        }
      },
      "outputs": [
        {
          "output_type": "stream",
          "name": "stdout",
          "text": [
            "example_array\n",
            "[1, 2, 3, 4, 5]\n",
            "new_array_name\n"
          ]
        }
      ],
      "source": [
        "class NamedArray:\n",
        "    def __init__(self, name, array):\n",
        "        self.name = name\n",
        "        self.array = array\n",
        "\n",
        "    def get_name(self):\n",
        "        return self.name\n",
        "\n",
        "    def set_name(self, new_name):\n",
        "        self.name = new_name\n",
        "\n",
        "    def get_array(self):\n",
        "        return self.array\n",
        "\n",
        "\n",
        "# Example usage:\n",
        "my_named_array = NamedArray(\"example_array\", [1, 2, 3, 4, 5])\n",
        "print(my_named_array.get_name())  # Output: example_array\n",
        "print(my_named_array.get_array())  # Output: [1, 2, 3, 4, 5]\n",
        "\n",
        "my_named_array.set_name(\"new_array_name\")\n",
        "print(my_named_array.get_name())  # Output: new_array_name"
      ]
    },
    {
      "cell_type": "markdown",
      "id": "f30162d2",
      "metadata": {
        "id": "f30162d2"
      },
      "source": [
        "#### 64. Consider a given vector, how to add 1 to each element indexed by a second vector (be careful with repeated indices)? (★★★)"
      ]
    },
    {
      "cell_type": "code",
      "execution_count": null,
      "id": "093ba36f",
      "metadata": {
        "id": "093ba36f",
        "colab": {
          "base_uri": "https://localhost:8080/"
        },
        "outputId": "58ac20dc-6d2f-4389-ee5a-5e0ac8f36350"
      },
      "outputs": [
        {
          "output_type": "stream",
          "name": "stdout",
          "text": [
            "[1 3 3 5 6]\n"
          ]
        }
      ],
      "source": [
        "\n",
        "# Example vectors\n",
        "given_vector = np.array([1, 2, 3, 4, 5])\n",
        "second_vector = np.array([1, 3, 3, 4])\n",
        "\n",
        "# Adding 1 to the elements indexed by the second vector\n",
        "given_vector[second_vector] += 1\n",
        "\n",
        "# Print the updated vector\n",
        "print(given_vector)"
      ]
    },
    {
      "cell_type": "markdown",
      "id": "f5b1c584",
      "metadata": {
        "id": "f5b1c584"
      },
      "source": [
        "#### 65. How to accumulate elements of a vector (X) to an array (F) based on an index list (I)? (★★★)"
      ]
    },
    {
      "cell_type": "code",
      "execution_count": null,
      "id": "c9d92a75",
      "metadata": {
        "id": "c9d92a75",
        "colab": {
          "base_uri": "https://localhost:8080/"
        },
        "outputId": "d33fa4db-7355-474f-be3e-3966278f0d0a"
      },
      "outputs": [
        {
          "output_type": "stream",
          "name": "stdout",
          "text": [
            "[0. 5. 8. 2.]\n"
          ]
        }
      ],
      "source": [
        "\n",
        "\n",
        "# Example vectors\n",
        "X = np.array([1, 2, 3, 4, 5])\n",
        "I = np.array([1, 3, 2, 1, 2])\n",
        "F = np.zeros(4)  # Initialize the array F\n",
        "\n",
        "np.add.at(F, I, X)  # Accumulate elements of X into F based on the index list I\n",
        "\n",
        "# Print the updated array F\n",
        "print(F)"
      ]
    },
    {
      "cell_type": "markdown",
      "id": "994c452d",
      "metadata": {
        "id": "994c452d"
      },
      "source": [
        "#### 66. Considering a (w,h,3) image of (dtype=ubyte), compute the number of unique colors (★★☆)"
      ]
    },
    {
      "cell_type": "code",
      "execution_count": null,
      "id": "269cdaea",
      "metadata": {
        "id": "269cdaea",
        "colab": {
          "base_uri": "https://localhost:8080/"
        },
        "outputId": "9513534c-95b1-4288-ee56-6ff474cd59f3"
      },
      "outputs": [
        {
          "output_type": "stream",
          "name": "stdout",
          "text": [
            "9997\n"
          ]
        }
      ],
      "source": [
        "\n",
        "\n",
        "# Assuming you have an image 'img' of shape (w, h, 3) with dtype ubyte\n",
        "w, h = 100, 100  # Example dimensions\n",
        "img = np.random.randint(0, 256, (w, h, 3), dtype=np.uint8)  # Example image\n",
        "\n",
        "# Reshape the image into a 2D array\n",
        "reshaped_img = img.reshape(-1, 3)\n",
        "\n",
        "# Compute the number of unique colors\n",
        "num_unique_colors = len(np.unique(reshaped_img, axis=0))\n",
        "\n",
        "# Print the number of unique colors\n",
        "print(num_unique_colors)"
      ]
    },
    {
      "cell_type": "markdown",
      "id": "4bddeb31",
      "metadata": {
        "id": "4bddeb31"
      },
      "source": [
        "#### 67. Considering a four dimensions array, how to get sum over the last two axis at once? (★★★)"
      ]
    },
    {
      "cell_type": "code",
      "execution_count": null,
      "id": "32af15f5",
      "metadata": {
        "id": "32af15f5",
        "colab": {
          "base_uri": "https://localhost:8080/"
        },
        "outputId": "42c6fdf7-f7a5-4571-950c-9ad3955695af"
      },
      "outputs": [
        {
          "output_type": "stream",
          "name": "stdout",
          "text": [
            "[[15.98057713 10.82785983 14.12026862 16.58097078]\n",
            " [15.4704585  15.93928792 14.74104656 16.47633648]\n",
            " [13.42065597 15.81683752 14.53266303 15.81388437]]\n"
          ]
        }
      ],
      "source": [
        "# Example four-dimensional array\n",
        "array_4d = np.random.rand(3, 4, 5, 6)  # Adjust the dimensions according to your use case\n",
        "\n",
        "# Compute the sum over the last two axes at once\n",
        "sum_over_last_two_axes = np.sum(array_4d, axis=(-2, -1))\n",
        "\n",
        "# Print the result\n",
        "print(sum_over_last_two_axes)"
      ]
    },
    {
      "cell_type": "markdown",
      "id": "c4cf083c",
      "metadata": {
        "id": "c4cf083c"
      },
      "source": [
        "#### 68. Considering a one-dimensional vector D, how to compute means of subsets of D using a vector S of same size describing subset  indices? (★★★)"
      ]
    },
    {
      "cell_type": "code",
      "execution_count": null,
      "id": "9600a2dd",
      "metadata": {
        "id": "9600a2dd",
        "colab": {
          "base_uri": "https://localhost:8080/"
        },
        "outputId": "6416f3e3-d725-494e-8fdf-ee2d1ca32c7c"
      },
      "outputs": [
        {
          "output_type": "stream",
          "name": "stdout",
          "text": [
            "[1.5, 3.5, 5.5, 8.5]\n"
          ]
        }
      ],
      "source": [
        "\n",
        "# Example one-dimensional vector D and subset indices vector S\n",
        "D = np.array([1, 2, 3, 4, 5, 6, 7, 8, 9, 10])  # Adjust the values as needed\n",
        "S = np.array([0, 0, 1, 1, 2, 2, 3, 3, 3, 3])  # Adjust the subset indices as needed\n",
        "\n",
        "# Compute the means of subsets of D using S\n",
        "means = [np.mean(D[S == i]) for i in np.unique(S)]\n",
        "\n",
        "# Print the computed means\n",
        "print(means)"
      ]
    },
    {
      "cell_type": "markdown",
      "id": "a5e316db",
      "metadata": {
        "id": "a5e316db"
      },
      "source": [
        "#### 69. How to get the diagonal of a dot product? (★★★)"
      ]
    },
    {
      "cell_type": "code",
      "execution_count": null,
      "id": "94735dbd",
      "metadata": {
        "id": "94735dbd",
        "colab": {
          "base_uri": "https://localhost:8080/"
        },
        "outputId": "1caddd61-c9ea-4c36-d2e4-b3b296d42bec"
      },
      "outputs": [
        {
          "output_type": "stream",
          "name": "stdout",
          "text": [
            "[0.58712251 0.44331736 0.47016204]\n"
          ]
        }
      ],
      "source": [
        "\n",
        "# Example matrices A and B\n",
        "A = np.random.rand(3, 3)  # Adjust the dimensions and values as needed\n",
        "B = np.random.rand(3, 3)  # Adjust the dimensions and values as needed\n",
        "\n",
        "# Compute the dot product of A and B\n",
        "dot_product = np.dot(A, B)\n",
        "\n",
        "# Get the diagonal of the dot product\n",
        "diagonal_dot_product = np.diagonal(dot_product)\n",
        "\n",
        "# Print the diagonal of the dot product\n",
        "print(diagonal_dot_product)"
      ]
    },
    {
      "cell_type": "markdown",
      "id": "de727a7b",
      "metadata": {
        "id": "de727a7b"
      },
      "source": [
        "#### 70. Consider the vector [1, 2, 3, 4, 5], how to build a new vector with 3 consecutive zeros interleaved between each value? (★★★)"
      ]
    },
    {
      "cell_type": "code",
      "execution_count": null,
      "id": "982be812",
      "metadata": {
        "id": "982be812",
        "colab": {
          "base_uri": "https://localhost:8080/"
        },
        "outputId": "b5e66ff3-ac97-46fc-d00f-b92bc7d7a6ba"
      },
      "outputs": [
        {
          "output_type": "stream",
          "name": "stdout",
          "text": [
            "[1, 1, 1, 2, 2, 2, 3, 3, 3, 4, 4, 4, 5, 5, 5, 0, 0, 0, 0, 0, 0, 0, 0, 0, 0, 0, 0, 0, 0]\n"
          ]
        }
      ],
      "source": [
        "\n",
        "# Given vector\n",
        "original_vector = [1, 2, 3, 4, 5]\n",
        "\n",
        "# Build the new vector with 3 consecutive zeros interleaved\n",
        "new_vector = [val for val in original_vector for _ in range(3)] + [0] * (len(original_vector) * 3 - 1)\n",
        "\n",
        "# Print the new vector\n",
        "print(new_vector)"
      ]
    },
    {
      "cell_type": "markdown",
      "id": "a9a73d6b",
      "metadata": {
        "id": "a9a73d6b"
      },
      "source": [
        "#### 71. Consider an array of dimension (5,5,3), how to mulitply it by an array with dimensions (5,5)? (★★★)"
      ]
    },
    {
      "cell_type": "code",
      "execution_count": null,
      "id": "282a90cc",
      "metadata": {
        "id": "282a90cc",
        "colab": {
          "base_uri": "https://localhost:8080/"
        },
        "outputId": "3ab86915-267a-4ebe-8aef-64712655867d"
      },
      "outputs": [
        {
          "output_type": "stream",
          "name": "stdout",
          "text": [
            "[[[2.66546705e-01 8.64812079e-01 5.69831188e-01]\n",
            "  [5.18684033e-02 3.55267240e-02 2.58672802e-03]\n",
            "  [2.55396187e-01 3.59397147e-01 2.26596195e-01]\n",
            "  [1.90764530e-01 1.54088750e-02 8.94593872e-02]\n",
            "  [8.17043955e-01 3.44437566e-01 3.31410527e-01]]\n",
            "\n",
            " [[3.35805215e-01 1.82629721e-01 3.88849591e-01]\n",
            "  [3.64715346e-02 8.72245474e-02 1.26100717e-02]\n",
            "  [1.89132460e-01 4.75869649e-01 8.13863658e-01]\n",
            "  [2.59853926e-01 1.41175021e-01 2.74281085e-01]\n",
            "  [1.54953059e-01 2.56278620e-01 4.00580220e-01]]\n",
            "\n",
            " [[4.67091059e-01 5.69070356e-01 4.58090013e-01]\n",
            "  [9.66005425e-02 2.00775798e-01 1.53742197e-01]\n",
            "  [1.01856374e-01 6.51501088e-02 9.80637015e-02]\n",
            "  [1.07363343e-01 2.79448059e-01 1.30586856e-01]\n",
            "  [4.14790757e-03 3.19952318e-04 3.94595401e-03]]\n",
            "\n",
            " [[1.32468153e-01 1.85626802e-01 1.81484363e-01]\n",
            "  [1.53118205e-01 1.74958276e-01 8.88793082e-01]\n",
            "  [3.63031350e-01 1.36954737e-01 2.11724700e-01]\n",
            "  [2.51579884e-01 5.53115045e-02 1.11051299e-02]\n",
            "  [3.62456731e-01 4.43826610e-01 2.89173843e-01]]\n",
            "\n",
            " [[1.07494302e-01 7.84345149e-02 1.76323239e-01]\n",
            "  [4.35321229e-01 6.60256163e-01 3.63082675e-01]\n",
            "  [4.01365694e-01 8.67553298e-01 7.68820968e-01]\n",
            "  [5.81507585e-01 1.15309270e-01 4.00439679e-01]\n",
            "  [4.26616125e-02 1.63226359e-02 1.69586618e-02]]]\n"
          ]
        }
      ],
      "source": [
        "\n",
        "# Create arrays with specified dimensions\n",
        "array_3d = np.random.rand(5, 5, 3)  # Adjust the dimensions and values as needed\n",
        "array_2d = np.random.rand(5, 5)  # Adjust the dimensions and values as needed\n",
        "\n",
        "# Multiply the 3D array by the 2D array\n",
        "result = array_3d * array_2d[:, :, None]\n",
        "\n",
        "# Print the result\n",
        "print(result)"
      ]
    },
    {
      "cell_type": "markdown",
      "id": "a951c78f",
      "metadata": {
        "id": "a951c78f"
      },
      "source": [
        "#### 72. How to swap two rows of an array? (★★★)"
      ]
    },
    {
      "cell_type": "code",
      "execution_count": null,
      "id": "e29b3fde",
      "metadata": {
        "id": "e29b3fde",
        "colab": {
          "base_uri": "https://localhost:8080/"
        },
        "outputId": "cb6152fc-9345-4662-f4c9-4071b65e5997"
      },
      "outputs": [
        {
          "output_type": "stream",
          "name": "stdout",
          "text": [
            "[[1 2 3]\n",
            " [7 8 9]\n",
            " [4 5 6]]\n"
          ]
        }
      ],
      "source": [
        "\n",
        "# Example array\n",
        "array = np.array([[1, 2, 3], [4, 5, 6], [7, 8, 9]])\n",
        "\n",
        "# Swap rows 1 and 2 (0-based index)\n",
        "array[[1, 2]] = array[[2, 1]]\n",
        "\n",
        "# Print the array after swapping rows\n",
        "print(array)"
      ]
    },
    {
      "cell_type": "markdown",
      "id": "43b639e8",
      "metadata": {
        "id": "43b639e8"
      },
      "source": [
        "#### 73. Consider a set of 10 triplets describing 10 triangles (with shared vertices), find the set of unique line segments composing all the  triangles (★★★)"
      ]
    },
    {
      "cell_type": "code",
      "execution_count": null,
      "id": "147e1034",
      "metadata": {
        "id": "147e1034",
        "colab": {
          "base_uri": "https://localhost:8080/"
        },
        "outputId": "a0c3a030-a2ca-4c93-a162-8a4e2ec4e0da"
      },
      "outputs": [
        {
          "output_type": "stream",
          "name": "stdout",
          "text": [
            "{(1, 2), (3, 4), (2, 7), (3, 7), (4, 6), (6, 7), (2, 5), (1, 3), (4, 7), (3, 5), (7, 4), (4, 2), (1, 4), (2, 3), (2, 6), (5, 6), (4, 8), (3, 6), (8, 2), (6, 3), (7, 8)}\n"
          ]
        }
      ],
      "source": [
        "# Example set of 10 triplets describing 10 triangles\n",
        "triangles = {\n",
        "    (1, 2, 3), (1, 3, 4), (1, 4, 2),\n",
        "    (2, 3, 5), (2, 5, 6), (2, 6, 3),\n",
        "    (3, 4, 6), (3, 6, 7), (3, 7, 4),\n",
        "    (4, 2, 7), (4, 7, 8), (4, 8, 2)\n",
        "}\n",
        "\n",
        "# Function to generate line segments from a triangle\n",
        "def generate_segments(triangle):\n",
        "    return {(triangle[0], triangle[1]), (triangle[1], triangle[2]), (triangle[0], triangle[2])}\n",
        "\n",
        "# Initialize an empty set for unique line segments\n",
        "unique_segments = set()\n",
        "\n",
        "# Iterate through each triangle to find the unique line segments\n",
        "for triangle in triangles:\n",
        "    segments = generate_segments(triangle)\n",
        "    unique_segments.update(segments)\n",
        "\n",
        "# Print the set of unique line segments\n",
        "print(unique_segments)"
      ]
    },
    {
      "cell_type": "markdown",
      "id": "d41de585",
      "metadata": {
        "id": "d41de585"
      },
      "source": [
        "#### 74. Given a sorted array C that corresponds to a bincount, how to produce an array A such that np.bincount(A) == C? (★★★)"
      ]
    },
    {
      "cell_type": "code",
      "execution_count": null,
      "id": "5f5d6e36",
      "metadata": {
        "id": "5f5d6e36",
        "colab": {
          "base_uri": "https://localhost:8080/"
        },
        "outputId": "cb7d6015-12b0-4925-8513-cffb243c803b"
      },
      "outputs": [
        {
          "output_type": "stream",
          "name": "stdout",
          "text": [
            "[1 1 2 2 3 3 3 4 4 4 4 5 5 5 5 6 6 6 6]\n"
          ]
        }
      ],
      "source": [
        "\n",
        "# Example sorted array C corresponding to a bincount\n",
        "C = np.array([0, 2, 2, 3, 4, 4, 4])\n",
        "\n",
        "# Produce the array A such that np.bincount(A) == C\n",
        "A = np.repeat(np.arange(len(C)), C)\n",
        "\n",
        "# Print the array A\n",
        "print(A)"
      ]
    },
    {
      "cell_type": "markdown",
      "id": "b50adf7c",
      "metadata": {
        "id": "b50adf7c"
      },
      "source": [
        "#### 75. How to compute averages using a sliding window over an array? (★★★)"
      ]
    },
    {
      "cell_type": "code",
      "execution_count": null,
      "id": "e631a9d2",
      "metadata": {
        "id": "e631a9d2",
        "colab": {
          "base_uri": "https://localhost:8080/"
        },
        "outputId": "3dabfcc6-ed6a-4830-deba-4d5a447b8182"
      },
      "outputs": [
        {
          "output_type": "stream",
          "name": "stdout",
          "text": [
            "[2. 3. 4. 5. 6. 7. 8. 9.]\n"
          ]
        }
      ],
      "source": [
        "# Example array\n",
        "arr = np.array([1, 2, 3, 4, 5, 6, 7, 8, 9, 10])\n",
        "\n",
        "# Define the sliding window size\n",
        "window_size = 3\n",
        "\n",
        "# Create a kernel for the sliding window\n",
        "kernel = np.ones(window_size) / window_size\n",
        "\n",
        "# Compute the averages using the sliding window\n",
        "averages = np.convolve(arr, kernel, mode='valid')\n",
        "\n",
        "# Print the computed averages\n",
        "print(averages)"
      ]
    },
    {
      "cell_type": "markdown",
      "id": "1ab4c50d",
      "metadata": {
        "id": "1ab4c50d"
      },
      "source": [
        "#### 76. Consider a one-dimensional array Z, build a two-dimensional array whose first row is (Z[0],Z[1],Z[2]) and each subsequent row is  shifted by 1 (last row should be (Z[-3],Z[-2],Z[-1]) (★★★)"
      ]
    },
    {
      "cell_type": "code",
      "execution_count": null,
      "id": "3ccfe2c0",
      "metadata": {
        "id": "3ccfe2c0",
        "colab": {
          "base_uri": "https://localhost:8080/"
        },
        "outputId": "33956b42-2bc7-41f9-adbb-27ecc78af140"
      },
      "outputs": [
        {
          "output_type": "stream",
          "name": "stdout",
          "text": [
            "[[ 1  2  3]\n",
            " [ 2  3  4]\n",
            " [ 3  4  5]\n",
            " [ 4  5  6]\n",
            " [ 5  6  7]\n",
            " [ 6  7  8]\n",
            " [ 7  8  9]\n",
            " [ 8  9 10]]\n"
          ]
        }
      ],
      "source": [
        "\n",
        "import numpy as np\n",
        "\n",
        "# Example one-dimensional array Z\n",
        "Z = np.array([1, 2, 3, 4, 5, 6, 7, 8, 9, 10])\n",
        "\n",
        "# Build the two-dimensional array based on Z\n",
        "n = 3  # Length of the slice\n",
        "result = np.array([Z[i:i+n] for i in range(len(Z) - n + 1)])\n",
        "\n",
        "# Print the two-dimensional array\n",
        "print(result)"
      ]
    },
    {
      "cell_type": "markdown",
      "id": "5b4fe59d",
      "metadata": {
        "id": "5b4fe59d"
      },
      "source": [
        "#### 77. How to negate a boolean, or to change the sign of a float inplace? (★★★)"
      ]
    },
    {
      "cell_type": "code",
      "execution_count": null,
      "id": "3c2373ff",
      "metadata": {
        "id": "3c2373ff",
        "colab": {
          "base_uri": "https://localhost:8080/"
        },
        "outputId": "983cb815-b95b-4ee8-aaf8-06d7a39fd3f1"
      },
      "outputs": [
        {
          "output_type": "stream",
          "name": "stdout",
          "text": [
            "False\n"
          ]
        }
      ],
      "source": [
        "\n",
        "# Example boolean\n",
        "boolean_value = True\n",
        "\n",
        "# Negate the boolean\n",
        "negated_boolean = not boolean_value\n",
        "\n",
        "# Print the negated boolean\n",
        "print(negated_boolean)"
      ]
    },
    {
      "cell_type": "code",
      "source": [
        "\n",
        "# Example float\n",
        "float_value = 3.14\n",
        "\n",
        "# Change the sign of the float\n",
        "float_value = -float_value\n",
        "\n",
        "# Print the float with changed sign\n",
        "print(float_value)"
      ],
      "metadata": {
        "colab": {
          "base_uri": "https://localhost:8080/"
        },
        "id": "0U9kd0BowV08",
        "outputId": "bccf4ce8-f3fc-41e9-81dd-da5064ced44e"
      },
      "id": "0U9kd0BowV08",
      "execution_count": null,
      "outputs": [
        {
          "output_type": "stream",
          "name": "stdout",
          "text": [
            "-3.14\n"
          ]
        }
      ]
    },
    {
      "cell_type": "markdown",
      "id": "119ab5af",
      "metadata": {
        "id": "119ab5af"
      },
      "source": [
        "#### 78. Consider 2 sets of points P0,P1 describing lines (2d) and a point p, how to compute distance from p to each line i (P0[i],P1[i])? (★★★)"
      ]
    },
    {
      "cell_type": "code",
      "execution_count": null,
      "id": "1d8d06dc",
      "metadata": {
        "id": "1d8d06dc",
        "colab": {
          "base_uri": "https://localhost:8080/"
        },
        "outputId": "38df154f-023c-49bc-ca63-842e7f7f5061"
      },
      "outputs": [
        {
          "output_type": "stream",
          "name": "stdout",
          "text": [
            "[0.70710678 0.         1.58113883]\n"
          ]
        }
      ],
      "source": [
        "\n",
        "# Example sets of points P0 and P1 describing lines\n",
        "P0 = np.array([[1, 1], [2, 3], [4, 4]])  # Adjust the points as needed\n",
        "P1 = np.array([[5, 5], [4, 1], [1, 3]])  # Adjust the points as needed\n",
        "p = np.array([3, 2])  # Adjust the point p as needed\n",
        "\n",
        "# Compute the distance from p to each line (P0[i], P1[i])\n",
        "def distance_to_line(p, P0, P1):\n",
        "    return np.abs(np.cross(P1 - P0, p - P0) / np.linalg.norm(P1 - P0, axis=1))\n",
        "\n",
        "distances = distance_to_line(p, P0, P1)\n",
        "\n",
        "# Print the distances\n",
        "print(distances)"
      ]
    },
    {
      "cell_type": "markdown",
      "id": "e5e7f323",
      "metadata": {
        "id": "e5e7f323"
      },
      "source": [
        "#### 79. Consider 2 sets of points P0,P1 describing lines (2d) and a set of points P, how to compute distance from each point j (P[j]) to each line i (P0[i],P1[i])? (★★★)"
      ]
    },
    {
      "cell_type": "code",
      "execution_count": null,
      "id": "d0ce77e2",
      "metadata": {
        "id": "d0ce77e2",
        "colab": {
          "base_uri": "https://localhost:8080/"
        },
        "outputId": "e258ec10-1cfa-4db6-ba2f-4af281329b4d"
      },
      "outputs": [
        {
          "output_type": "stream",
          "name": "stdout",
          "text": [
            "[0.70710678 2.12132034 0.9486833 ]\n"
          ]
        }
      ],
      "source": [
        "\n",
        "# Example sets of points P0, P1, and P describing lines and points\n",
        "P0 = np.array([[1, 1], [2, 3], [4, 4]])  # Adjust the points as needed\n",
        "P1 = np.array([[5, 5], [4, 1], [1, 3]])  # Adjust the points as needed\n",
        "P = np.array([[3, 2], [4, 4], [1, 2]])  # Adjust the points as needed\n",
        "\n",
        "# Compute the distance from each point j (P[j]) to each line i (P0[i], P1[i])\n",
        "def distance_to_lines(P, P0, P1):\n",
        "    v = P1 - P0\n",
        "    w = P - P0\n",
        "    c1 = np.sum(w * v, axis=1)\n",
        "    c2 = np.sum(v * v, axis=1)\n",
        "    b = c1 / c2\n",
        "    Pb = P0 + b[:, np.newaxis] * v\n",
        "    return np.linalg.norm(P - Pb, axis=1)\n",
        "\n",
        "distances = distance_to_lines(P, P0, P1)\n",
        "\n",
        "# Print the distances\n",
        "print(distances)"
      ]
    },
    {
      "cell_type": "markdown",
      "id": "9b9d03eb",
      "metadata": {
        "id": "9b9d03eb"
      },
      "source": [
        "#### 80. Consider an arbitrary array, write a function that extract a subpart with a fixed shape and centered on a given element (pad with a `fill` value when necessary) (★★★)"
      ]
    },
    {
      "cell_type": "code",
      "execution_count": null,
      "id": "ec2b7ae3",
      "metadata": {
        "id": "ec2b7ae3",
        "colab": {
          "base_uri": "https://localhost:8080/"
        },
        "outputId": "561aef64-8ea3-4361-a11c-d47dc57fb215"
      },
      "outputs": [
        {
          "output_type": "stream",
          "name": "stdout",
          "text": [
            "[[ 1  2  3]\n",
            " [ 2  3  4]\n",
            " [ 3  4  5]\n",
            " [ 4  5  6]\n",
            " [ 5  6  7]\n",
            " [ 6  7  8]\n",
            " [ 7  8  9]\n",
            " [ 8  9 10]]\n"
          ]
        }
      ],
      "source": [
        "def extract_subpart(array, shape, center, fill_value=0):\n",
        "    result = np.full(shape, fill_value)\n",
        "    x_center, y_center = center\n",
        "    x_offset = shape[0] // 2\n",
        "    y_offset = shape[1] // 2\n",
        "\n",
        "    x_start = max(0, x_center - x_offset)\n",
        "    x_end = min(array.shape[0], x_center + x_offset + 1)\n",
        "    y_start = max(0, y_center - y_offset)\n",
        "    y_end = min(array.shape[1], y_center + y_offset + 1)\n",
        "\n",
        "    x_result_start = max(0, x_offset - x_center)\n",
        "    x_result_end = x_result_start + (x_end - x_start)\n",
        "    y_result_start = max(0, y_offset - y_center)\n",
        "    y_result_end = y_result_start + (y_end - y_start)\n",
        "\n",
        "    result[x_result_start:x_result_end, y_result_start:y_result_end] = array[x_start:x_end, y_start:y_end]\n",
        "\n",
        "    return result\n",
        "print(result)"
      ]
    },
    {
      "cell_type": "markdown",
      "id": "27794913",
      "metadata": {
        "id": "27794913"
      },
      "source": [
        "#### 81. Consider an array Z = [1,2,3,4,5,6,7,8,9,10,11,12,13,14], how to generate an array R = [[1,2,3,4], [2,3,4,5], [3,4,5,6], ..., [11,12,13,14]]? (★★★)"
      ]
    },
    {
      "cell_type": "code",
      "execution_count": null,
      "id": "f3e7878b",
      "metadata": {
        "id": "f3e7878b",
        "colab": {
          "base_uri": "https://localhost:8080/"
        },
        "outputId": "ca24e18d-4f07-4261-a667-9d91374e74de"
      },
      "outputs": [
        {
          "output_type": "stream",
          "name": "stdout",
          "text": [
            "[[ 1  2  3  4]\n",
            " [ 2  3  4  5]\n",
            " [ 3  4  5  6]\n",
            " [ 4  5  6  7]\n",
            " [ 5  6  7  8]\n",
            " [ 6  7  8  9]\n",
            " [ 7  8  9 10]\n",
            " [ 8  9 10 11]\n",
            " [ 9 10 11 12]\n",
            " [10 11 12 13]\n",
            " [11 12 13 14]]\n"
          ]
        }
      ],
      "source": [
        "\n",
        "Z = np.array([1,2,3,4,5,6,7,8,9,10,11,12,13,14])\n",
        "n = 4\n",
        "R = np.lib.stride_tricks.as_strided(Z, shape=(len(Z) - n + 1, n), strides=(Z.itemsize, Z.itemsize))\n",
        "print(R)"
      ]
    },
    {
      "cell_type": "markdown",
      "id": "fae786f5",
      "metadata": {
        "id": "fae786f5"
      },
      "source": [
        "#### 82. Compute a matrix rank (★★★)"
      ]
    },
    {
      "cell_type": "code",
      "execution_count": null,
      "id": "64b9615b",
      "metadata": {
        "id": "64b9615b",
        "colab": {
          "base_uri": "https://localhost:8080/"
        },
        "outputId": "dbd96ffa-91ff-4f78-dac2-ba9f955f2144"
      },
      "outputs": [
        {
          "output_type": "stream",
          "name": "stdout",
          "text": [
            "The rank of the matrix is: 2\n"
          ]
        }
      ],
      "source": [
        "\n",
        "# Define your matrix\n",
        "matrix = np.array([[1, 2, 3],\n",
        "                   [4, 5, 6],\n",
        "                   [7, 8, 9]])\n",
        "\n",
        "# Compute the rank of the matrix\n",
        "rank = np.linalg.matrix_rank(matrix)\n",
        "\n",
        "# Print the rank\n",
        "print(\"The rank of the matrix is:\", rank)"
      ]
    },
    {
      "cell_type": "markdown",
      "id": "c85aa0b9",
      "metadata": {
        "id": "c85aa0b9"
      },
      "source": [
        "#### 83. How to find the most frequent value in an array?"
      ]
    },
    {
      "cell_type": "code",
      "execution_count": null,
      "id": "056be85b",
      "metadata": {
        "id": "056be85b",
        "colab": {
          "base_uri": "https://localhost:8080/"
        },
        "outputId": "03244e81-ddda-40d2-a4cf-afb9b7cebd5f"
      },
      "outputs": [
        {
          "output_type": "stream",
          "name": "stdout",
          "text": [
            "The most frequent value in the array is: 4\n"
          ]
        }
      ],
      "source": [
        "from collections import Counter\n",
        "\n",
        "# Example array\n",
        "arr = [1, 2, 3, 4, 2, 2, 3, 3, 3, 4, 4, 4, 4]\n",
        "\n",
        "# Use Counter to find the most common element\n",
        "count = Counter(arr)\n",
        "most_common_value = count.most_common(1)[0][0]\n",
        "\n",
        "print(\"The most frequent value in the array is:\", most_common_value)"
      ]
    },
    {
      "cell_type": "markdown",
      "id": "0ff2344d",
      "metadata": {
        "id": "0ff2344d"
      },
      "source": [
        "#### 84. Extract all the contiguous 3x3 blocks from a random 10x10 matrix (★★★)"
      ]
    },
    {
      "cell_type": "code",
      "execution_count": null,
      "id": "d58b1318",
      "metadata": {
        "id": "d58b1318",
        "colab": {
          "base_uri": "https://localhost:8080/"
        },
        "outputId": "80f0256b-d2cb-4599-f58d-a3dca1df2255"
      },
      "outputs": [
        {
          "output_type": "stream",
          "name": "stdout",
          "text": [
            "Block 1:\n",
            "[[84 77 76]\n",
            " [83 48 61]\n",
            " [22 50 84]]\n",
            "\n",
            "Block 2:\n",
            "[[77 76 49]\n",
            " [48 61 49]\n",
            " [50 84 50]]\n",
            "\n",
            "Block 3:\n",
            "[[76 49 25]\n",
            " [61 49 99]\n",
            " [84 50 24]]\n",
            "\n",
            "Block 4:\n",
            "[[49 25 66]\n",
            " [49 99 15]\n",
            " [50 24  6]]\n",
            "\n",
            "Block 5:\n",
            "[[25 66 81]\n",
            " [99 15 68]\n",
            " [24  6 35]]\n",
            "\n",
            "Block 6:\n",
            "[[66 81  9]\n",
            " [15 68 45]\n",
            " [ 6 35 31]]\n",
            "\n",
            "Block 7:\n",
            "[[81  9  8]\n",
            " [68 45 19]\n",
            " [35 31 69]]\n",
            "\n",
            "Block 8:\n",
            "[[ 9  8 11]\n",
            " [45 19 49]\n",
            " [31 69 72]]\n",
            "\n",
            "Block 9:\n",
            "[[83 48 61]\n",
            " [22 50 84]\n",
            " [57 79 51]]\n",
            "\n",
            "Block 10:\n",
            "[[48 61 49]\n",
            " [50 84 50]\n",
            " [79 51 87]]\n",
            "\n",
            "Block 11:\n",
            "[[61 49 99]\n",
            " [84 50 24]\n",
            " [51 87  7]]\n",
            "\n",
            "Block 12:\n",
            "[[49 99 15]\n",
            " [50 24  6]\n",
            " [87  7 96]]\n",
            "\n",
            "Block 13:\n",
            "[[99 15 68]\n",
            " [24  6 35]\n",
            " [ 7 96 47]]\n",
            "\n",
            "Block 14:\n",
            "[[15 68 45]\n",
            " [ 6 35 31]\n",
            " [96 47 50]]\n",
            "\n",
            "Block 15:\n",
            "[[68 45 19]\n",
            " [35 31 69]\n",
            " [47 50 90]]\n",
            "\n",
            "Block 16:\n",
            "[[45 19 49]\n",
            " [31 69 72]\n",
            " [50 90 77]]\n",
            "\n",
            "Block 17:\n",
            "[[22 50 84]\n",
            " [57 79 51]\n",
            " [ 9 65 42]]\n",
            "\n",
            "Block 18:\n",
            "[[50 84 50]\n",
            " [79 51 87]\n",
            " [65 42 85]]\n",
            "\n",
            "Block 19:\n",
            "[[84 50 24]\n",
            " [51 87  7]\n",
            " [42 85  0]]\n",
            "\n",
            "Block 20:\n",
            "[[50 24  6]\n",
            " [87  7 96]\n",
            " [85  0 34]]\n",
            "\n",
            "Block 21:\n",
            "[[24  6 35]\n",
            " [ 7 96 47]\n",
            " [ 0 34 85]]\n",
            "\n",
            "Block 22:\n",
            "[[ 6 35 31]\n",
            " [96 47 50]\n",
            " [34 85 64]]\n",
            "\n",
            "Block 23:\n",
            "[[35 31 69]\n",
            " [47 50 90]\n",
            " [85 64 83]]\n",
            "\n",
            "Block 24:\n",
            "[[31 69 72]\n",
            " [50 90 77]\n",
            " [64 83 11]]\n",
            "\n",
            "Block 25:\n",
            "[[57 79 51]\n",
            " [ 9 65 42]\n",
            " [48 40  7]]\n",
            "\n",
            "Block 26:\n",
            "[[79 51 87]\n",
            " [65 42 85]\n",
            " [40  7 60]]\n",
            "\n",
            "Block 27:\n",
            "[[51 87  7]\n",
            " [42 85  0]\n",
            " [ 7 60 47]]\n",
            "\n",
            "Block 28:\n",
            "[[87  7 96]\n",
            " [85  0 34]\n",
            " [60 47 29]]\n",
            "\n",
            "Block 29:\n",
            "[[ 7 96 47]\n",
            " [ 0 34 85]\n",
            " [47 29 46]]\n",
            "\n",
            "Block 30:\n",
            "[[96 47 50]\n",
            " [34 85 64]\n",
            " [29 46 68]]\n",
            "\n",
            "Block 31:\n",
            "[[47 50 90]\n",
            " [85 64 83]\n",
            " [46 68 37]]\n",
            "\n",
            "Block 32:\n",
            "[[50 90 77]\n",
            " [64 83 11]\n",
            " [68 37 65]]\n",
            "\n",
            "Block 33:\n",
            "[[ 9 65 42]\n",
            " [48 40  7]\n",
            " [21 97 41]]\n",
            "\n",
            "Block 34:\n",
            "[[65 42 85]\n",
            " [40  7 60]\n",
            " [97 41 21]]\n",
            "\n",
            "Block 35:\n",
            "[[42 85  0]\n",
            " [ 7 60 47]\n",
            " [41 21 36]]\n",
            "\n",
            "Block 36:\n",
            "[[85  0 34]\n",
            " [60 47 29]\n",
            " [21 36 31]]\n",
            "\n",
            "Block 37:\n",
            "[[ 0 34 85]\n",
            " [47 29 46]\n",
            " [36 31  7]]\n",
            "\n",
            "Block 38:\n",
            "[[34 85 64]\n",
            " [29 46 68]\n",
            " [31  7 79]]\n",
            "\n",
            "Block 39:\n",
            "[[85 64 83]\n",
            " [46 68 37]\n",
            " [ 7 79 67]]\n",
            "\n",
            "Block 40:\n",
            "[[64 83 11]\n",
            " [68 37 65]\n",
            " [79 67 18]]\n",
            "\n",
            "Block 41:\n",
            "[[48 40  7]\n",
            " [21 97 41]\n",
            " [91 79 32]]\n",
            "\n",
            "Block 42:\n",
            "[[40  7 60]\n",
            " [97 41 21]\n",
            " [79 32  8]]\n",
            "\n",
            "Block 43:\n",
            "[[ 7 60 47]\n",
            " [41 21 36]\n",
            " [32  8  8]]\n",
            "\n",
            "Block 44:\n",
            "[[60 47 29]\n",
            " [21 36 31]\n",
            " [ 8  8 75]]\n",
            "\n",
            "Block 45:\n",
            "[[47 29 46]\n",
            " [36 31  7]\n",
            " [ 8 75 21]]\n",
            "\n",
            "Block 46:\n",
            "[[29 46 68]\n",
            " [31  7 79]\n",
            " [75 21 59]]\n",
            "\n",
            "Block 47:\n",
            "[[46 68 37]\n",
            " [ 7 79 67]\n",
            " [21 59 45]]\n",
            "\n",
            "Block 48:\n",
            "[[68 37 65]\n",
            " [79 67 18]\n",
            " [59 45 89]]\n",
            "\n",
            "Block 49:\n",
            "[[21 97 41]\n",
            " [91 79 32]\n",
            " [27 62 14]]\n",
            "\n",
            "Block 50:\n",
            "[[97 41 21]\n",
            " [79 32  8]\n",
            " [62 14 22]]\n",
            "\n",
            "Block 51:\n",
            "[[41 21 36]\n",
            " [32  8  8]\n",
            " [14 22 55]]\n",
            "\n",
            "Block 52:\n",
            "[[21 36 31]\n",
            " [ 8  8 75]\n",
            " [22 55 52]]\n",
            "\n",
            "Block 53:\n",
            "[[36 31  7]\n",
            " [ 8 75 21]\n",
            " [55 52 38]]\n",
            "\n",
            "Block 54:\n",
            "[[31  7 79]\n",
            " [75 21 59]\n",
            " [52 38 68]]\n",
            "\n",
            "Block 55:\n",
            "[[ 7 79 67]\n",
            " [21 59 45]\n",
            " [38 68 79]]\n",
            "\n",
            "Block 56:\n",
            "[[79 67 18]\n",
            " [59 45 89]\n",
            " [68 79 50]]\n",
            "\n",
            "Block 57:\n",
            "[[91 79 32]\n",
            " [27 62 14]\n",
            " [61 50 97]]\n",
            "\n",
            "Block 58:\n",
            "[[79 32  8]\n",
            " [62 14 22]\n",
            " [50 97 83]]\n",
            "\n",
            "Block 59:\n",
            "[[32  8  8]\n",
            " [14 22 55]\n",
            " [97 83 24]]\n",
            "\n",
            "Block 60:\n",
            "[[ 8  8 75]\n",
            " [22 55 52]\n",
            " [83 24 83]]\n",
            "\n",
            "Block 61:\n",
            "[[ 8 75 21]\n",
            " [55 52 38]\n",
            " [24 83 17]]\n",
            "\n",
            "Block 62:\n",
            "[[75 21 59]\n",
            " [52 38 68]\n",
            " [83 17 89]]\n",
            "\n",
            "Block 63:\n",
            "[[21 59 45]\n",
            " [38 68 79]\n",
            " [17 89 57]]\n",
            "\n",
            "Block 64:\n",
            "[[59 45 89]\n",
            " [68 79 50]\n",
            " [89 57 44]]\n",
            "\n"
          ]
        }
      ],
      "source": [
        "\n",
        "# Create a random 10x10 matrix\n",
        "matrix = np.random.randint(0, 100, size=(10, 10))\n",
        "\n",
        "# Extract all contiguous 3x3 blocks\n",
        "blocks = [matrix[i:i+3, j:j+3] for i in range(8) for j in range(8)]\n",
        "\n",
        "# Print the blocks\n",
        "for i, block in enumerate(blocks, 1):\n",
        "    print(f\"Block {i}:\\n{block}\\n\")"
      ]
    },
    {
      "cell_type": "markdown",
      "id": "1a18b263",
      "metadata": {
        "id": "1a18b263"
      },
      "source": [
        "#### 85. Create a 2D array subclass such that Z[i,j] == Z[j,i] (★★★)"
      ]
    },
    {
      "cell_type": "code",
      "execution_count": null,
      "id": "87f17adc",
      "metadata": {
        "id": "87f17adc",
        "colab": {
          "base_uri": "https://localhost:8080/"
        },
        "outputId": "e7950acf-4ed6-4c45-d9f1-653bcac9eceb"
      },
      "outputs": [
        {
          "output_type": "stream",
          "name": "stdout",
          "text": [
            "3\n",
            "3\n"
          ]
        }
      ],
      "source": [
        "\n",
        "class SymmetricArray(np.ndarray):\n",
        "    def __setitem__(self, index, value):\n",
        "        i, j = index\n",
        "        super(SymmetricArray, self).__setitem__((i, j), value)\n",
        "        super(SymmetricArray, self).__setitem__((j, i), value)\n",
        "\n",
        "    def __getitem__(self, index):\n",
        "        i, j = index\n",
        "        return super(SymmetricArray, self).__getitem__((i, j))\n",
        "\n",
        "# Create a symmetric array\n",
        "Z = SymmetricArray((3, 3), dtype=int)\n",
        "\n",
        "# Set values in the array\n",
        "Z[0, 1] = 2\n",
        "Z[1, 0] = 3\n",
        "\n",
        "# Check if Z[i,j] == Z[j,i]\n",
        "print(Z[0, 1])  # Should print 2\n",
        "print(Z[1, 0])  # Should also print 2"
      ]
    },
    {
      "cell_type": "markdown",
      "id": "f85f2cad",
      "metadata": {
        "id": "f85f2cad"
      },
      "source": [
        "#### 86. Consider a set of p matrices wich shape (n,n) and a set of p vectors with shape (n,1). How to compute the sum of of the p matrix products at once? (result has shape (n,1)) (★★★)"
      ]
    },
    {
      "cell_type": "code",
      "execution_count": null,
      "id": "8d230557",
      "metadata": {
        "id": "8d230557",
        "colab": {
          "base_uri": "https://localhost:8080/"
        },
        "outputId": "af309c56-8fbd-4bb8-cf3d-43bb9528c2f1"
      },
      "outputs": [
        {
          "output_type": "stream",
          "name": "stdout",
          "text": [
            "[[1.27945126]\n",
            " [1.76569351]]\n"
          ]
        }
      ],
      "source": [
        "\n",
        "# Define the parameters\n",
        "p = 3  # Number of matrices and vectors\n",
        "n = 2  # Shape of matrices and vectors\n",
        "\n",
        "# Generate random matrices and vectors\n",
        "matrices = [np.random.rand(n, n) for _ in range(p)]\n",
        "vectors = [np.random.rand(n, 1) for _ in range(p)]\n",
        "\n",
        "# Compute the sum of the products\n",
        "result = sum(np.tensordot(matrices[i], vectors[i], axes=1) for i in range(p))\n",
        "\n",
        "# Print the result\n",
        "print(result)"
      ]
    },
    {
      "cell_type": "markdown",
      "id": "5afb72c8",
      "metadata": {
        "id": "5afb72c8"
      },
      "source": [
        "#### 87. Consider a 16x16 array, how to get the block-sum (block size is 4x4)? (★★★)"
      ]
    },
    {
      "cell_type": "code",
      "execution_count": null,
      "id": "e86f47a9",
      "metadata": {
        "id": "e86f47a9",
        "colab": {
          "base_uri": "https://localhost:8080/"
        },
        "outputId": "b3c6ca28-8f8c-4185-d240-d0f9f2f5e738"
      },
      "outputs": [
        {
          "output_type": "stream",
          "name": "stdout",
          "text": [
            "[[70. 78. 80. 79.]\n",
            " [86. 96. 81. 75.]\n",
            " [83. 89. 80. 94.]\n",
            " [74. 82. 86. 59.]]\n"
          ]
        }
      ],
      "source": [
        "\n",
        "# Create a 16x16 array\n",
        "array_16x16 = np.random.randint(1, 10, size=(16, 16))\n",
        "\n",
        "# Define the block size\n",
        "block_size = 4\n",
        "\n",
        "# Initialize an empty array for block sums\n",
        "block_sums = np.zeros((4, 4))\n",
        "\n",
        "# Compute the block-sum\n",
        "for i in range(0, 16, block_size):\n",
        "    for j in range(0, 16, block_size):\n",
        "        block = array_16x16[i:i+block_size, j:j+block_size]\n",
        "        block_sum = np.sum(block)\n",
        "        block_sums[i//block_size, j//block_size] = block_sum\n",
        "\n",
        "# Print the block-sum array\n",
        "print(block_sums)"
      ]
    },
    {
      "cell_type": "markdown",
      "id": "6094d37c",
      "metadata": {
        "id": "6094d37c"
      },
      "source": [
        "#### 88. How to implement the Game of Life using numpy arrays? (★★★)"
      ]
    },
    {
      "cell_type": "code",
      "execution_count": null,
      "id": "a93e715f",
      "metadata": {
        "id": "a93e715f",
        "colab": {
          "base_uri": "https://localhost:8080/",
          "height": 323
        },
        "outputId": "2ed2fd4f-a7b0-489d-e497-2016cb1ba80a"
      },
      "outputs": [
        {
          "output_type": "display_data",
          "data": {
            "text/plain": [
              "<Figure size 640x480 with 0 Axes>"
            ]
          },
          "metadata": {}
        },
        {
          "output_type": "display_data",
          "data": {
            "text/plain": [
              "<Figure size 480x480 with 1 Axes>"
            ],
            "image/png": "[encoded data removed]"
          },
          "metadata": {}
        }
      ],
      "source": [
        "\n",
        "import numpy as np\n",
        "import matplotlib.pyplot as plt\n",
        "import matplotlib.animation as animation\n",
        "\n",
        "# Initialize the game grid\n",
        "grid_size = 100\n",
        "grid = np.random.choice([0, 1], grid_size * grid_size, p=[0.2, 0.8]).reshape(grid_size, grid_size)\n",
        "\n",
        "# Define the rules for Conway's Game of Life\n",
        "def update_grid(grid):\n",
        "    neighbor_count = sum(np.roll(np.roll(grid, i, 0), j, 1)\n",
        "                         for i in (-1, 0, 1) for j in (-1, 0, 1)\n",
        "                         if (i != 0 or j != 0))\n",
        "    new_grid = (neighbor_count == 3) | (grid & (neighbor_count == 2))\n",
        "    return new_grid.astype(int)\n",
        "\n",
        "# Create a figure\n",
        "fig = plt.figure()\n",
        "\n",
        "# Update function for the animation\n",
        "def update(frame):\n",
        "    global grid\n",
        "    grid = update_grid(grid)\n",
        "    mat.set_data(grid)\n",
        "    return [mat]\n",
        "\n",
        "# Display the initial grid\n",
        "mat = plt.matshow(grid, cmap='Greys', interpolation='nearest')\n",
        "\n",
        "# Animate the Game of Life\n",
        "ani = animation.FuncAnimation(fig, update, frames=200, repeat=False)\n",
        "plt.show()"
      ]
    },
    {
      "cell_type": "markdown",
      "id": "a173cf96",
      "metadata": {
        "id": "a173cf96"
      },
      "source": [
        "#### 89. How to get the n largest values of an array (★★★)"
      ]
    },
    {
      "cell_type": "code",
      "execution_count": null,
      "id": "b7c2ff35",
      "metadata": {
        "id": "b7c2ff35",
        "colab": {
          "base_uri": "https://localhost:8080/"
        },
        "outputId": "af89fc3b-c0ea-4775-e1cd-afbfc4b38763"
      },
      "outputs": [
        {
          "output_type": "stream",
          "name": "stdout",
          "text": [
            "Indices of the largest elements: [8 4 9]\n",
            "The 3 largest elements: [ 8  9 10]\n"
          ]
        }
      ],
      "source": [
        "\n",
        "# Create a random array\n",
        "arr = np.array([1, 3, 5, 7, 9, 2, 4, 6, 8, 10])\n",
        "\n",
        "# Define the number of largest values you want\n",
        "n_largest = 3\n",
        "\n",
        "# Get the indices of the n largest elements\n",
        "indices = np.argsort(arr)[-n_largest:]\n",
        "\n",
        "# Get the n largest elements\n",
        "n_largest_values = arr[indices]\n",
        "\n",
        "# Print the results\n",
        "print(\"Indices of the largest elements:\", indices)\n",
        "print(\"The\", n_largest, \"largest elements:\", n_largest_values)"
      ]
    },
    {
      "cell_type": "markdown",
      "id": "15db2d01",
      "metadata": {
        "id": "15db2d01"
      },
      "source": [
        "#### 90. Given an arbitrary number of vectors, build the cartesian product (every combinations of every item) (★★★)"
      ]
    },
    {
      "cell_type": "code",
      "execution_count": null,
      "id": "a9a4633d",
      "metadata": {
        "id": "a9a4633d",
        "colab": {
          "base_uri": "https://localhost:8080/"
        },
        "outputId": "c18120be-94e0-42e4-b860-c88167d286de"
      },
      "outputs": [
        {
          "output_type": "stream",
          "name": "stdout",
          "text": [
            "[(1, 4, 6), (1, 4, 7), (1, 4, 8), (1, 5, 6), (1, 5, 7), (1, 5, 8), (2, 4, 6), (2, 4, 7), (2, 4, 8), (2, 5, 6), (2, 5, 7), (2, 5, 8), (3, 4, 6), (3, 4, 7), (3, 4, 8), (3, 5, 6), (3, 5, 7), (3, 5, 8)]\n"
          ]
        }
      ],
      "source": [
        "\n",
        "from itertools import product\n",
        "\n",
        "# Define the vectors\n",
        "vector1 = [1, 2, 3]\n",
        "vector2 = [4, 5]\n",
        "vector3 = [6, 7, 8]\n",
        "\n",
        "# Compute the Cartesian product\n",
        "cartesian_product = list(product(vector1, vector2, vector3))\n",
        "\n",
        "# Print the Cartesian product\n",
        "print(cartesian_product)"
      ]
    },
    {
      "cell_type": "markdown",
      "id": "5d94d1ef",
      "metadata": {
        "id": "5d94d1ef"
      },
      "source": [
        "#### 91. How to create a record array from a regular array? (★★★)"
      ]
    },
    {
      "cell_type": "code",
      "execution_count": null,
      "id": "b1dae380",
      "metadata": {
        "id": "b1dae380",
        "colab": {
          "base_uri": "https://localhost:8080/"
        },
        "outputId": "3b70fe0d-a74d-4e81-c860-2ab2cba74032"
      },
      "outputs": [
        {
          "output_type": "stream",
          "name": "stdout",
          "text": [
            "[('1', '2.0', 'Hello') ('2', '3.0', 'World')]\n"
          ]
        }
      ],
      "source": [
        "# Create a regular array\n",
        "regular_array = np.array([(1, 2.0, 'Hello'), (2, 3.0, 'World')])\n",
        "\n",
        "# Create a record array\n",
        "record_array = np.rec.fromarrays(regular_array.T, names='col1, col2, col3')\n",
        "\n",
        "# Print the record array\n",
        "print(record_array)"
      ]
    },
    {
      "cell_type": "markdown",
      "id": "114ccc36",
      "metadata": {
        "id": "114ccc36"
      },
      "source": [
        "#### 92. Consider a large vector Z, compute Z to the power of 3 using 3 different methods (★★★)"
      ]
    },
    {
      "cell_type": "code",
      "execution_count": null,
      "id": "877c65d6",
      "metadata": {
        "id": "877c65d6",
        "colab": {
          "base_uri": "https://localhost:8080/"
        },
        "outputId": "a1e18c78-67ba-4cf5-8572-8c611ebd7666"
      },
      "outputs": [
        {
          "output_type": "stream",
          "name": "stdout",
          "text": [
            "Method 1 - Power operator:\n",
            "[0.09145823 0.43150719 0.54168851 ... 0.82887809 0.2253978  0.85697201]\n",
            "\n",
            "Method 2 - np.power function:\n",
            "[0.09145823 0.43150719 0.54168851 ... 0.82887809 0.2253978  0.85697201]\n",
            "\n",
            "Method 3 - np.multiply function:\n",
            "[0.09145823 0.43150719 0.54168851 ... 0.82887809 0.2253978  0.85697201]\n"
          ]
        }
      ],
      "source": [
        "\n",
        "# Create a large vector Z\n",
        "Z = np.random.rand(1000000)\n",
        "\n",
        "# Method 1: Using the power operator\n",
        "Z_cubed_method1 = Z ** 3\n",
        "\n",
        "# Method 2: Using the np.power function\n",
        "Z_cubed_method2 = np.power(Z, 3)\n",
        "\n",
        "# Method 3: Using the multiply function\n",
        "Z_cubed_method3 = np.multiply(np.multiply(Z, Z), Z)\n",
        "\n",
        "# Print the results for comparison\n",
        "print(\"Method 1 - Power operator:\")\n",
        "print(Z_cubed_method1)\n",
        "\n",
        "print(\"\\nMethod 2 - np.power function:\")\n",
        "print(Z_cubed_method2)\n",
        "\n",
        "print(\"\\nMethod 3 - np.multiply function:\")\n",
        "print(Z_cubed_method3)"
      ]
    },
    {
      "cell_type": "markdown",
      "id": "d614fee4",
      "metadata": {
        "id": "d614fee4"
      },
      "source": [
        "#### 93. Consider two arrays A and B of shape (8,3) and (2,2). How to find rows of A that contain elements of each row of B regardless of the order of the elements in B? (★★★)"
      ]
    },
    {
      "cell_type": "code",
      "execution_count": null,
      "id": "e6807a84",
      "metadata": {
        "id": "e6807a84",
        "colab": {
          "base_uri": "https://localhost:8080/"
        },
        "outputId": "3bdd2b66-a2f4-44b8-98cb-7af2ef09abed"
      },
      "outputs": [
        {
          "output_type": "stream",
          "name": "stdout",
          "text": [
            "[]\n"
          ]
        }
      ],
      "source": [
        "\n",
        "\n",
        "# Define the arrays A and B\n",
        "A = np.random.randint(0, 10, size=(8, 3))\n",
        "B = np.random.randint(0, 10, size=(2, 2))\n",
        "\n",
        "# Check if rows of A contain elements of each row of B\n",
        "contains_elements = np.all(np.isin(A, B), axis=1)\n",
        "\n",
        "# Print the rows of A that contain elements of each row of B\n",
        "print(A[contains_elements])"
      ]
    },
    {
      "cell_type": "markdown",
      "id": "b0eedca6",
      "metadata": {
        "id": "b0eedca6"
      },
      "source": [
        "#### 94. Considering a 10x3 matrix, extract rows with unequal values (e.g. [2,2,3]) (★★★)"
      ]
    },
    {
      "cell_type": "code",
      "execution_count": null,
      "id": "fc136ce2",
      "metadata": {
        "id": "fc136ce2",
        "colab": {
          "base_uri": "https://localhost:8080/"
        },
        "outputId": "1549bfcb-cd86-4b40-df16-41758e07f0f7"
      },
      "outputs": [
        {
          "output_type": "stream",
          "name": "stdout",
          "text": [
            "[[ 2  2  3]\n",
            " [ 5  6  6]\n",
            " [ 7  7  8]\n",
            " [11 12 12]\n",
            " [13 14 15]]\n"
          ]
        }
      ],
      "source": [
        "# Create a 10x3 matrix\n",
        "matrix = np.array([[2, 2, 3],\n",
        "                   [1, 1, 1],\n",
        "                   [4, 4, 4],\n",
        "                   [5, 6, 6],\n",
        "                   [7, 7, 8],\n",
        "                   [9, 9, 9],\n",
        "                   [10, 10, 10],\n",
        "                   [11, 12, 12],\n",
        "                   [13, 14, 15],\n",
        "                   [16, 16, 16]])\n",
        "\n",
        "# Find rows with unequal values\n",
        "unequal_rows = matrix[~np.all(matrix[:, 1:] == matrix[:, :-1], axis=1)]\n",
        "\n",
        "# Print the rows with unequal values\n",
        "print(unequal_rows)"
      ]
    },
    {
      "cell_type": "markdown",
      "id": "a65ec1cf",
      "metadata": {
        "id": "a65ec1cf"
      },
      "source": [
        "#### 95. Convert a vector of ints into a matrix binary representation (★★★)"
      ]
    },
    {
      "cell_type": "code",
      "execution_count": null,
      "id": "323cdf4c",
      "metadata": {
        "id": "323cdf4c",
        "colab": {
          "base_uri": "https://localhost:8080/"
        },
        "outputId": "1531f032-a2dc-4be2-a224-01ac78299e0d"
      },
      "outputs": [
        {
          "output_type": "stream",
          "name": "stdout",
          "text": [
            "[[0 0 0 0 0 0 0 1]\n",
            " [0 0 0 0 0 0 1 0]\n",
            " [0 0 0 0 0 0 1 1]\n",
            " [0 0 0 0 0 1 0 0]\n",
            " [0 0 0 0 0 1 0 1]\n",
            " [0 0 0 0 0 1 1 0]\n",
            " [0 0 0 0 0 1 1 1]\n",
            " [0 0 0 0 1 0 0 0]\n",
            " [0 0 0 0 1 0 0 1]\n",
            " [0 0 0 0 1 0 1 0]]\n"
          ]
        }
      ],
      "source": [
        "\n",
        "# Create a vector of integers as unsigned bytes\n",
        "vector_of_ints = np.array([1, 2, 3, 4, 5, 6, 7, 8, 9, 10], dtype=np.uint8)\n",
        "\n",
        "# Convert the vector to binary matrix representation\n",
        "binary_matrix = np.unpackbits(vector_of_ints[:, np.newaxis], axis=1)\n",
        "\n",
        "# Print the binary matrix\n",
        "print(binary_matrix)"
      ]
    },
    {
      "cell_type": "markdown",
      "id": "75b9397f",
      "metadata": {
        "id": "75b9397f"
      },
      "source": [
        "#### 96. Given a two dimensional array, how to extract unique rows? (★★★)"
      ]
    },
    {
      "cell_type": "code",
      "execution_count": null,
      "id": "9bb56a47",
      "metadata": {
        "id": "9bb56a47",
        "colab": {
          "base_uri": "https://localhost:8080/"
        },
        "outputId": "44340f90-55e8-42dc-c6f2-a414eb4f3978"
      },
      "outputs": [
        {
          "output_type": "stream",
          "name": "stdout",
          "text": [
            "[[1 2 3]\n",
            " [4 5 6]\n",
            " [7 8 9]]\n"
          ]
        }
      ],
      "source": [
        "\n",
        "# Create a two-dimensional array\n",
        "two_dim_array = np.array([[1, 2, 3],\n",
        "                          [4, 5, 6],\n",
        "                          [1, 2, 3],\n",
        "                          [7, 8, 9],\n",
        "                          [4, 5, 6]])\n",
        "\n",
        "# Extract unique rows\n",
        "unique_rows = np.unique(two_dim_array, axis=0)\n",
        "\n",
        "# Print the unique rows\n",
        "print(unique_rows)"
      ]
    },
    {
      "cell_type": "markdown",
      "id": "82aaf21b",
      "metadata": {
        "id": "82aaf21b"
      },
      "source": [
        "#### 97. Considering 2 vectors A & B, write the einsum equivalent of inner, outer, sum, and mul function (★★★)"
      ]
    },
    {
      "cell_type": "code",
      "execution_count": null,
      "id": "cedcefd9",
      "metadata": {
        "id": "cedcefd9",
        "colab": {
          "base_uri": "https://localhost:8080/"
        },
        "outputId": "769035c6-ab0f-43a6-d1a0-ce80a3e0a99d"
      },
      "outputs": [
        {
          "output_type": "execute_result",
          "data": {
            "text/plain": [
              "32"
            ]
          },
          "metadata": {},
          "execution_count": 54
        }
      ],
      "source": [
        "#Inner product (dot product):\n",
        "A = np.array([1, 2, 3])\n",
        "B = np.array([4, 5, 6])\n",
        "np.einsum('i,i', A, B)"
      ]
    },
    {
      "cell_type": "code",
      "source": [
        "#Outer product:\n",
        "np.einsum('i,j->ij', A, B)"
      ],
      "metadata": {
        "colab": {
          "base_uri": "https://localhost:8080/"
        },
        "id": "vIrbOxPmNIJ2",
        "outputId": "672824ab-96e5-4d40-e8d5-1f0a74d3c59a"
      },
      "id": "vIrbOxPmNIJ2",
      "execution_count": null,
      "outputs": [
        {
          "output_type": "execute_result",
          "data": {
            "text/plain": [
              "array([[ 4,  5,  6],\n",
              "       [ 8, 10, 12],\n",
              "       [12, 15, 18]])"
            ]
          },
          "metadata": {},
          "execution_count": 55
        }
      ]
    },
    {
      "cell_type": "code",
      "source": [
        "#Sum of the products of the elements:\n",
        "np.einsum('i,i->', A, B)"
      ],
      "metadata": {
        "colab": {
          "base_uri": "https://localhost:8080/"
        },
        "id": "E-Apsu7ONvYQ",
        "outputId": "ad983d7d-9a45-4ee6-86a1-06c7a926fadc"
      },
      "id": "E-Apsu7ONvYQ",
      "execution_count": null,
      "outputs": [
        {
          "output_type": "execute_result",
          "data": {
            "text/plain": [
              "32"
            ]
          },
          "metadata": {},
          "execution_count": 56
        }
      ]
    },
    {
      "cell_type": "code",
      "source": [
        "#Element-wise multiplication:\n",
        "np.einsum('i,i->i', A, B)"
      ],
      "metadata": {
        "colab": {
          "base_uri": "https://localhost:8080/"
        },
        "id": "Glsve5i2N1li",
        "outputId": "de9e1982-2977-41fc-bf2b-3b2e30ade96c"
      },
      "id": "Glsve5i2N1li",
      "execution_count": null,
      "outputs": [
        {
          "output_type": "execute_result",
          "data": {
            "text/plain": [
              "array([ 4, 10, 18])"
            ]
          },
          "metadata": {},
          "execution_count": 58
        }
      ]
    },
    {
      "cell_type": "markdown",
      "id": "7741e17f",
      "metadata": {
        "id": "7741e17f"
      },
      "source": [
        "#### 98. Considering a path described by two vectors (X,Y), how to sample it using equidistant samples (★★★)?"
      ]
    },
    {
      "cell_type": "code",
      "execution_count": null,
      "id": "0b2432fe",
      "metadata": {
        "id": "0b2432fe",
        "colab": {
          "base_uri": "https://localhost:8080/",
          "height": 312
        },
        "outputId": "8c3a8a89-e8d5-4b97-8274-dc7ae7f2351a"
      },
      "outputs": [
        {
          "output_type": "stream",
          "name": "stdout",
          "text": [
            "Equidistant X samples: [1.         1.44444444 1.88888889 2.33333333 2.77777778 3.22222222\n",
            " 3.66666667 4.11111111 4.55555556 5.        ]\n",
            "Equidistant Y samples: [ 2.          2.88888889  3.77777778  4.66666667  5.55555556  6.44444444\n",
            "  7.33333333  8.22222222  9.11111111 10.        ]\n"
          ]
        },
        {
          "output_type": "display_data",
          "data": {
            "text/plain": [
              "<Figure size 640x480 with 1 Axes>"
            ],
            "image/png": "[encoded data removed]"
          },
          "metadata": {}
        }
      ],
      "source": [
        "\n",
        "# Define the X and Y vectors describing the path\n",
        "X = np.array([1, 2, 3, 4, 5])\n",
        "Y = np.array([2, 4, 6, 8, 10])\n",
        "\n",
        "# Define the number of equidistant samples\n",
        "num_samples = 10\n",
        "\n",
        "# Compute equidistant samples along the path\n",
        "equidistant_X = np.interp(np.linspace(0, 1, num_samples), np.linspace(0, 1, len(X)), X)\n",
        "equidistant_Y = np.interp(np.linspace(0, 1, num_samples), np.linspace(0, 1, len(Y)), Y)\n",
        "\n",
        "# Print the equidistant samples\n",
        "print(\"Equidistant X samples:\", equidistant_X)\n",
        "print(\"Equidistant Y samples:\", equidistant_Y)\n",
        "\n",
        "# Plot the original path and the equidistant samples\n",
        "plt.plot(X, Y, 'o-', label='Original Path')\n",
        "plt.plot(equidistant_X, equidistant_Y, 's--', label='Equidistant Samples')\n",
        "plt.legend()\n",
        "plt.show()"
      ]
    },
    {
      "cell_type": "markdown",
      "id": "340d6f36",
      "metadata": {
        "id": "340d6f36"
      },
      "source": [
        "#### 99. Given an integer n and a 2D array X, select from X the rows which can be interpreted as draws from a multinomial distribution with n degrees, i.e., the rows which only contain integers and which sum to n. (★★★)"
      ]
    },
    {
      "cell_type": "code",
      "execution_count": null,
      "id": "a75323ae",
      "metadata": {
        "id": "a75323ae",
        "colab": {
          "base_uri": "https://localhost:8080/"
        },
        "outputId": "19569f10-c317-4dc3-960c-b974c3c27bef"
      },
      "outputs": [
        {
          "output_type": "stream",
          "name": "stdout",
          "text": [
            "Selected rows:\n",
            "[1 2 2]\n",
            "[0 5 0]\n",
            "[3 1 1]\n",
            "[1 1 3]\n"
          ]
        }
      ],
      "source": [
        "\n",
        "# Define an integer n and a 2D array X\n",
        "n = 5\n",
        "X = np.array([[1, 2, 2], [0, 5, 0], [3, 1, 1], [1, 1, 3]])\n",
        "\n",
        "# Select the rows that can be interpreted as draws from a multinomial distribution with n degrees\n",
        "selected_rows = [row for row in X if np.all(np.equal(np.mod(row, 1), 0)) and np.sum(row) == n]\n",
        "\n",
        "# Print the selected rows\n",
        "print(\"Selected rows:\")\n",
        "for row in selected_rows:\n",
        "    print(row)"
      ]
    },
    {
      "cell_type": "markdown",
      "id": "19721849",
      "metadata": {
        "id": "19721849"
      },
      "source": [
        "#### 100. Compute bootstrapped 95% confidence intervals for the mean of a 1D array X (i.e., resample the elements of an array with replacement N times, compute the mean of each sample, and then compute percentiles over the means). (★★★)"
      ]
    },
    {
      "cell_type": "code",
      "execution_count": null,
      "id": "87309c6f",
      "metadata": {
        "id": "87309c6f",
        "colab": {
          "base_uri": "https://localhost:8080/"
        },
        "outputId": "6b0133a4-15f9-4212-c2b8-5ee9ca5f7dd0"
      },
      "outputs": [
        {
          "output_type": "stream",
          "name": "stdout",
          "text": [
            "Bootstrapped 95% confidence intervals for the mean: [3.9 7.3]\n"
          ]
        }
      ],
      "source": [
        "\n",
        "# Define an array X\n",
        "X = np.array([1, 2, 3, 4, 5, 6, 7, 8, 9, 10])\n",
        "\n",
        "# Define the number of bootstrap samples\n",
        "N = 1000\n",
        "\n",
        "# Resample with replacement and compute means\n",
        "bootstrap_means = [np.mean(np.random.choice(X, size=len(X), replace=True)) for _ in range(N)]\n",
        "\n",
        "# Compute 95% confidence intervals\n",
        "confidence_interval = np.percentile(bootstrap_means, [2.5, 97.5])\n",
        "\n",
        "# Print the confidence intervals\n",
        "print(\"Bootstrapped 95% confidence intervals for the mean:\", confidence_interval)"
      ]
    }
  ],
  "metadata": {
    "colab": {
      "provenance": [],
      "collapsed_sections": [
        "a8b7e6f5"
      ]
    },
    "language_info": {
      "name": "python"
    },
    "kernelspec": {
      "name": "python3",
      "display_name": "Python 3"
    }
  },
  "nbformat": 4,
  "nbformat_minor": 5
}