{
  "nbformat": 4,
  "nbformat_minor": 0,
  "metadata": {
    "colab": {
      "provenance": []
    },
    "kernelspec": {
      "name": "python3",
      "display_name": "Python 3"
    },
    "language_info": {
      "name": "python"
    }
  },
  "cells": [
    {
      "cell_type": "code",
      "execution_count": null,
      "metadata": {
        "id": "A38xEjX0nv3V"
      },
      "outputs": [],
      "source": [
        "#importing numpy package in google colab\n",
        "import numpy as n"
      ]
    },
    {
      "cell_type": "code",
      "source": [
        "#printing array using numpy keyword as n\n",
        "array=n.array([1,2,3,4,5])\n",
        "print(\"array:\",array)"
      ],
      "metadata": {
        "colab": {
          "base_uri": "https://localhost:8080/"
        },
        "id": "7vcR9qaTvK79",
        "outputId": "3e074161-1239-4176-abd0-da42a4d83260"
      },
      "execution_count": null,
      "outputs": [
        {
          "output_type": "stream",
          "name": "stdout",
          "text": [
            "array: [1 2 3 4 5]\n"
          ]
        }
      ]
    },
    {
      "cell_type": "code",
      "source": [
        "#printing numpy version\n",
        "print(n.__version__)"
      ],
      "metadata": {
        "colab": {
          "base_uri": "https://localhost:8080/"
        },
        "id": "fLJMtKP8vQL-",
        "outputId": "53ff80bf-dcd4-48b0-802f-160e945445e6"
      },
      "execution_count": null,
      "outputs": [
        {
          "output_type": "stream",
          "name": "stdout",
          "text": [
            "1.23.5\n"
          ]
        }
      ]
    },
    {
      "cell_type": "code",
      "source": [
        "#printing Zero Dimention array\n",
        "a=n.array(4)\n",
        "print(\"0D array:\",a)"
      ],
      "metadata": {
        "colab": {
          "base_uri": "https://localhost:8080/"
        },
        "id": "XXq4Q4l0D_ub",
        "outputId": "576882ac-d3f0-4ad8-a144-16ff922e5cbb"
      },
      "execution_count": null,
      "outputs": [
        {
          "output_type": "stream",
          "name": "stdout",
          "text": [
            "0D array: 4\n",
            "1D array: [5 4 3 2 1]\n"
          ]
        }
      ]
    },
    {
      "cell_type": "code",
      "source": [
        "#printing One Dimention array-1D\n",
        "a=n.array([5,4,3,2,1])\n",
        "print(\"1D array:\",a)"
      ],
      "metadata": {
        "colab": {
          "base_uri": "https://localhost:8080/"
        },
        "id": "dqDAsdkhvwMR",
        "outputId": "9329d702-0184-4270-b1ee-fed386c3afda"
      },
      "execution_count": null,
      "outputs": [
        {
          "output_type": "stream",
          "name": "stdout",
          "text": [
            "1D array: [5 4 3 2 1]\n"
          ]
        }
      ]
    },
    {
      "cell_type": "code",
      "source": [
        "#used to confirm it's a numpy array or not\n",
        "type(a)"
      ],
      "metadata": {
        "colab": {
          "base_uri": "https://localhost:8080/"
        },
        "id": "pQgUvl6lvz_D",
        "outputId": "87774691-b898-4bf4-cd63-70621a5057e9"
      },
      "execution_count": null,
      "outputs": [
        {
          "output_type": "execute_result",
          "data": {
            "text/plain": [
              "numpy.ndarray"
            ]
          },
          "metadata": {},
          "execution_count": 8
        }
      ]
    },
    {
      "cell_type": "code",
      "source": [
        "#printing Two Dimention array-2D\n",
        "ar=n.array([[1,2,3],[5,6,7]],dtype=float)\n",
        "print(\"2D array:\",ar)"
      ],
      "metadata": {
        "colab": {
          "base_uri": "https://localhost:8080/"
        },
        "id": "sdVcckJBEJeg",
        "outputId": "595af4eb-c3df-4f26-d460-a7527cccece2"
      },
      "execution_count": null,
      "outputs": [
        {
          "output_type": "stream",
          "name": "stdout",
          "text": [
            "2D array: [[1. 2. 3.]\n",
            " [5. 6. 7.]]\n"
          ]
        }
      ]
    },
    {
      "cell_type": "code",
      "source": [
        "#printing the dimention of array\n",
        "print(\"Dimention is\",ar.ndim)"
      ],
      "metadata": {
        "colab": {
          "base_uri": "https://localhost:8080/"
        },
        "id": "fFrMVmUJv9_Y",
        "outputId": "fd06287f-1175-494b-a351-2513323e89dc"
      },
      "execution_count": null,
      "outputs": [
        {
          "output_type": "stream",
          "name": "stdout",
          "text": [
            "Dimention is 2\n"
          ]
        }
      ]
    },
    {
      "cell_type": "code",
      "source": [
        "#printing Three Dimention array-3D\n",
        "arr=n.array([[[1,2,3],[5,6,7]],[[8,9,10],[1,2,3]]])\n",
        "print(\"3D array:\",arr)"
      ],
      "metadata": {
        "colab": {
          "base_uri": "https://localhost:8080/"
        },
        "id": "hugVkhzov52c",
        "outputId": "d2e7a308-c72b-4b59-ecf9-7bd8095028fa"
      },
      "execution_count": null,
      "outputs": [
        {
          "output_type": "stream",
          "name": "stdout",
          "text": [
            "3D array: [[[ 1  2  3]\n",
            "  [ 5  6  7]]\n",
            "\n",
            " [[ 8  9 10]\n",
            "  [ 1  2  3]]]\n"
          ]
        }
      ]
    },
    {
      "cell_type": "code",
      "source": [
        "#print the specific value in array using index subscript[] in-1D\n",
        "print(\"Index 1D\",a[0])"
      ],
      "metadata": {
        "colab": {
          "base_uri": "https://localhost:8080/"
        },
        "id": "6KE7tDpxEVss",
        "outputId": "76b95d13-d354-40c6-f048-dbc4ca89dd04"
      },
      "execution_count": null,
      "outputs": [
        {
          "output_type": "stream",
          "name": "stdout",
          "text": [
            "Index 1D 5\n"
          ]
        }
      ]
    },
    {
      "cell_type": "code",
      "source": [
        "#print the specific value in array using index subscribt[]in-2D\n",
        "print(\"Index 2D\",ar[0][2])"
      ],
      "metadata": {
        "colab": {
          "base_uri": "https://localhost:8080/"
        },
        "id": "cKH7m0NIwHpe",
        "outputId": "bc8fe9ee-1c82-4497-b04e-6c5fb2da1ccc"
      },
      "execution_count": null,
      "outputs": [
        {
          "output_type": "stream",
          "name": "stdout",
          "text": [
            "Index 2D 3.0\n"
          ]
        }
      ]
    },
    {
      "cell_type": "code",
      "source": [
        "#print the specific value in array using index subscribt[]in-3D\n",
        "print(\"Index 3D\",arr[1,0,2])"
      ],
      "metadata": {
        "colab": {
          "base_uri": "https://localhost:8080/"
        },
        "id": "c_j1N0qSwLVU",
        "outputId": "70f0b6d2-6cf6-4171-b731-317d2e1ec724"
      },
      "execution_count": null,
      "outputs": [
        {
          "output_type": "stream",
          "name": "stdout",
          "text": [
            "Index 3D 10\n"
          ]
        }
      ]
    },
    {
      "cell_type": "code",
      "source": [
        "#perform a slicing operation using ':'slicing operator in 1D\n",
        "print(\"slicing 1D\",a[0::2])"
      ],
      "metadata": {
        "colab": {
          "base_uri": "https://localhost:8080/"
        },
        "id": "uj98QM4CEcOs",
        "outputId": "6adec690-9e31-44c4-f1e1-a6b14136ec3e"
      },
      "execution_count": null,
      "outputs": [
        {
          "output_type": "stream",
          "name": "stdout",
          "text": [
            "slicing 1D [5 3 1]\n"
          ]
        }
      ]
    },
    {
      "cell_type": "code",
      "source": [
        "#perform a slicing operation using ':'slicing operator in 2D\n",
        "print(\"slicing 2D\",ar[1:3:])"
      ],
      "metadata": {
        "colab": {
          "base_uri": "https://localhost:8080/"
        },
        "id": "uGtT9N_LwPE5",
        "outputId": "fd7afdfa-d3fa-4769-ab2e-7c2712d82cc0"
      },
      "execution_count": null,
      "outputs": [
        {
          "output_type": "stream",
          "name": "stdout",
          "text": [
            "slicing 2D [[5. 6. 7.]]\n"
          ]
        }
      ]
    },
    {
      "cell_type": "code",
      "source": [
        "#perform a slicing operation using ':'slicing operator in 3d\n",
        "print(\"slicing 3D\",arr[0:2:1])"
      ],
      "metadata": {
        "colab": {
          "base_uri": "https://localhost:8080/"
        },
        "id": "kyT15WUvwRLS",
        "outputId": "02a398cd-835c-4d06-96dc-f730e50c078f"
      },
      "execution_count": null,
      "outputs": [
        {
          "output_type": "stream",
          "name": "stdout",
          "text": [
            "slicing 3D [[[ 1  2  3]\n",
            "  [ 5  6  7]]\n",
            "\n",
            " [[ 8  9 10]\n",
            "  [ 1  2  3]]]\n"
          ]
        }
      ]
    },
    {
      "cell_type": "code",
      "source": [
        "#perform arithmetic operation(adding two array) 1D+2D\n",
        "print(a[0]+ar[1][0])"
      ],
      "metadata": {
        "colab": {
          "base_uri": "https://localhost:8080/"
        },
        "id": "T8hSW5gbEhPW",
        "outputId": "3001d1ee-59c5-47aa-f5b2-239748832899"
      },
      "execution_count": null,
      "outputs": [
        {
          "output_type": "stream",
          "name": "stdout",
          "text": [
            "10.0\n"
          ]
        }
      ]
    },
    {
      "cell_type": "code",
      "source": [
        "#inserting a element into the array\n",
        "a[3]=3\n",
        "print(\"insert\",a)"
      ],
      "metadata": {
        "colab": {
          "base_uri": "https://localhost:8080/"
        },
        "id": "jDSpRuJyEnzk",
        "outputId": "afb95e3f-74bc-425c-996f-58a7a01a1fd3"
      },
      "execution_count": null,
      "outputs": [
        {
          "output_type": "stream",
          "name": "stdout",
          "text": [
            "insert [5 4 3 3 1]\n"
          ]
        }
      ]
    },
    {
      "cell_type": "code",
      "source": [
        "#copy a old array and assign it to the new array\n",
        "a2=a.copy()\n",
        "print(\"copied array is\",a2)"
      ],
      "metadata": {
        "colab": {
          "base_uri": "https://localhost:8080/"
        },
        "id": "EEjZa726Erab",
        "outputId": "3430cdfc-c4a5-41b0-9b9c-5e1632b1d052"
      },
      "execution_count": null,
      "outputs": [
        {
          "output_type": "stream",
          "name": "stdout",
          "text": [
            "copied array is [5 4 3 3 1]\n"
          ]
        }
      ]
    },
    {
      "cell_type": "code",
      "source": [
        "#perform a concatenation operation (joining two array)\n",
        "a3=n.concatenate((a,a2))\n",
        "print(\"concatenated array is\",a3)"
      ],
      "metadata": {
        "id": "m0R8yKSWEyaR",
        "outputId": "0f996fe9-00c8-431c-b834-9c2824758c73",
        "colab": {
          "base_uri": "https://localhost:8080/"
        }
      },
      "execution_count": null,
      "outputs": [
        {
          "output_type": "stream",
          "name": "stdout",
          "text": [
            "concatenated array is [5 4 3 3 1 5 4 3 3 1]\n"
          ]
        }
      ]
    },
    {
      "cell_type": "code",
      "source": [
        "# Generate a 2x3 array of random numbers between 0 and 1\n",
        "random_array = n.random.rand(2, 3)\n",
        "print(\"Random Array with Shape (2, 3):\\n\", random_array)"
      ],
      "metadata": {
        "colab": {
          "base_uri": "https://localhost:8080/"
        },
        "id": "1vt5WhQG05YN",
        "outputId": "ab055e2b-474e-43c6-9de9-5d6aa5f538df"
      },
      "execution_count": null,
      "outputs": [
        {
          "output_type": "stream",
          "name": "stdout",
          "text": [
            "Random Array with Shape (2, 3):\n",
            " [[0.99925385 0.39377396 0.04735228]\n",
            " [0.89555292 0.38288143 0.15181858]]\n"
          ]
        }
      ]
    },
    {
      "cell_type": "code",
      "source": [
        "# Generate an array of random numbers from a standard normal distribution\n",
        "random_array = n.random.randn(3, 3)  # 3x3 array\n",
        "print(\"Random Array from Standard Normal Distribution:\\n\", random_array)"
      ],
      "metadata": {
        "id": "x6PxNPm8z8Ee",
        "colab": {
          "base_uri": "https://localhost:8080/"
        },
        "outputId": "edeb7499-4844-408b-d888-2c649c0baeea"
      },
      "execution_count": null,
      "outputs": [
        {
          "output_type": "stream",
          "name": "stdout",
          "text": [
            "Random Array from Standard Normal Distribution:\n",
            " [[-0.04661884 -0.22395034 -1.24246264]\n",
            " [ 1.42008877  0.09782582 -1.65824224]\n",
            " [-0.77291072  1.50952386  0.33555289]]\n"
          ]
        }
      ]
    },
    {
      "cell_type": "code",
      "source": [
        "# Create an array\n",
        "arr = n.array([1, 2, 3, 4, 5])\n",
        "# Shuffle the array in-place\n",
        "n.random.shuffle(arr)\n",
        "arr #new shuffle array"
      ],
      "metadata": {
        "colab": {
          "base_uri": "https://localhost:8080/"
        },
        "id": "CgFljLxk11ZZ",
        "outputId": "ed21fb81-c248-42e8-933f-d9620b3d0ab2"
      },
      "execution_count": null,
      "outputs": [
        {
          "output_type": "execute_result",
          "data": {
            "text/plain": [
              "array([1, 3, 4, 2, 5])"
            ]
          },
          "metadata": {},
          "execution_count": 53
        }
      ]
    },
    {
      "cell_type": "code",
      "source": [
        "#print an array using random function within a size limit in 1-Dimention\n",
        "a1= n.random.randint(10,size=4)\n",
        "print(a)"
      ],
      "metadata": {
        "colab": {
          "base_uri": "https://localhost:8080/"
        },
        "id": "nTqezcXTFMo4",
        "outputId": "f568c69a-bba4-4966-fe3f-825680ad2fa6"
      },
      "execution_count": null,
      "outputs": [
        {
          "output_type": "stream",
          "name": "stdout",
          "text": [
            "[5 4 3 3 1]\n"
          ]
        }
      ]
    },
    {
      "cell_type": "code",
      "source": [
        "#print an array using random function within a size limit in 2-Dimention\n",
        "a2=n.random.randint(10,size=(2,3))\n",
        "a2"
      ],
      "metadata": {
        "colab": {
          "base_uri": "https://localhost:8080/"
        },
        "id": "BhEOkEXWFQeZ",
        "outputId": "a90490e6-3431-44b4-f611-773a016b6c56"
      },
      "execution_count": null,
      "outputs": [
        {
          "output_type": "execute_result",
          "data": {
            "text/plain": [
              "array([[8, 7, 3],\n",
              "       [8, 4, 1]])"
            ]
          },
          "metadata": {},
          "execution_count": 25
        }
      ]
    },
    {
      "cell_type": "code",
      "source": [
        "#print an array using random function within a size limit in 3-Dimention\n",
        "a3=n.random.randint(10,size=(3,2,1))\n",
        "print(a3)"
      ],
      "metadata": {
        "colab": {
          "base_uri": "https://localhost:8080/"
        },
        "id": "vrO2NSYXFWI0",
        "outputId": "121fea2c-2e37-44b0-9f14-86a8af365759"
      },
      "execution_count": null,
      "outputs": [
        {
          "output_type": "stream",
          "name": "stdout",
          "text": [
            "[[[7]\n",
            "  [4]]\n",
            "\n",
            " [[8]\n",
            "  [4]]\n",
            "\n",
            " [[2]\n",
            "  [4]]]\n"
          ]
        }
      ]
    },
    {
      "cell_type": "code",
      "source": [
        "#printing the dimention of the array\n",
        "print(a.ndim)"
      ],
      "metadata": {
        "colab": {
          "base_uri": "https://localhost:8080/"
        },
        "id": "NErx8x2hFa0r",
        "outputId": "05c918a6-0074-4161-f4c4-a5ba8ee26076"
      },
      "execution_count": null,
      "outputs": [
        {
          "output_type": "stream",
          "name": "stdout",
          "text": [
            "1\n"
          ]
        }
      ]
    },
    {
      "cell_type": "code",
      "source": [
        "#printing dimention of array using 'shape'\n",
        "a.shape"
      ],
      "metadata": {
        "colab": {
          "base_uri": "https://localhost:8080/"
        },
        "id": "Sgj4LM0Dsz9f",
        "outputId": "24d877a8-7259-443b-ad74-131156541a93"
      },
      "execution_count": null,
      "outputs": [
        {
          "output_type": "execute_result",
          "data": {
            "text/plain": [
              "(5,)"
            ]
          },
          "metadata": {},
          "execution_count": 6
        }
      ]
    },
    {
      "cell_type": "code",
      "source": [
        "#print the total no.of elements in array using 'size'\n",
        "a.size"
      ],
      "metadata": {
        "colab": {
          "base_uri": "https://localhost:8080/"
        },
        "id": "tN77IrsKtJyv",
        "outputId": "a6ccace3-d52a-4278-eb09-5ee33ff03808"
      },
      "execution_count": null,
      "outputs": [
        {
          "output_type": "execute_result",
          "data": {
            "text/plain": [
              "5"
            ]
          },
          "metadata": {},
          "execution_count": 7
        }
      ]
    },
    {
      "cell_type": "code",
      "source": [
        "#printing the data type of an array using 'dtype'\n",
        "print(a.dtype)"
      ],
      "metadata": {
        "colab": {
          "base_uri": "https://localhost:8080/"
        },
        "id": "7GYixaB7Fdj_",
        "outputId": "569a2806-a6f9-403a-abd5-545aa7451ddc"
      },
      "execution_count": null,
      "outputs": [
        {
          "output_type": "stream",
          "name": "stdout",
          "text": [
            "int64\n"
          ]
        }
      ]
    },
    {
      "cell_type": "code",
      "source": [
        "#printing the count of element in array using 'itemsize'\n",
        "print(a3.itemsize)"
      ],
      "metadata": {
        "colab": {
          "base_uri": "https://localhost:8080/"
        },
        "id": "C_JU5NrsFfmW",
        "outputId": "be4700c8-0beb-434f-b2c4-33369e54027e"
      },
      "execution_count": null,
      "outputs": [
        {
          "output_type": "stream",
          "name": "stdout",
          "text": [
            "8\n"
          ]
        }
      ]
    },
    {
      "cell_type": "code",
      "source": [
        "#printing the bytes of an array using 'nbytes'\n",
        "print(a2.nbytes)"
      ],
      "metadata": {
        "colab": {
          "base_uri": "https://localhost:8080/"
        },
        "id": "6D5vOdqiwdHA",
        "outputId": "dd9e297e-8079-4acc-8e48-3193b03b1c25"
      },
      "execution_count": null,
      "outputs": [
        {
          "output_type": "stream",
          "name": "stdout",
          "text": [
            "48\n"
          ]
        }
      ]
    },
    {
      "cell_type": "code",
      "source": [
        "#create an array with a range of values\n",
        "x=n.arange(5)\n",
        "print(x)"
      ],
      "metadata": {
        "colab": {
          "base_uri": "https://localhost:8080/"
        },
        "id": "ywNRPTAAFh7z",
        "outputId": "74dc38ed-3f5a-4557-aeb0-5b06bf713ec6"
      },
      "execution_count": null,
      "outputs": [
        {
          "output_type": "stream",
          "name": "stdout",
          "text": [
            "[0 1 2 3 4]\n"
          ]
        }
      ]
    },
    {
      "cell_type": "code",
      "source": [
        "#create an array with evenly spaced values\n",
        "y=n.linspace(0,10,5)\n",
        "y"
      ],
      "metadata": {
        "colab": {
          "base_uri": "https://localhost:8080/"
        },
        "id": "noFhaRfgtYq8",
        "outputId": "0aab3183-288a-452d-a4c2-d5a33d60f17c"
      },
      "execution_count": null,
      "outputs": [
        {
          "output_type": "execute_result",
          "data": {
            "text/plain": [
              "array([ 0. ,  2.5,  5. ,  7.5, 10. ])"
            ]
          },
          "metadata": {},
          "execution_count": 12
        }
      ]
    },
    {
      "cell_type": "code",
      "source": [
        "#slicing only the first element in array in 3D (row wise)\n",
        "print(a3[:,0])"
      ],
      "metadata": {
        "colab": {
          "base_uri": "https://localhost:8080/"
        },
        "id": "DBVakHbeFkNH",
        "outputId": "96e72d8c-9c23-41f7-f1da-231ca64ccc30"
      },
      "execution_count": null,
      "outputs": [
        {
          "output_type": "stream",
          "name": "stdout",
          "text": [
            "[[7]\n",
            " [8]\n",
            " [2]]\n"
          ]
        }
      ]
    },
    {
      "cell_type": "code",
      "source": [
        "#slicing only the first array in 3D\n",
        "print(a3[0,:])"
      ],
      "metadata": {
        "colab": {
          "base_uri": "https://localhost:8080/"
        },
        "id": "kusLZ4zuwjUi",
        "outputId": "3953163f-c33b-4dc2-e7fc-667d55e5da3a"
      },
      "execution_count": null,
      "outputs": [
        {
          "output_type": "stream",
          "name": "stdout",
          "text": [
            "[[7]\n",
            " [4]]\n"
          ]
        }
      ]
    },
    {
      "cell_type": "code",
      "source": [
        "#reshape the array into 4 rows and 1 column\n",
        "y=n.array([1,9,2,8])\n",
        "print(y.reshape((4,1)))"
      ],
      "metadata": {
        "colab": {
          "base_uri": "https://localhost:8080/"
        },
        "id": "mnvSak7uFn7D",
        "outputId": "6204ea34-05c5-465a-e711-170fe0755345"
      },
      "execution_count": null,
      "outputs": [
        {
          "output_type": "stream",
          "name": "stdout",
          "text": [
            "[[1]\n",
            " [9]\n",
            " [2]\n",
            " [8]]\n"
          ]
        }
      ]
    },
    {
      "cell_type": "code",
      "source": [
        "#split the array\n",
        "z=([1,2,3,4,5])\n",
        "z1,z2,z3=n.split(z,[2,3])\n",
        "print(z1,z2,z3)"
      ],
      "metadata": {
        "colab": {
          "base_uri": "https://localhost:8080/"
        },
        "id": "r_LDs_gFFqJE",
        "outputId": "f3ad9067-a5f6-4f63-95b0-ad8dd70bb68f"
      },
      "execution_count": null,
      "outputs": [
        {
          "output_type": "stream",
          "name": "stdout",
          "text": [
            "[1 2] [3] [4 5]\n"
          ]
        }
      ]
    },
    {
      "cell_type": "code",
      "source": [
        "#create an array using arange function\n",
        "w=n.arange(16)\n",
        "print(w)"
      ],
      "metadata": {
        "colab": {
          "base_uri": "https://localhost:8080/"
        },
        "id": "lZAXFZlpFswZ",
        "outputId": "bfd8fb7f-d460-40a5-a5ce-5ea235367b53"
      },
      "execution_count": null,
      "outputs": [
        {
          "output_type": "stream",
          "name": "stdout",
          "text": [
            "[ 0  1  2  3  4  5  6  7  8  9 10 11 12 13 14 15]\n"
          ]
        }
      ]
    },
    {
      "cell_type": "code",
      "source": [
        "#reshape the array into 4 row & 4 columns\n",
        "print(w.reshape(4,4))"
      ],
      "metadata": {
        "colab": {
          "base_uri": "https://localhost:8080/"
        },
        "id": "M7grlPvtFvHK",
        "outputId": "94c8c976-8a89-49d4-c699-819110738b41"
      },
      "execution_count": null,
      "outputs": [
        {
          "output_type": "stream",
          "name": "stdout",
          "text": [
            "[[ 0  1  2  3]\n",
            " [ 4  5  6  7]\n",
            " [ 8  9 10 11]\n",
            " [12 13 14 15]]\n"
          ]
        }
      ]
    },
    {
      "cell_type": "code",
      "source": [
        "#split the array into horizontally\n",
        "u,l=n.hsplit(w,[2])\n",
        "print(u)"
      ],
      "metadata": {
        "id": "O9LIYeEkFxed",
        "outputId": "343f29ef-26eb-4a7a-c767-074cf2db4236",
        "colab": {
          "base_uri": "https://localhost:8080/"
        }
      },
      "execution_count": null,
      "outputs": [
        {
          "output_type": "stream",
          "name": "stdout",
          "text": [
            "[0 1]\n"
          ]
        }
      ]
    },
    {
      "cell_type": "code",
      "source": [
        "print(l)"
      ],
      "metadata": {
        "id": "Bfn0T0YsF1NL",
        "outputId": "4747459d-176c-44e6-d98e-2129f006060f",
        "colab": {
          "base_uri": "https://localhost:8080/"
        }
      },
      "execution_count": null,
      "outputs": [
        {
          "output_type": "stream",
          "name": "stdout",
          "text": [
            "[ 2  3  4  5  6  7  8  9 10 11 12 13 14 15]\n"
          ]
        }
      ]
    },
    {
      "cell_type": "code",
      "source": [
        "#view and change\n",
        "array=n.array([1,2,3,4,5])"
      ],
      "metadata": {
        "id": "vChK-LdgwzBU"
      },
      "execution_count": null,
      "outputs": []
    },
    {
      "cell_type": "code",
      "source": [
        "#view the array using view function\n",
        "X=array.view()"
      ],
      "metadata": {
        "id": "_fpjoUM2w8Jn"
      },
      "execution_count": null,
      "outputs": []
    },
    {
      "cell_type": "code",
      "source": [
        "#changing the value of the array\n",
        "X[3]=30"
      ],
      "metadata": {
        "id": "zAzMwAfcw_wF"
      },
      "execution_count": null,
      "outputs": []
    },
    {
      "cell_type": "code",
      "source": [
        "#print the array\n",
        "array"
      ],
      "metadata": {
        "colab": {
          "base_uri": "https://localhost:8080/"
        },
        "id": "mamzzGdAxEGP",
        "outputId": "9f27c4a5-8735-41b4-be88-b7dad505c5b1"
      },
      "execution_count": null,
      "outputs": [
        {
          "output_type": "execute_result",
          "data": {
            "text/plain": [
              "array([ 1,  2,  3, 30,  5])"
            ]
          },
          "metadata": {},
          "execution_count": 33
        }
      ]
    },
    {
      "cell_type": "code",
      "source": [
        "#copy the existing array\n",
        "y= array.copy()"
      ],
      "metadata": {
        "id": "yGPpN_2dxTDi"
      },
      "execution_count": null,
      "outputs": []
    },
    {
      "cell_type": "code",
      "source": [
        "#Base\n",
        "print(y.base)"
      ],
      "metadata": {
        "colab": {
          "base_uri": "https://localhost:8080/"
        },
        "id": "StmwM7qpxcWU",
        "outputId": "87f369c5-e891-4dea-9221-8380039ecf44"
      },
      "execution_count": null,
      "outputs": [
        {
          "output_type": "stream",
          "name": "stdout",
          "text": [
            "None\n"
          ]
        }
      ]
    },
    {
      "cell_type": "code",
      "source": [
        "#print the base of y\n",
        "print(y.base)"
      ],
      "metadata": {
        "colab": {
          "base_uri": "https://localhost:8080/"
        },
        "id": "9Pn3iYlExrht",
        "outputId": "c071515c-15ac-4664-91be-46f97563c956"
      },
      "execution_count": null,
      "outputs": [
        {
          "output_type": "stream",
          "name": "stdout",
          "text": [
            "[1 2 3 4 5]\n"
          ]
        }
      ]
    },
    {
      "cell_type": "code",
      "source": [
        "#iterating 1D array using for loop\n",
        "for x in array:\n",
        "  print(x)"
      ],
      "metadata": {
        "colab": {
          "base_uri": "https://localhost:8080/"
        },
        "id": "d4MMdsmlx_2I",
        "outputId": "89033475-00d4-4fd5-8f66-160205966f4e"
      },
      "execution_count": null,
      "outputs": [
        {
          "output_type": "stream",
          "name": "stdout",
          "text": [
            "1\n",
            "2\n",
            "3\n",
            "4\n",
            "5\n"
          ]
        }
      ]
    },
    {
      "cell_type": "code",
      "source": [
        "#2D array\n",
        "a=n.array([[10,20,30],[40,50,60]])"
      ],
      "metadata": {
        "id": "3afE9Q8CyOkL"
      },
      "execution_count": null,
      "outputs": []
    },
    {
      "cell_type": "code",
      "source": [
        "#iterating 2D array\n",
        "for x in a:\n",
        "   for y in x:\n",
        "     print(y)"
      ],
      "metadata": {
        "colab": {
          "base_uri": "https://localhost:8080/"
        },
        "id": "Xwz8ZbBuyz-c",
        "outputId": "df8e933c-dfd1-4f67-985a-f8c37d47a7b0"
      },
      "execution_count": null,
      "outputs": [
        {
          "output_type": "stream",
          "name": "stdout",
          "text": [
            "10\n",
            "20\n",
            "30\n",
            "40\n",
            "50\n",
            "60\n"
          ]
        }
      ]
    },
    {
      "cell_type": "code",
      "source": [
        "b=n.array([[[10,20,30],[40,50,60]],[[1,2,3],[4,5,6]]])"
      ],
      "metadata": {
        "id": "5kU_4j6Vy4Sb"
      },
      "execution_count": null,
      "outputs": []
    },
    {
      "cell_type": "code",
      "source": [
        "#iterating 2D array\n",
        "for x in b:\n",
        "   for y in x:\n",
        "      for z in y:\n",
        "         print(z)"
      ],
      "metadata": {
        "colab": {
          "base_uri": "https://localhost:8080/"
        },
        "id": "OrKH14aPzOv_",
        "outputId": "3e8bc0d0-b89c-43f5-f330-dec23463ae6f"
      },
      "execution_count": null,
      "outputs": [
        {
          "output_type": "stream",
          "name": "stdout",
          "text": [
            "10\n",
            "20\n",
            "30\n",
            "40\n",
            "50\n",
            "60\n",
            "1\n",
            "2\n",
            "3\n",
            "4\n",
            "5\n",
            "6\n"
          ]
        }
      ]
    },
    {
      "cell_type": "code",
      "source": [
        "#sum of array elements\n",
        "a=n.array([1,2,3,4,5])\n",
        "a.sum()"
      ],
      "metadata": {
        "colab": {
          "base_uri": "https://localhost:8080/"
        },
        "id": "A76FEtuxd0WH",
        "outputId": "a7c7dbe3-bb73-4e91-977b-e08a96fa2e5b"
      },
      "execution_count": null,
      "outputs": [
        {
          "output_type": "execute_result",
          "data": {
            "text/plain": [
              "15"
            ]
          },
          "metadata": {},
          "execution_count": 4
        }
      ]
    },
    {
      "cell_type": "code",
      "source": [
        "#minimum value\n",
        "a.min()"
      ],
      "metadata": {
        "colab": {
          "base_uri": "https://localhost:8080/"
        },
        "id": "IaHrXcMTec2z",
        "outputId": "2df0bcd2-6361-41f3-adb1-167819da023b"
      },
      "execution_count": null,
      "outputs": [
        {
          "output_type": "execute_result",
          "data": {
            "text/plain": [
              "1"
            ]
          },
          "metadata": {},
          "execution_count": 5
        }
      ]
    },
    {
      "cell_type": "code",
      "source": [
        "b=n.array([[10,20,30],[4,5,6]])"
      ],
      "metadata": {
        "id": "yLfuUGczehF3"
      },
      "execution_count": null,
      "outputs": []
    },
    {
      "cell_type": "code",
      "source": [
        "#maximum value in row\n",
        "b.max(axis=0)"
      ],
      "metadata": {
        "colab": {
          "base_uri": "https://localhost:8080/"
        },
        "id": "3Syf2etiexD8",
        "outputId": "d19ec2d6-8e98-4009-fa62-289bd9f20b7e"
      },
      "execution_count": null,
      "outputs": [
        {
          "output_type": "execute_result",
          "data": {
            "text/plain": [
              "array([10, 20, 30])"
            ]
          },
          "metadata": {},
          "execution_count": 5
        }
      ]
    },
    {
      "cell_type": "code",
      "source": [
        "#cummulative sum\n",
        "b.cumsum(axis=1)"
      ],
      "metadata": {
        "colab": {
          "base_uri": "https://localhost:8080/"
        },
        "id": "B38o9QdYfGyZ",
        "outputId": "62f862d6-9fdf-4b03-874f-5a7b2ed5a4f4"
      },
      "execution_count": null,
      "outputs": [
        {
          "output_type": "execute_result",
          "data": {
            "text/plain": [
              "array([[[10, 20, 30],\n",
              "        [50, 70, 90]],\n",
              "\n",
              "       [[ 1,  2,  3],\n",
              "        [ 5,  7,  9]]])"
            ]
          },
          "metadata": {},
          "execution_count": 8
        }
      ]
    },
    {
      "cell_type": "code",
      "source": [
        "#mean of array elements\n",
        "c=n.array([100,200,300])\n",
        "c.mean()"
      ],
      "metadata": {
        "colab": {
          "base_uri": "https://localhost:8080/"
        },
        "id": "XkCyvSqGfSoC",
        "outputId": "1bd941fd-9cf3-4b8f-8ed9-6fb7f56b1aa0"
      },
      "execution_count": null,
      "outputs": [
        {
          "output_type": "execute_result",
          "data": {
            "text/plain": [
              "200.0"
            ]
          },
          "metadata": {},
          "execution_count": 3
        }
      ]
    },
    {
      "cell_type": "code",
      "source": [
        "#median of array elements\n",
        "n.median(c)"
      ],
      "metadata": {
        "colab": {
          "base_uri": "https://localhost:8080/"
        },
        "id": "JX0bwLKIflSM",
        "outputId": "7c53e183-4ed1-4919-f04d-535efeab4174"
      },
      "execution_count": null,
      "outputs": [
        {
          "output_type": "execute_result",
          "data": {
            "text/plain": [
              "200.0"
            ]
          },
          "metadata": {},
          "execution_count": 19
        }
      ]
    },
    {
      "cell_type": "code",
      "source": [
        "#compute the correcoefficient\n",
        "n.corrcoef(b)"
      ],
      "metadata": {
        "colab": {
          "base_uri": "https://localhost:8080/"
        },
        "id": "gRGMEDf-f7La",
        "outputId": "d275d0c6-1ea3-4bf4-d8bf-cdceadc3749e"
      },
      "execution_count": null,
      "outputs": [
        {
          "output_type": "execute_result",
          "data": {
            "text/plain": [
              "array([[1., 1.],\n",
              "       [1., 1.]])"
            ]
          },
          "metadata": {},
          "execution_count": 21
        }
      ]
    },
    {
      "cell_type": "code",
      "source": [
        "#standard deviation\n",
        "n.std(b)"
      ],
      "metadata": {
        "colab": {
          "base_uri": "https://localhost:8080/"
        },
        "id": "qP6FP_LggEgG",
        "outputId": "df8f0089-1500-41ed-a307-5230a0d398f0"
      },
      "execution_count": null,
      "outputs": [
        {
          "output_type": "execute_result",
          "data": {
            "text/plain": [
              "9.482439911049617"
            ]
          },
          "metadata": {},
          "execution_count": 34
        }
      ]
    },
    {
      "cell_type": "code",
      "source": [
        "\n",
        "#printing the variance of an array\n",
        "variance = n.var(b)\n",
        "print(\"Variance:\", variance)"
      ],
      "metadata": {
        "colab": {
          "base_uri": "https://localhost:8080/"
        },
        "id": "oWzEgrIU3G_-",
        "outputId": "150243dd-a373-4fb7-e621-1e63e00de4a4"
      },
      "execution_count": null,
      "outputs": [
        {
          "output_type": "stream",
          "name": "stdout",
          "text": [
            "Variance: 89.91666666666667\n"
          ]
        }
      ]
    },
    {
      "cell_type": "code",
      "source": [
        "#sorting\n",
        "b.sort(axis=0)\n",
        "b"
      ],
      "metadata": {
        "colab": {
          "base_uri": "https://localhost:8080/"
        },
        "id": "zRAc9X_-gQtV",
        "outputId": "d4757182-0e8e-46d0-c181-d67ace856f70"
      },
      "execution_count": null,
      "outputs": [
        {
          "output_type": "execute_result",
          "data": {
            "text/plain": [
              "array([[ 4,  5,  6],\n",
              "       [10, 20, 30]])"
            ]
          },
          "metadata": {},
          "execution_count": 26
        }
      ]
    },
    {
      "cell_type": "code",
      "source": [
        "#element <10 in array\n",
        "b[b<10]"
      ],
      "metadata": {
        "colab": {
          "base_uri": "https://localhost:8080/"
        },
        "id": "rilT1RGBgdgK",
        "outputId": "ebea62b5-8d33-440c-eba2-7f0a30be0f0f"
      },
      "execution_count": null,
      "outputs": [
        {
          "output_type": "execute_result",
          "data": {
            "text/plain": [
              "array([4, 5, 6])"
            ]
          },
          "metadata": {},
          "execution_count": 28
        }
      ]
    },
    {
      "cell_type": "code",
      "source": [
        "\n",
        "#element >10 in array\n",
        "b[b>10]"
      ],
      "metadata": {
        "colab": {
          "base_uri": "https://localhost:8080/"
        },
        "id": "I-PioKvDgo9H",
        "outputId": "812c20aa-474b-4f63-b340-4cdc22b7f457"
      },
      "execution_count": null,
      "outputs": [
        {
          "output_type": "execute_result",
          "data": {
            "text/plain": [
              "array([20, 30])"
            ]
          },
          "metadata": {},
          "execution_count": 29
        }
      ]
    },
    {
      "cell_type": "code",
      "source": [
        "#flatten\n",
        "b.ravel()"
      ],
      "metadata": {
        "colab": {
          "base_uri": "https://localhost:8080/"
        },
        "id": "8q2zJqKbgtnq",
        "outputId": "33ca3347-07d1-4875-c5b4-56e893334aa5"
      },
      "execution_count": null,
      "outputs": [
        {
          "output_type": "execute_result",
          "data": {
            "text/plain": [
              "array([ 4,  5,  6, 10, 20, 30])"
            ]
          },
          "metadata": {},
          "execution_count": 30
        }
      ]
    },
    {
      "cell_type": "code",
      "source": [
        "#appending element in beginning\n",
        "n.append(9,b)"
      ],
      "metadata": {
        "colab": {
          "base_uri": "https://localhost:8080/"
        },
        "id": "Y-mkLwe1hZof",
        "outputId": "8ca1a837-ca0b-4c16-b3e3-59f7dfc9d381"
      },
      "execution_count": null,
      "outputs": [
        {
          "output_type": "execute_result",
          "data": {
            "text/plain": [
              "array([ 9,  4,  5,  6, 10, 20, 30])"
            ]
          },
          "metadata": {},
          "execution_count": 32
        }
      ]
    },
    {
      "cell_type": "code",
      "source": [
        "\n",
        "#appending element in end\n",
        "n.append(b,1)"
      ],
      "metadata": {
        "colab": {
          "base_uri": "https://localhost:8080/"
        },
        "id": "iyoyW9C2hixC",
        "outputId": "4012d6ab-1835-4dfa-f802-d7d3f8b402a5"
      },
      "execution_count": null,
      "outputs": [
        {
          "output_type": "execute_result",
          "data": {
            "text/plain": [
              "array([ 4,  5,  6, 10, 20, 30,  1])"
            ]
          },
          "metadata": {},
          "execution_count": 36
        }
      ]
    },
    {
      "cell_type": "code",
      "source": [
        "#length of array\n",
        "len(c)"
      ],
      "metadata": {
        "colab": {
          "base_uri": "https://localhost:8080/"
        },
        "id": "6Rxu30dvhmbI",
        "outputId": "c85fc805-1abd-4b97-cf1d-835aadb763a1"
      },
      "execution_count": null,
      "outputs": [
        {
          "output_type": "execute_result",
          "data": {
            "text/plain": [
              "3"
            ]
          },
          "metadata": {},
          "execution_count": 40
        }
      ]
    },
    {
      "cell_type": "code",
      "source": [
        "#datatype\n",
        "b.dtype"
      ],
      "metadata": {
        "colab": {
          "base_uri": "https://localhost:8080/"
        },
        "id": "I1V-RufdigeE",
        "outputId": "f2efd4a7-887e-4f45-935b-0884a7ce3623"
      },
      "execution_count": null,
      "outputs": [
        {
          "output_type": "execute_result",
          "data": {
            "text/plain": [
              "dtype('int64')"
            ]
          },
          "metadata": {},
          "execution_count": 41
        }
      ]
    },
    {
      "cell_type": "code",
      "source": [
        "#evelnly create values\n",
        "n.linspace(0,2,9)"
      ],
      "metadata": {
        "colab": {
          "base_uri": "https://localhost:8080/"
        },
        "id": "ngQLdGVQiqv3",
        "outputId": "dd7c9f0e-3833-467c-931b-9a666fa06422"
      },
      "execution_count": null,
      "outputs": [
        {
          "output_type": "execute_result",
          "data": {
            "text/plain": [
              "array([0.  , 0.25, 0.5 , 0.75, 1.  , 1.25, 1.5 , 1.75, 2.  ])"
            ]
          },
          "metadata": {},
          "execution_count": 43
        }
      ]
    },
    {
      "cell_type": "code",
      "source": [
        "#create an identity matrix\n",
        "n.eye(3)"
      ],
      "metadata": {
        "colab": {
          "base_uri": "https://localhost:8080/"
        },
        "id": "9DbvnncAjNA-",
        "outputId": "832aba81-5b1d-4ca3-fb4b-3b67a702cf44"
      },
      "execution_count": null,
      "outputs": [
        {
          "output_type": "execute_result",
          "data": {
            "text/plain": [
              "array([[1., 0., 0.],\n",
              "       [0., 1., 0.],\n",
              "       [0., 0., 1.]])"
            ]
          },
          "metadata": {},
          "execution_count": 45
        }
      ]
    },
    {
      "cell_type": "code",
      "source": [
        "#empty array\n",
        "n.empty((1,2))"
      ],
      "metadata": {
        "colab": {
          "base_uri": "https://localhost:8080/"
        },
        "id": "_RKZBl_fjXjt",
        "outputId": "2365a3a1-d5e8-436b-aac1-a9d73298c71d"
      },
      "execution_count": null,
      "outputs": [
        {
          "output_type": "execute_result",
          "data": {
            "text/plain": [
              "array([[1., 1.]])"
            ]
          },
          "metadata": {},
          "execution_count": 48
        }
      ]
    },
    {
      "cell_type": "code",
      "source": [
        "#zeros\n",
        "n.zeros((2,2))"
      ],
      "metadata": {
        "colab": {
          "base_uri": "https://localhost:8080/"
        },
        "id": "yhl2565VjkN3",
        "outputId": "94d44aa0-10a7-4bc5-9968-0b76360f2b52"
      },
      "execution_count": null,
      "outputs": [
        {
          "output_type": "execute_result",
          "data": {
            "text/plain": [
              "array([[0., 0.],\n",
              "       [0., 0.]])"
            ]
          },
          "metadata": {},
          "execution_count": 50
        }
      ]
    },
    {
      "cell_type": "code",
      "source": [
        "#create an array of zeros\n",
        "n.zeros((2,2))"
      ],
      "metadata": {
        "colab": {
          "base_uri": "https://localhost:8080/"
        },
        "id": "9plPEP76ju2u",
        "outputId": "82145201-4c7b-4ca4-f05d-1accb125e077"
      },
      "execution_count": null,
      "outputs": [
        {
          "output_type": "execute_result",
          "data": {
            "text/plain": [
              "array([[0., 0.],\n",
              "       [0., 0.]])"
            ]
          },
          "metadata": {},
          "execution_count": 52
        }
      ]
    },
    {
      "cell_type": "code",
      "source": [
        "#create an array of ones\n",
        "n.ones((2,2))"
      ],
      "metadata": {
        "colab": {
          "base_uri": "https://localhost:8080/"
        },
        "id": "pWzyRKTTkxXY",
        "outputId": "86f6eefe-7726-448e-fd83-2f78e32d7cb9"
      },
      "execution_count": null,
      "outputs": [
        {
          "output_type": "execute_result",
          "data": {
            "text/plain": [
              "array([[1., 1.],\n",
              "       [1., 1.]])"
            ]
          },
          "metadata": {},
          "execution_count": 53
        }
      ]
    },
    {
      "cell_type": "code",
      "source": [
        "#element wise addition\n",
        "a1=[1,2,3]\n",
        "a2=[4,5,6]\n",
        "n.add(a1,a2)"
      ],
      "metadata": {
        "colab": {
          "base_uri": "https://localhost:8080/"
        },
        "id": "2rXRk8yCufdn",
        "outputId": "c0b1caf5-3afa-40df-ac17-2512838d15c9"
      },
      "execution_count": null,
      "outputs": [
        {
          "output_type": "execute_result",
          "data": {
            "text/plain": [
              "array([5, 7, 9])"
            ]
          },
          "metadata": {},
          "execution_count": 14
        }
      ]
    },
    {
      "cell_type": "code",
      "source": [
        "#element wise subtraction\n",
        "n.subtract(a1,a2)"
      ],
      "metadata": {
        "colab": {
          "base_uri": "https://localhost:8080/"
        },
        "id": "qejMdDG8u47W",
        "outputId": "8f36d7da-d68f-42dd-f811-de58a4188681"
      },
      "execution_count": null,
      "outputs": [
        {
          "output_type": "execute_result",
          "data": {
            "text/plain": [
              "array([-3, -3, -3])"
            ]
          },
          "metadata": {},
          "execution_count": 16
        }
      ]
    },
    {
      "cell_type": "code",
      "source": [
        "#element wise multiplication\n",
        "n.multiply(a1,a2)"
      ],
      "metadata": {
        "colab": {
          "base_uri": "https://localhost:8080/"
        },
        "id": "0G00cOXBk3R-",
        "outputId": "be857c63-9d4a-452f-e9ce-e1f8c4b92597"
      },
      "execution_count": null,
      "outputs": [
        {
          "output_type": "execute_result",
          "data": {
            "text/plain": [
              "array([ 4, 10, 18])"
            ]
          },
          "metadata": {},
          "execution_count": 17
        }
      ]
    },
    {
      "cell_type": "code",
      "source": [
        "#element wise division\n",
        "n.divide(a1,a2)"
      ],
      "metadata": {
        "colab": {
          "base_uri": "https://localhost:8080/"
        },
        "id": "ecG-kJTslPpP",
        "outputId": "3c7fc21d-c8a2-4827-9511-655d2981576e"
      },
      "execution_count": null,
      "outputs": [
        {
          "output_type": "execute_result",
          "data": {
            "text/plain": [
              "array([0.25, 0.4 , 0.5 ])"
            ]
          },
          "metadata": {},
          "execution_count": 18
        }
      ]
    },
    {
      "cell_type": "code",
      "source": [
        "#square root\n",
        "n.sqrt(2)"
      ],
      "metadata": {
        "colab": {
          "base_uri": "https://localhost:8080/"
        },
        "id": "-jyflXjKlVs5",
        "outputId": "07a3970d-932f-4c87-f752-e01185b97b12"
      },
      "execution_count": null,
      "outputs": [
        {
          "output_type": "execute_result",
          "data": {
            "text/plain": [
              "1.4142135623730951"
            ]
          },
          "metadata": {},
          "execution_count": 57
        }
      ]
    },
    {
      "cell_type": "code",
      "source": [
        "#dot product of two arrays\n",
        "n.dot(a1,a2)"
      ],
      "metadata": {
        "colab": {
          "base_uri": "https://localhost:8080/"
        },
        "id": "aOfTElKyleHg",
        "outputId": "3ab8b985-e497-4b3f-a3c5-758c8a0cca59"
      },
      "execution_count": null,
      "outputs": [
        {
          "output_type": "execute_result",
          "data": {
            "text/plain": [
              "32"
            ]
          },
          "metadata": {},
          "execution_count": 19
        }
      ]
    },
    {
      "cell_type": "code",
      "source": [
        "#check for equal array\n",
        "a==b"
      ],
      "metadata": {
        "colab": {
          "base_uri": "https://localhost:8080/"
        },
        "id": "QlsiyHAOls_1",
        "outputId": "df334cc3-e8cb-470c-adf6-37a14a83cb03"
      },
      "execution_count": null,
      "outputs": [
        {
          "output_type": "stream",
          "name": "stderr",
          "text": [
            "<ipython-input-63-a6f7ccb4d5ba>:1: DeprecationWarning: elementwise comparison failed; this will raise an error in the future.\n",
            "  a==b\n"
          ]
        },
        {
          "output_type": "execute_result",
          "data": {
            "text/plain": [
              "False"
            ]
          },
          "metadata": {},
          "execution_count": 63
        }
      ]
    },
    {
      "cell_type": "code",
      "source": [
        "#inserting\n",
        "n.insert(b,1,2000)"
      ],
      "metadata": {
        "colab": {
          "base_uri": "https://localhost:8080/"
        },
        "id": "_VtksC-Rl199",
        "outputId": "a5d9a2e3-28fc-4975-bbe9-29ca07283962"
      },
      "execution_count": null,
      "outputs": [
        {
          "output_type": "execute_result",
          "data": {
            "text/plain": [
              "array([   4, 2000,    5,    6,   10,   20,   30])"
            ]
          },
          "metadata": {},
          "execution_count": 65
        }
      ]
    },
    {
      "cell_type": "code",
      "source": [
        "#stack arrays\n",
        "n.hstack((a,c))"
      ],
      "metadata": {
        "colab": {
          "base_uri": "https://localhost:8080/"
        },
        "id": "0PcG8bK3mHUp",
        "outputId": "d9f721df-d592-4fed-8c93-56e31e90b99c"
      },
      "execution_count": null,
      "outputs": [
        {
          "output_type": "execute_result",
          "data": {
            "text/plain": [
              "array([  1,   2,   3,   4,   5, 100, 200, 300])"
            ]
          },
          "metadata": {},
          "execution_count": 68
        }
      ]
    },
    {
      "cell_type": "code",
      "source": [
        "#splitting array\n",
        "n.vsplit(b,1)"
      ],
      "metadata": {
        "colab": {
          "base_uri": "https://localhost:8080/"
        },
        "id": "_xPG1i0jq2Vb",
        "outputId": "bf6cefb7-4658-4112-c60b-f71bcf544700"
      },
      "execution_count": null,
      "outputs": [
        {
          "output_type": "execute_result",
          "data": {
            "text/plain": [
              "[array([[ 4,  5,  6],\n",
              "        [10, 20, 30]])]"
            ]
          },
          "metadata": {},
          "execution_count": 72
        }
      ]
    },
    {
      "cell_type": "code",
      "source": [
        "#split the array into multiple sub arrays\n",
        "n.split(b,2)"
      ],
      "metadata": {
        "colab": {
          "base_uri": "https://localhost:8080/"
        },
        "id": "LFonCN3Dv8t7",
        "outputId": "7698cb51-3459-4dba-8a25-9e7fac048c46"
      },
      "execution_count": null,
      "outputs": [
        {
          "output_type": "execute_result",
          "data": {
            "text/plain": [
              "[array([[10, 20, 30]]), array([[4, 5, 6]])]"
            ]
          },
          "metadata": {},
          "execution_count": 23
        }
      ]
    },
    {
      "cell_type": "code",
      "source": [
        "#transpose the array\n",
        "n.transpose(b)"
      ],
      "metadata": {
        "colab": {
          "base_uri": "https://localhost:8080/"
        },
        "id": "pPQ7EBuRrMoY",
        "outputId": "a5eecd10-2f00-429a-954a-f8e41555fb03"
      },
      "execution_count": null,
      "outputs": [
        {
          "output_type": "execute_result",
          "data": {
            "text/plain": [
              "array([[10,  4],\n",
              "       [20,  5],\n",
              "       [30,  6]])"
            ]
          },
          "metadata": {},
          "execution_count": 21
        }
      ]
    },
    {
      "cell_type": "code",
      "source": [
        "#delete\n",
        "n.delete(c,[0])"
      ],
      "metadata": {
        "colab": {
          "base_uri": "https://localhost:8080/"
        },
        "id": "aMVquVCtrX-B",
        "outputId": "3451891f-b4a9-4fb9-b331-9fdabd06ed4c"
      },
      "execution_count": null,
      "outputs": [
        {
          "output_type": "execute_result",
          "data": {
            "text/plain": [
              "array([200, 300])"
            ]
          },
          "metadata": {},
          "execution_count": 4
        }
      ]
    },
    {
      "cell_type": "code",
      "source": [
        "#row wise element\n",
        "n.r_[b]"
      ],
      "metadata": {
        "colab": {
          "base_uri": "https://localhost:8080/"
        },
        "id": "lxqvPsmaw_0t",
        "outputId": "83143cb6-4a6f-44e7-cd12-00f0dee6f609"
      },
      "execution_count": null,
      "outputs": [
        {
          "output_type": "execute_result",
          "data": {
            "text/plain": [
              "array([[[10, 20, 30],\n",
              "        [40, 50, 60]],\n",
              "\n",
              "       [[ 1,  2,  3],\n",
              "        [ 4,  5,  6]]])"
            ]
          },
          "metadata": {},
          "execution_count": 10
        }
      ]
    },
    {
      "cell_type": "code",
      "source": [
        "#compute sine of each element in array\n",
        "n.sin(b)"
      ],
      "metadata": {
        "id": "501oqkcPxXXa",
        "colab": {
          "base_uri": "https://localhost:8080/"
        },
        "outputId": "c8b6584f-936c-4b7f-a5d2-2833d424335c"
      },
      "execution_count": null,
      "outputs": [
        {
          "output_type": "execute_result",
          "data": {
            "text/plain": [
              "array([[-0.54402111,  0.91294525, -0.98803162],\n",
              "       [-0.7568025 , -0.95892427, -0.2794155 ]])"
            ]
          },
          "metadata": {},
          "execution_count": 25
        }
      ]
    },
    {
      "cell_type": "code",
      "source": [
        "#compute sine of each element in array\n",
        "n.cos(b)"
      ],
      "metadata": {
        "colab": {
          "base_uri": "https://localhost:8080/"
        },
        "id": "sAT59fuAxpCR",
        "outputId": "0f60c61e-b1c4-4ede-cbc3-1b10924bdc57"
      },
      "execution_count": null,
      "outputs": [
        {
          "output_type": "execute_result",
          "data": {
            "text/plain": [
              "array([[-0.83907153,  0.40808206,  0.15425145],\n",
              "       [-0.65364362,  0.28366219,  0.96017029]])"
            ]
          },
          "metadata": {},
          "execution_count": 26
        }
      ]
    },
    {
      "cell_type": "code",
      "source": [
        "#compute sine of each element in array\n",
        "n.tan(b)"
      ],
      "metadata": {
        "colab": {
          "base_uri": "https://localhost:8080/"
        },
        "id": "S9oYRU8SxpF2",
        "outputId": "7005a592-75ea-4f21-87ec-a749c9eef095"
      },
      "execution_count": null,
      "outputs": [
        {
          "output_type": "execute_result",
          "data": {
            "text/plain": [
              "array([[ 0.64836083,  2.23716094, -6.4053312 ],\n",
              "       [ 1.15782128, -3.38051501, -0.29100619]])"
            ]
          },
          "metadata": {},
          "execution_count": 27
        }
      ]
    },
    {
      "cell_type": "code",
      "source": [
        "#arcsine function\n",
        "n.arcsin(n.array([0,0.5,1]))"
      ],
      "metadata": {
        "colab": {
          "base_uri": "https://localhost:8080/"
        },
        "id": "DhTep3prx44a",
        "outputId": "4cd18909-7bd9-4d44-a185-ece3106911ed"
      },
      "execution_count": null,
      "outputs": [
        {
          "output_type": "execute_result",
          "data": {
            "text/plain": [
              "array([0.        , 0.52359878, 1.57079633])"
            ]
          },
          "metadata": {},
          "execution_count": 6
        }
      ]
    },
    {
      "cell_type": "code",
      "source": [
        "#arccosine function\n",
        "n.arccos(n.array([0,0.5,1]))"
      ],
      "metadata": {
        "id": "rAo-oGCWyVtQ"
      },
      "execution_count": null,
      "outputs": []
    },
    {
      "cell_type": "code",
      "source": [
        "#arctan function\n",
        "n.arctan(n.array([0,0.5,1]))"
      ],
      "metadata": {
        "colab": {
          "base_uri": "https://localhost:8080/"
        },
        "id": "JaT5XZrKyxDl",
        "outputId": "c13261ff-a67a-4229-ff83-3f18f000df60"
      },
      "execution_count": null,
      "outputs": [
        {
          "output_type": "execute_result",
          "data": {
            "text/plain": [
              "array([0.        , 0.46364761, 0.78539816])"
            ]
          },
          "metadata": {},
          "execution_count": 35
        }
      ]
    },
    {
      "cell_type": "code",
      "source": [
        "#computing inverse trignometric functions\n",
        "val=n.array([-1,-0.5,-1])"
      ],
      "metadata": {
        "id": "v4cJhaqXy2uh"
      },
      "execution_count": null,
      "outputs": []
    },
    {
      "cell_type": "code",
      "source": [
        "#inverse arcsine function\n",
        "n.arcsin(val)"
      ],
      "metadata": {
        "colab": {
          "base_uri": "https://localhost:8080/"
        },
        "id": "7VlTwanQzQ86",
        "outputId": "fca9b873-07b7-48ce-e67e-58d1531469ad"
      },
      "execution_count": null,
      "outputs": [
        {
          "output_type": "execute_result",
          "data": {
            "text/plain": [
              "array([-1.57079633, -0.52359878, -1.57079633])"
            ]
          },
          "metadata": {},
          "execution_count": 37
        }
      ]
    },
    {
      "cell_type": "code",
      "source": [
        "#inverse arccosine function\n",
        "n.arccos(val)"
      ],
      "metadata": {
        "colab": {
          "base_uri": "https://localhost:8080/"
        },
        "id": "riNZt5w9zY1a",
        "outputId": "6301e7d0-237e-4ac2-ae6a-13da903d3712"
      },
      "execution_count": null,
      "outputs": [
        {
          "output_type": "execute_result",
          "data": {
            "text/plain": [
              "array([3.14159265, 2.0943951 , 3.14159265])"
            ]
          },
          "metadata": {},
          "execution_count": 38
        }
      ]
    },
    {
      "cell_type": "code",
      "source": [
        "#inverse arctane function\n",
        "n.arctan(val)"
      ],
      "metadata": {
        "colab": {
          "base_uri": "https://localhost:8080/"
        },
        "id": "EzoNFD8lzkRS",
        "outputId": "765fb505-6a18-47d9-ebf8-bae2f429d7cc"
      },
      "execution_count": null,
      "outputs": [
        {
          "output_type": "execute_result",
          "data": {
            "text/plain": [
              "array([-0.78539816, -0.46364761, -0.78539816])"
            ]
          },
          "metadata": {},
          "execution_count": 39
        }
      ]
    },
    {
      "cell_type": "code",
      "source": [
        "# Compute the 10th, 50th, and 90th percentiles\n",
        "percentiles = n.percentile(arr, [10, 50, 90])\n",
        "\n",
        "print(\"Percentiles:\", percentiles)"
      ],
      "metadata": {
        "id": "ouPP8ca8zpQs",
        "colab": {
          "base_uri": "https://localhost:8080/"
        },
        "outputId": "fc6fffdb-d307-4097-bd57-9a5ce3af19b4"
      },
      "execution_count": null,
      "outputs": [
        {
          "output_type": "stream",
          "name": "stdout",
          "text": [
            "Percentiles: [1.4 3.  4.6]\n"
          ]
        }
      ]
    },
    {
      "cell_type": "code",
      "source": [
        "# Create two arrays\n",
        "arr1 = n.array([True, False, True])\n",
        "arr2 = n.array([False, True, True])"
      ],
      "metadata": {
        "id": "qcoGcYLj4VBk"
      },
      "execution_count": null,
      "outputs": []
    },
    {
      "cell_type": "code",
      "source": [
        "\n",
        "# Element-wise AND\n",
        "result_and = arr1 & arr2\n",
        "print(\"Element-wise AND:\", result_and)"
      ],
      "metadata": {
        "colab": {
          "base_uri": "https://localhost:8080/"
        },
        "id": "omdwOr_n4gJ8",
        "outputId": "66a11ad2-bca6-4d79-d2a7-10fb90ba7525"
      },
      "execution_count": null,
      "outputs": [
        {
          "output_type": "stream",
          "name": "stdout",
          "text": [
            "Element-wise AND: [False False  True]\n"
          ]
        }
      ]
    },
    {
      "cell_type": "code",
      "source": [
        "# Element-wise OR\n",
        "result_or = arr1 | arr2\n",
        "print(\"Element-wise OR:\", result_or)"
      ],
      "metadata": {
        "colab": {
          "base_uri": "https://localhost:8080/"
        },
        "id": "4-KLcB324j6T",
        "outputId": "ed9ee02c-d778-4569-d183-12728d0fa32b"
      },
      "execution_count": null,
      "outputs": [
        {
          "output_type": "stream",
          "name": "stdout",
          "text": [
            "Element-wise OR: [ True  True  True]\n"
          ]
        }
      ]
    },
    {
      "cell_type": "code",
      "source": [
        "# Element-wise NOT\n",
        "result_not = ~arr1\n",
        "print(\"Element-wise NOT:\", result_not)"
      ],
      "metadata": {
        "colab": {
          "base_uri": "https://localhost:8080/"
        },
        "id": "HzmE1bWH4nZn",
        "outputId": "760abc1a-ed03-4de0-d182-2aae0618f39e"
      },
      "execution_count": null,
      "outputs": [
        {
          "output_type": "stream",
          "name": "stdout",
          "text": [
            "Element-wise NOT: [False  True False]\n"
          ]
        }
      ]
    },
    {
      "cell_type": "code",
      "source": [
        "A = n.array([[1, 2], [3, 4]])\n",
        "B = n.array([[5, 6], [7, 8]])"
      ],
      "metadata": {
        "id": "FnLZHiIx8x-b"
      },
      "execution_count": null,
      "outputs": []
    },
    {
      "cell_type": "code",
      "source": [
        "#printing inverse of the matrix\n",
        "A_inverse = n.linalg.inv(A)\n",
        "print(\"Matrix Inverse:\")\n",
        "print(A_inverse)"
      ],
      "metadata": {
        "colab": {
          "base_uri": "https://localhost:8080/"
        },
        "id": "r6_PxhdM82NX",
        "outputId": "d8b2a4f2-7e76-448a-d04d-be170b88d85a"
      },
      "execution_count": null,
      "outputs": [
        {
          "output_type": "stream",
          "name": "stdout",
          "text": [
            "Matrix Inverse:\n",
            "[[-2.   1. ]\n",
            " [ 1.5 -0.5]]\n"
          ]
        }
      ]
    },
    {
      "cell_type": "code",
      "source": [
        "#eigen values& vectors of the matrix\n",
        "eigenvalues, eigenvectors = n.linalg.eig(A)\n",
        "print(\"Eigenvalues:\")\n",
        "print(eigenvalues)\n",
        "print(\"Eigenvectors:\")\n",
        "print(eigenvectors)"
      ],
      "metadata": {
        "colab": {
          "base_uri": "https://localhost:8080/"
        },
        "id": "ggywApOD9A2y",
        "outputId": "7b88655f-0881-4005-dc15-ea3ed5aa5ff1"
      },
      "execution_count": null,
      "outputs": [
        {
          "output_type": "stream",
          "name": "stdout",
          "text": [
            "Eigenvalues:\n",
            "[-0.37228132  5.37228132]\n",
            "Eigenvectors:\n",
            "[[-0.82456484 -0.41597356]\n",
            " [ 0.56576746 -0.90937671]]\n"
          ]
        }
      ]
    },
    {
      "cell_type": "code",
      "source": [
        "#determinant of the matrix\n",
        "det_A = n.linalg.det(A)\n",
        "print(\"Determinant of A:\", det_A)"
      ],
      "metadata": {
        "colab": {
          "base_uri": "https://localhost:8080/"
        },
        "id": "dD3PYdjP9RQh",
        "outputId": "89f43d7b-a377-47cc-a2d3-850ec1eb87b6"
      },
      "execution_count": null,
      "outputs": [
        {
          "output_type": "stream",
          "name": "stdout",
          "text": [
            "Determinant of A: -2.0000000000000004\n"
          ]
        }
      ]
    },
    {
      "cell_type": "code",
      "source": [
        "# Create an array\n",
        "arr = n.array([1, 2, 3, 4, 5])\n",
        "# Save the array to a binary file\n",
        "n.save('saved_array.npy', arr)"
      ],
      "metadata": {
        "id": "Yhs-eBy29kvh"
      },
      "execution_count": null,
      "outputs": []
    },
    {
      "cell_type": "code",
      "source": [
        "# Load the array from the binary file\n",
        "loaded_arr = n.load('saved_array.npy')\n",
        "\n",
        "print(\"Original Array:\", arr)\n",
        "print(\"Loaded Array:\", loaded_arr)"
      ],
      "metadata": {
        "id": "WXQfgDzf9rSg",
        "outputId": "68931256-6797-4dfe-b358-b37a80b8fbbe",
        "colab": {
          "base_uri": "https://localhost:8080/"
        }
      },
      "execution_count": null,
      "outputs": [
        {
          "output_type": "stream",
          "name": "stdout",
          "text": [
            "Original Array: [1 2 3 4 5]\n",
            "Loaded Array: [1 2 3 4 5]\n"
          ]
        }
      ]
    }
  ]
}